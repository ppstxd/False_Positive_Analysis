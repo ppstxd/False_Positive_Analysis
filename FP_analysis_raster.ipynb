{
 "cells": [
  {
   "cell_type": "markdown",
   "id": "ce3d3583",
   "metadata": {},
   "source": [
    "# <b><u>False Positive Analysis and Cleaning<b><u>"
   ]
  },
  {
   "cell_type": "markdown",
   "id": "c89e11e7-b120-4bed-bf88-12fbd27017f2",
   "metadata": {},
   "source": [
    "This script offers a cleaning approach for falsly predicted crop pixels using a Random Forest Model which is trained on labeled training data."
   ]
  },
  {
   "cell_type": "markdown",
   "id": "5781cb3c-5cf1-4201-84ee-484f39f28585",
   "metadata": {},
   "source": [
    "### Load necessary packages"
   ]
  },
  {
   "cell_type": "code",
   "execution_count": 5,
   "id": "054700f0",
   "metadata": {},
   "outputs": [
    {
     "data": {
      "text/html": [
       "\n",
       "            <style>\n",
       "                .geemap-dark {\n",
       "                    --jp-widgets-color: white;\n",
       "                    --jp-widgets-label-color: white;\n",
       "                    --jp-ui-font-color1: white;\n",
       "                    --jp-layout-color2: #454545;\n",
       "                    background-color: #383838;\n",
       "                }\n",
       "\n",
       "                .geemap-dark .jupyter-button {\n",
       "                    --jp-layout-color3: #383838;\n",
       "                }\n",
       "\n",
       "                .geemap-colab {\n",
       "                    background-color: var(--colab-primary-surface-color, white);\n",
       "                }\n",
       "\n",
       "                .geemap-colab .jupyter-button {\n",
       "                    --jp-layout-color3: var(--colab-primary-surface-color, white);\n",
       "                }\n",
       "            </style>\n",
       "            "
      ],
      "text/plain": [
       "<IPython.core.display.HTML object>"
      ]
     },
     "metadata": {},
     "output_type": "display_data"
    }
   ],
   "source": [
    "# Standard library imports\n",
    "import math\n",
    "import os\n",
    "import random\n",
    "import shutil\n",
    "import tempfile\n",
    "import gc\n",
    "import json\n",
    "import heapq\n",
    "from collections import defaultdict\n",
    "from itertools import product\n",
    "\n",
    "# Third-party geospatial and data handling\n",
    "import ee\n",
    "import geemap\n",
    "import geopandas as gpd\n",
    "import rasterio\n",
    "from rasterio.warp import calculate_default_transform, reproject, Resampling\n",
    "from rasterio.windows import Window\n",
    "from osgeo import gdal, gdalconst, osr\n",
    "import numpy as np\n",
    "import pandas as pd\n",
    "\n",
    "# Visualization\n",
    "import matplotlib.pyplot as plt\n",
    "import seaborn as sns\n",
    "\n",
    "# Geometry and spatial analysis\n",
    "from shapely.geometry import Point\n",
    "from scipy.spatial import cKDTree\n",
    "from scipy.ndimage import distance_transform_edt, binary_dilation, label, binary_erosion, find_objects\n",
    "\n",
    "# Machine learning and model evaluation\n",
    "from sklearn.ensemble import RandomForestClassifier\n",
    "from sklearn.impute import SimpleImputer\n",
    "from sklearn.model_selection import RandomizedSearchCV, train_test_split\n",
    "from sklearn.metrics import accuracy_score, classification_report, confusion_matrix, ConfusionMatrixDisplay\n",
    "\n",
    "# Utilities and optimization\n",
    "import joblib\n",
    "from tqdm import tqdm\n",
    "from scipy.stats import randint, uniform"
   ]
  },
  {
   "cell_type": "markdown",
   "id": "832dcd37-99da-490f-87ae-5b81dac5fb3f",
   "metadata": {},
   "source": [
    "# **Section 1: Reclassify Rasters and create Sampling Points**"
   ]
  },
  {
   "cell_type": "markdown",
   "id": "6f6f4246",
   "metadata": {},
   "source": [
    "#### Step 1: Reclassify Predicted Fractional Map to low frequency and high frequency crop field "
   ]
  },
  {
   "cell_type": "code",
   "execution_count": null,
   "id": "64f84413",
   "metadata": {},
   "outputs": [],
   "source": [
    "# Input merged Raster\n",
    "prediction_raster = \"/home/airg/PSteinhilber/projects/angola/prediction/merged_fractional_map_new.tif\""
   ]
  },
  {
   "cell_type": "code",
   "execution_count": null,
   "id": "9bd7b126",
   "metadata": {},
   "outputs": [],
   "source": [
    "output_dir = \"/home/airg/PSteinhilber/projects/angola/prediction/FP_Analysis_Raster\"\n",
    "os.makedirs(output_dir, exist_ok=True)  # Create directory if missing\n",
    "output_path = os.path.join(output_dir, \"crop_frequency_reclass_new.tif\")"
   ]
  },
  {
   "cell_type": "code",
   "execution_count": null,
   "id": "451f1704",
   "metadata": {},
   "outputs": [],
   "source": [
    "# Open input raster\n",
    "src_ds = gdal.Open(prediction_raster)\n",
    "band = src_ds.GetRasterBand(1)\n",
    "xsize = band.XSize\n",
    "ysize = band.YSize\n",
    "\n",
    "# Create output raster with same dimensions and projection\n",
    "driver = gdal.GetDriverByName('GTiff')\n",
    "dst_ds = driver.Create(\n",
    "    output_path, xsize, ysize, 1, gdal.GDT_Byte,\n",
    "    options=['COMPRESS=LZW', 'BIGTIFF=YES']\n",
    ")\n",
    "dst_ds.SetProjection(src_ds.GetProjection())\n",
    "dst_ds.SetGeoTransform(src_ds.GetGeoTransform())\n",
    "out_band = dst_ds.GetRasterBand(1)\n",
    "out_band.SetNoDataValue(0)\n",
    "\n",
    "# Optimize block size based on raster structure\n",
    "block_sizes = band.GetBlockSize()\n",
    "x_block_size = block_sizes[0]\n",
    "y_block_size = block_sizes[1]\n",
    "\n",
    "# Process raster in blocks\n",
    "for y in range(0, ysize, y_block_size):\n",
    "    if y + y_block_size < ysize:\n",
    "        rows = y_block_size\n",
    "    else:\n",
    "        rows = ysize - y\n",
    "        \n",
    "    for x in range(0, xsize, x_block_size):\n",
    "        if x + x_block_size < xsize:\n",
    "            cols = x_block_size\n",
    "        else:\n",
    "            cols = xsize - x\n",
    "\n",
    "        # Read block\n",
    "        data = band.ReadAsArray(x, y, cols, rows)\n",
    "        \n",
    "        # Reclassify using vectorized operations\n",
    "        reclassified = np.full(data.shape, 0, dtype=np.uint8)  # Initialize with NoData\n",
    "        mask_low = (data > 0) & (data <= 50)\n",
    "        mask_high = data > 50\n",
    "        reclassified[mask_low] = 1\n",
    "        reclassified[mask_high] = 2\n",
    "        \n",
    "        # Write block\n",
    "        out_band.WriteArray(reclassified, x, y)\n",
    "\n",
    "# Finalize output\n",
    "dst_ds.FlushCache()\n",
    "dst_ds = None\n",
    "src_ds = None"
   ]
  },
  {
   "cell_type": "markdown",
   "id": "f4a19d42-5dd1-429c-a27e-64acea64bd2b",
   "metadata": {},
   "source": [
    "### Step 2: Create Crop Mask using 4 Crop Layers (ESRI Cropland, UMD GLAD, ESA, GFSAD)"
   ]
  },
  {
   "cell_type": "code",
   "execution_count": null,
   "id": "32dbea66-6f88-4346-b6fd-9ba77c6c46ef",
   "metadata": {},
   "outputs": [],
   "source": [
    "# Initialize Earth Engine\n",
    "ee.Initialize()\n",
    "\n",
    "# Load Angola tiles asset\n",
    "angola_tiles = ee.FeatureCollection('projects/angola-thesis/assets/angola_tiles_dissolve')\n",
    "\n",
    "# ESRI 2023 Cropland\n",
    "esri_2023 = (ee.ImageCollection(\"projects/sat-io/open-datasets/landcover/ESRI_Global-LULC_10m_TS\")\n",
    "    .filterDate('2023-01-01', '2023-12-31')\n",
    "    .mosaic()\n",
    "    .clip(angola_tiles)\n",
    "    .eq(5)\n",
    "    .rename('esri_crop')\n",
    "    .toByte())\n",
    "\n",
    "# UMD GLAD 2019 Cropland\n",
    "umd_cropland = (ee.ImageCollection(\"users/potapovpeter/Global_cropland_2019\")\n",
    "    .filterBounds(angola_tiles)\n",
    "    .mosaic()\n",
    "    .clip(angola_tiles)\n",
    "    .eq(1)\n",
    "    .rename('umd_crop')\n",
    "    .toByte())\n",
    "\n",
    "# ESA WorldCover 2021 Cropland\n",
    "esa_cropland = (ee.ImageCollection(\"ESA/WorldCover/v200\")\n",
    "    .first()\n",
    "    .clip(angola_tiles)\n",
    "    .eq(40)\n",
    "    .rename('esa_crop')\n",
    "    .toByte())\n",
    "\n",
    "# GFSAD30 2015 Cropland\n",
    "gfsad_cropland = (ee.ImageCollection(\"projects/sat-io/open-datasets/GFSAD/GCEP30\")\n",
    "    .mosaic()\n",
    "    .clip(angola_tiles)\n",
    "    .eq(2)\n",
    "    .rename('gfsad_crop')\n",
    "    .toByte())\n",
    "\n",
    "# Invert all cropland masks\n",
    "esri_non_crop = esri_2023.Not().rename('esri_non')\n",
    "umd_non_crop = umd_cropland.Not().rename('umd_non')\n",
    "esa_non_crop = esa_cropland.Not().rename('esa_non')\n",
    "gfsad_non_crop = gfsad_cropland.Not().rename('gfsad_non')\n",
    "\n",
    "# Combine inverted masks\n",
    "combined_non = (esri_non_crop\n",
    "                .add(umd_non_crop)\n",
    "                .add(esa_non_crop)\n",
    "                .add(gfsad_non_crop)\n",
    "                .clip(angola_tiles)\n",
    "                .rename('non_crop_agreement'))\n",
    "\n",
    "# Rescale combined layer (0-1, then 0-100)\n",
    "rescaled = (combined_non\n",
    "            .divide(4)\n",
    "            .rename('rescaled_agreement')\n",
    "            .multiply(100)\n",
    "            .toInt8())\n",
    "\n",
    "# Define Angola bounding box and split\n",
    "minLon = 11.65452499950938\n",
    "maxLon = 24.06347641355087\n",
    "minLat = -18.06447613052441\n",
    "maxLat = -4.355525027108801\n",
    "midLon = (minLon + maxLon) / 2\n",
    "\n",
    "west = ee.Geometry.Rectangle([minLon, minLat, midLon, maxLat])\n",
    "east = ee.Geometry.Rectangle([midLon, minLat, maxLon, maxLat])\n",
    "\n",
    "# Print area for verification\n",
    "west_area = west.area().getInfo() / 1e6\n",
    "east_area = east.area().getInfo() / 1e6\n",
    "print(f\"West area (km²): {west_area:.2f}\")\n",
    "print(f\"East area (km²): {east_area:.2f}\")\n",
    "\n",
    "# Visualization\n",
    "#Map = geemap.Map(center=[-12, 17], zoom=6)\n",
    "#Map.addLayer(rescaled, {'min': 0, 'max': 100, 'palette': ['#00FF00', '#FF0000']}, 'Rescaled Agreement 0-1')\n",
    "#Map.addLayer(west, {}, 'West Part')\n",
    "#Map.addLayer(east, {}, 'East Part')\n",
    "#Map\n",
    "\n",
    "# Export to Google Drive\n",
    "task_west = ee.batch.Export.image.toDrive(\n",
    "    image=rescaled.clip(west),\n",
    "    description='Angola_West',\n",
    "    folder='Thesis',\n",
    "    fileNamePrefix='angola_west',\n",
    "    region=west,\n",
    "    scale=10,\n",
    "    maxPixels=1e13,\n",
    "    fileFormat='GeoTIFF',\n",
    "    formatOptions={'cloudOptimized': True}\n",
    ")\n",
    "task_east = ee.batch.Export.image.toDrive(\n",
    "    image=rescaled.clip(east),\n",
    "    description='Angola_East',\n",
    "    folder='Thesis',\n",
    "    fileNamePrefix='angola_east',\n",
    "    region=east,\n",
    "    scale=10,\n",
    "    maxPixels=1e13,\n",
    "    fileFormat='GeoTIFF',\n",
    "    formatOptions={'cloudOptimized': True}\n",
    ")\n",
    "# Start export tasks\n",
    "# task_west.start()\n",
    "# task_east.start()\n",
    "print(\"Exports started. Check your GEE Tasks tab.\")"
   ]
  },
  {
   "cell_type": "markdown",
   "id": "25a55e07",
   "metadata": {},
   "source": [
    "### Step 3: Reclassify Land Cover Crop Raster to 3 classes: 0 (all agree non-crop), 1 (1-2 agree it's crop), 2 (3-4 agree it's crop)"
   ]
  },
  {
   "cell_type": "code",
   "execution_count": null,
   "id": "f6465563",
   "metadata": {},
   "outputs": [],
   "source": [
    "input_path = r\"C:\\Users\\phili\\Thesis\\tmp\\no_crop_mask\\non_crop_mask_final.tif\"\n",
    "output_dir = r\"C:\\Users\\phili\\Thesis\\tmp\\false_positive_analysis\\FP_Raster_output\"\n",
    "os.makedirs(output_dir, exist_ok=True)\n",
    "output_path = os.path.join(output_dir, \"landcover_crop_reclass.tif\")"
   ]
  },
  {
   "cell_type": "code",
   "execution_count": null,
   "id": "53efa32c",
   "metadata": {},
   "outputs": [],
   "source": [
    "with rasterio.open(input_path) as src:\n",
    "    profile = src.profile.copy()\n",
    "    profile.update(\n",
    "        dtype='uint8',\n",
    "        nodata=255,\n",
    "        compress='lzw'\n",
    "    )\n",
    "    \n",
    "    with rasterio.open(output_path, 'w', **profile) as dst:\n",
    "        # Process raster in 512x512 blocks\n",
    "        for ji, window in src.block_windows(1):\n",
    "            data = src.read(1, window=window)\n",
    "            \n",
    "            # Initialize output with NoData (255)\n",
    "            reclassified = np.full_like(data, 255, dtype='uint8')\n",
    "            \n",
    "            # Exact value reclassification\n",
    "            reclassified[data == 100] = 0    # Class 0\n",
    "            reclassified[data == 75] = 1     # Class 1\n",
    "            reclassified[data == 50] = 1     # Class 1\n",
    "            reclassified[data == 25] = 2     # Class 2\n",
    "            reclassified[data == 0] = 2      # Class 2\n",
    "            \n",
    "            dst.write(reclassified, window=window, indexes=1)"
   ]
  },
  {
   "cell_type": "markdown",
   "id": "0aa012ad",
   "metadata": {},
   "source": [
    "### Step 4: Intersect both Maps"
   ]
  },
  {
   "cell_type": "code",
   "execution_count": null,
   "id": "e90512d0",
   "metadata": {},
   "outputs": [],
   "source": [
    "# Input paths\n",
    "crop_freq_path = \"/home/airg/PSteinhilber/projects/angola/prediction/FP_Analysis_Raster/crop_frequency_reclass.tif\"\n",
    "lc_path = \"/home/airg/PSteinhilber/projects/angola/prediction/FP_Analysis_Raster/landcover_crop_reclass.tif\"\n",
    "output_path = \"/home/airg/PSteinhilber/projects/angola/prediction/FP_Analysis_Raster/intersect_fractional_lc.tif\""
   ]
  },
  {
   "cell_type": "code",
   "execution_count": null,
   "id": "ca118db4-70e8-4ba9-97cd-c39ea964af7a",
   "metadata": {},
   "outputs": [],
   "source": [
    "# Configure GDAL for big datasets\n",
    "gdal.SetConfigOption('GDAL_DISABLE_READDIR_ON_OPEN', 'YES')\n",
    "gdal.SetConfigOption('CHECK_DISK_FREE_SPACE', 'NO')\n",
    "gdal.SetConfigOption('GDAL_NUM_THREADS', 'ALL_CPUS')\n",
    "\n",
    "# Open datasets\n",
    "crop_ds = gdal.OpenEx(crop_freq_path, gdalconst.GA_ReadOnly)\n",
    "lc_ds = gdal.OpenEx(lc_path, gdalconst.GA_ReadOnly)\n",
    "\n",
    "# Get crop raster parameters\n",
    "crop_gt = crop_ds.GetGeoTransform()\n",
    "crop_proj = crop_ds.GetProjection()\n",
    "cols = crop_ds.RasterXSize\n",
    "rows = crop_ds.RasterYSize\n",
    "\n",
    "# Create output with compression\n",
    "driver = gdal.GetDriverByName('GTiff')\n",
    "output_ds = driver.Create(\n",
    "    output_path, cols, rows, 1, gdalconst.GDT_Byte,\n",
    "    options=['COMPRESS=LZW', 'PREDICTOR=2', 'TILED=YES', 'BIGTIFF=YES', 'BLOCKXSIZE=256', 'BLOCKYSIZE=256']\n",
    ")\n",
    "output_ds.SetGeoTransform(crop_gt)\n",
    "output_ds.SetProjection(crop_proj)\n",
    "output_band = output_ds.GetRasterBand(1)\n",
    "output_band.SetNoDataValue(0)\n",
    "\n",
    "# Process in blocks with exact dimension matching\n",
    "block_size = 1024  # Keep this as-is\n",
    "total_blocks = ((rows + block_size - 1) // block_size) * ((cols + block_size - 1) // block_size)\n",
    "\n",
    "with tqdm(total=total_blocks, desc=\"Processing\", unit=\"block\") as pbar:\n",
    "    for y_offset in range(0, rows, block_size):\n",
    "        y_height = min(block_size, rows - y_offset)\n",
    "        \n",
    "        for x_offset in range(0, cols, block_size):\n",
    "            x_width = min(block_size, cols - x_offset)\n",
    "            \n",
    "            # Read crop frequency block\n",
    "            crop_block = crop_ds.GetRasterBand(1).ReadAsArray(x_offset, y_offset, x_width, y_height)\n",
    "            \n",
    "            # Calculate exact bounds for this block\n",
    "            x_min = crop_gt[0] + x_offset * crop_gt[1]\n",
    "            y_max = crop_gt[3] + y_offset * crop_gt[5]\n",
    "            x_max = x_min + x_width * crop_gt[1]\n",
    "            y_min = y_max + y_height * crop_gt[5]\n",
    "            \n",
    "            # Warp LC data with EXPLICIT output dimensions\n",
    "            lc_block = gdal.Warp('', lc_path,\n",
    "                format='MEM',\n",
    "                outputBounds=(x_min, y_min, x_max, y_max),\n",
    "                xRes=crop_gt[1],\n",
    "                yRes=abs(crop_gt[5]),\n",
    "                width=x_width,  # Force exact dimension match\n",
    "                height=y_height,\n",
    "                resampleAlg=gdalconst.GRA_NearestNeighbour,\n",
    "                outputType=gdalconst.GDT_Byte\n",
    "            ).ReadAsArray()\n",
    "            \n",
    "            # Verify block shapes match\n",
    "            if crop_block.shape != lc_block.shape:\n",
    "                raise ValueError(f\"Block shape mismatch at ({x_offset},{y_offset}): {crop_block.shape} vs {lc_block.shape}\")\n",
    "            \n",
    "            # Calculate output classes\n",
    "            output_data = np.zeros_like(crop_block, dtype=np.uint8)\n",
    "            \n",
    "            # Class mapping with explicit casting\n",
    "            output_data = output_data.astype(np.uint8)\n",
    "            output_data[(crop_block == 1) & (lc_block == 0)] = 1\n",
    "            output_data[(crop_block == 1) & (lc_block == 1)] = 2\n",
    "            output_data[(crop_block == 1) & (lc_block == 2)] = 3\n",
    "            output_data[(crop_block == 2) & (lc_block == 0)] = 4\n",
    "            output_data[(crop_block == 2) & (lc_block == 1)] = 5\n",
    "            output_data[(crop_block == 2) & (lc_block == 2)] = 6\n",
    "            \n",
    "            # Write output with exact window\n",
    "            output_band.WriteArray(output_data, xoff=x_offset, yoff=y_offset)\n",
    "            pbar.update(1)\n",
    "\n",
    "# Cleanup\n",
    "output_ds = None\n",
    "crop_ds = None\n",
    "lc_ds = None\n",
    "\n",
    "print(f\"✅ Success! Output created at: {output_path}\")"
   ]
  },
  {
   "cell_type": "markdown",
   "id": "a06a4fc4",
   "metadata": {},
   "source": [
    "### Step 5: Sample Points within each class"
   ]
  },
  {
   "cell_type": "code",
   "execution_count": 13,
   "id": "187e625a",
   "metadata": {},
   "outputs": [
    {
     "data": {
      "text/html": [
       "\n",
       "            <style>\n",
       "                .geemap-dark {\n",
       "                    --jp-widgets-color: white;\n",
       "                    --jp-widgets-label-color: white;\n",
       "                    --jp-ui-font-color1: white;\n",
       "                    --jp-layout-color2: #454545;\n",
       "                    background-color: #383838;\n",
       "                }\n",
       "\n",
       "                .geemap-dark .jupyter-button {\n",
       "                    --jp-layout-color3: #383838;\n",
       "                }\n",
       "\n",
       "                .geemap-colab {\n",
       "                    background-color: var(--colab-primary-surface-color, white);\n",
       "                }\n",
       "\n",
       "                .geemap-colab .jupyter-button {\n",
       "                    --jp-layout-color3: var(--colab-primary-surface-color, white);\n",
       "                }\n",
       "            </style>\n",
       "            "
      ],
      "text/plain": [
       "<IPython.core.display.HTML object>"
      ]
     },
     "metadata": {},
     "output_type": "display_data"
    }
   ],
   "source": [
    "raster_path = \"/home/airg/PSteinhilber/projects/angola/prediction/FP_Analysis_Raster/intersect_fractional_lc.tif\"\n",
    "output_path = \"/home/airg/PSteinhilber/projects/angola/prediction/FP_Analysis_Raster/sampling_points.gpkg\""
   ]
  },
  {
   "cell_type": "code",
   "execution_count": null,
   "id": "64e1016c",
   "metadata": {},
   "outputs": [],
   "source": [
    "def count_classes_blocked(raster_path):\n",
    "    \"\"\"Count pixels per class with progress tracking\"\"\"\n",
    "    ds = gdal.Open(raster_path, gdal.GA_ReadOnly)\n",
    "    band = ds.GetRasterBand(1)\n",
    "    nodata = band.GetNoDataValue()\n",
    "    xsize, ysize = band.XSize, band.YSize\n",
    "    block_x, block_y = band.GetBlockSize()\n",
    "    \n",
    "    counts = {}\n",
    "    total_blocks = ((ysize + block_y - 1) // block_y) * ((xsize + block_x - 1) // block_x)\n",
    "    \n",
    "    with tqdm(total=total_blocks, desc=\"Counting classes\", unit=\"block\") as pbar:\n",
    "        for y in range(0, ysize, block_y):\n",
    "            y_height = min(block_y, ysize - y)\n",
    "            for x in range(0, xsize, block_x):\n",
    "                x_width = min(block_x, xsize - x)\n",
    "                data = band.ReadAsArray(x, y, x_width, y_height)\n",
    "                \n",
    "                if nodata is not None:\n",
    "                    data = data[data != nodata]\n",
    "                \n",
    "                unique, counts_chunk = np.unique(data, return_counts=True)\n",
    "                for val, cnt in zip(unique, counts_chunk):\n",
    "                    if val == 0:  # Skip NoData\n",
    "                        continue\n",
    "                    counts[val] = counts.get(val, 0) + int(cnt)\n",
    "                \n",
    "                pbar.update(1)\n",
    "    \n",
    "    ds = None\n",
    "    return counts"
   ]
  },
  {
   "cell_type": "code",
   "execution_count": null,
   "id": "ad918890-6a61-49c1-aa05-3d56a7a85866",
   "metadata": {},
   "outputs": [],
   "source": [
    "# Count classes\n",
    "class_counts = count_classes_blocked(intersect_raster)\n",
    "print(\"Pixel counts per class:\", class_counts)"
   ]
  },
  {
   "cell_type": "code",
   "execution_count": null,
   "id": "b4656a94-7594-4a00-888d-35a39a7a278f",
   "metadata": {},
   "outputs": [],
   "source": [
    "# Use pre-calculated pixel counts\n",
    "pixel_counts = {3: 431784025, 1: 15857486835, 4: 6093596578, \n",
    "                5: 3622280348, 2: 3342416411, 6: 1171686069}\n",
    "total_pixels = sum(pixel_counts.values())\n",
    "\n",
    "# Calculate proportional samples\n",
    "samples_per_class = {\n",
    "    cls: max(1, ceil((count / total_pixels) * 300)) \n",
    "    for cls, count in pixel_counts.items()\n",
    "}"
   ]
  },
  {
   "cell_type": "code",
   "execution_count": null,
   "id": "88c5f11e-4c45-4ec0-8cd2-a1e926880082",
   "metadata": {},
   "outputs": [],
   "source": [
    "def calculate_samples(pixel_counts, total_samples=300):\n",
    "    total = sum(pixel_counts.values())\n",
    "    samples = {\n",
    "        cls: max(1, int(round((count / total) * total_samples)))\n",
    "        for cls, count in pixel_counts.items()\n",
    "    }\n",
    "    # Adjust to exact total\n",
    "    current_total = sum(samples.values())\n",
    "    if current_total != total_samples:\n",
    "        adjust_cls = max(samples, key=lambda k: samples[k])\n",
    "        samples[adjust_cls] += (total_samples - current_total)\n",
    "    return samples"
   ]
  },
  {
   "cell_type": "code",
   "execution_count": null,
   "id": "74581579-22c8-4c0e-a395-44fadcff26fa",
   "metadata": {},
   "outputs": [],
   "source": [
    "def random_pixel_sampling(raster_path, samples_per_class, max_attempts=1000000, min_distance_deg=0.001):\n",
    "    with rasterio.open(raster_path) as src:\n",
    "        height, width = src.height, src.width\n",
    "        classes_needed = samples_per_class.copy()\n",
    "        found_points = defaultdict(list)\n",
    "        found_coords = []\n",
    "\n",
    "        total_needed = sum(classes_needed.values())\n",
    "        attempts = 0\n",
    "\n",
    "        # For progress bar\n",
    "        pbar = tqdm(total=total_needed, desc=\"Random sampling\", unit=\"pt\")\n",
    "\n",
    "        while sum(classes_needed.values()) > 0 and attempts < max_attempts:\n",
    "            # Random pixel\n",
    "            row = random.randint(0, height - 1)\n",
    "            col = random.randint(0, width - 1)\n",
    "            val = src.read(1, window=rasterio.windows.Window(col, row, 1, 1))[0, 0]\n",
    "\n",
    "            # Only sample if this class still needs points\n",
    "            if val in classes_needed and classes_needed[val] > 0:\n",
    "                # Convert to lon/lat\n",
    "                lon, lat = src.xy(row, col)\n",
    "                pt = Point(lon, lat)\n",
    "\n",
    "                # Check minimum distance constraint\n",
    "                too_close = False\n",
    "                for other_pt in found_coords:\n",
    "                    if pt.distance(other_pt) < min_distance_deg:\n",
    "                        too_close = True\n",
    "                        break\n",
    "                if too_close:\n",
    "                    attempts += 1\n",
    "                    continue\n",
    "\n",
    "                found_points[val].append(pt)\n",
    "                found_coords.append(pt)\n",
    "                classes_needed[val] -= 1\n",
    "                pbar.update(1)\n",
    "            attempts += 1\n",
    "\n",
    "        pbar.close()\n",
    "\n",
    "        # Flatten to GeoDataFrame\n",
    "        data = []\n",
    "        for cls, pts in found_points.items():\n",
    "            for pt in pts:\n",
    "                data.append({'class': cls, 'geometry': pt})\n",
    "        gdf = gpd.GeoDataFrame(data, crs='EPSG:4326')\n",
    "\n",
    "        if sum(classes_needed.values()) > 0:\n",
    "            print(f\"Warning: Could not find all samples. Missing: {classes_needed}\")\n",
    "\n",
    "        return gdf"
   ]
  },
  {
   "cell_type": "code",
   "execution_count": null,
   "id": "0ce4988a-24c3-424f-9779-9b9c76b065c0",
   "metadata": {},
   "outputs": [],
   "source": [
    "def main():\n",
    "    samples = calculate_samples(pixel_counts)\n",
    "    print(\"Samples per class:\", samples)\n",
    "    gdf = random_pixel_sampling(raster_path, samples, min_distance_deg=0.001)  # ~100m at equator\n",
    "    gdf.to_file(output_path, driver=\"GPKG\")\n",
    "    print(f\"Saved {len(gdf)} points to {output_path}\")\n",
    "\n",
    "if __name__ == \"__main__\":\n",
    "    main()"
   ]
  },
  {
   "cell_type": "markdown",
   "id": "5ddacb6f-bb47-4c04-bcf4-7610283d1f0a",
   "metadata": {},
   "source": [
    "#### Step 5.1: Add extra sampling points to make sample more balanced (Optional)"
   ]
  },
  {
   "cell_type": "code",
   "execution_count": 29,
   "id": "bd7ee20c-6f10-40c7-9062-c2776847e88b",
   "metadata": {},
   "outputs": [
    {
     "data": {
      "text/html": [
       "\n",
       "            <style>\n",
       "                .geemap-dark {\n",
       "                    --jp-widgets-color: white;\n",
       "                    --jp-widgets-label-color: white;\n",
       "                    --jp-ui-font-color1: white;\n",
       "                    --jp-layout-color2: #454545;\n",
       "                    background-color: #383838;\n",
       "                }\n",
       "\n",
       "                .geemap-dark .jupyter-button {\n",
       "                    --jp-layout-color3: #383838;\n",
       "                }\n",
       "\n",
       "                .geemap-colab {\n",
       "                    background-color: var(--colab-primary-surface-color, white);\n",
       "                }\n",
       "\n",
       "                .geemap-colab .jupyter-button {\n",
       "                    --jp-layout-color3: var(--colab-primary-surface-color, white);\n",
       "                }\n",
       "            </style>\n",
       "            "
      ],
      "text/plain": [
       "<IPython.core.display.HTML object>"
      ]
     },
     "metadata": {},
     "output_type": "display_data"
    },
    {
     "name": "stderr",
     "output_type": "stream",
     "text": [
      "Sampling class 6: 100%|███████████████████████████████████████████████████████████████| 100/100 [01:02<00:00,  1.60pt/s]\n"
     ]
    },
    {
     "name": "stdout",
     "output_type": "stream",
     "text": [
      "Successfully created extended dataset with 400 points\n"
     ]
    }
   ],
   "source": [
    "def add_class6_samples():\n",
    "    # Path configurations\n",
    "    existing_path = \"/home/airg/PSteinhilber/projects/angola/prediction/FP_Analysis_Raster/sampling_points.gpkg\"\n",
    "    output_path_extended = \"/home/airg/PSteinhilber/projects/angola/prediction/FP_Analysis_Raster/sampling_points_extended.gpkg\"\n",
    "    \n",
    "    # Read existing points\n",
    "    existing_gdf = gpd.read_file(existing_path)\n",
    "    \n",
    "    # Generate 100 new samples for class 6 with distance checks against existing points\n",
    "    samples = {6: 100}\n",
    "    \n",
    "    # Modified sampling function with existing coordinates check\n",
    "    def class6_sampling(raster_path, samples_per_class, existing_coords, min_distance_deg=0.001):\n",
    "        with rasterio.open(raster_path) as src:\n",
    "            height, width = src.height, src.width\n",
    "            classes_needed = samples_per_class.copy()\n",
    "            found_points = []\n",
    "            found_coords = [pt for pt in existing_coords]  # Start with existing points\n",
    "\n",
    "            pbar = tqdm(total=samples_per_class[6], desc=\"Sampling class 6\", unit=\"pt\")\n",
    "            attempts = 0\n",
    "            \n",
    "            while classes_needed[6] > 0 and attempts < 1000000:\n",
    "                row = random.randint(0, height - 1)\n",
    "                col = random.randint(0, width - 1)\n",
    "                val = src.read(1, window=rasterio.windows.Window(col, row, 1, 1))[0, 0]\n",
    "\n",
    "                if val == 6:\n",
    "                    lon, lat = src.xy(row, col)\n",
    "                    pt = Point(lon, lat)\n",
    "                    \n",
    "                    # Check against all existing and new points\n",
    "                    too_close = any(pt.distance(other) < min_distance_deg for other in found_coords)\n",
    "                    \n",
    "                    if not too_close:\n",
    "                        found_points.append({'class': 6, 'geometry': pt})\n",
    "                        found_coords.append(pt)\n",
    "                        classes_needed[6] -= 1\n",
    "                        pbar.update(1)\n",
    "                        \n",
    "                    attempts += 1\n",
    "\n",
    "            pbar.close()\n",
    "            return gpd.GeoDataFrame(found_points, crs='EPSG:4326')\n",
    "\n",
    "    # Get existing coordinates for distance checks\n",
    "    existing_coords = existing_gdf.geometry.tolist()\n",
    "    \n",
    "    # Generate new points\n",
    "    new_gdf = class6_sampling(raster_path, samples, existing_coords)\n",
    "    \n",
    "    # Combine with existing data\n",
    "    combined_gdf = gpd.pd.concat([existing_gdf, new_gdf], ignore_index=True)\n",
    "    \n",
    "    # Save extended dataset\n",
    "    combined_gdf.to_file(output_path_extended, driver=\"GPKG\")\n",
    "    print(f\"Successfully created extended dataset with {len(combined_gdf)} points\")\n",
    "\n",
    "# Execute the addition\n",
    "add_class6_samples()"
   ]
  },
  {
   "cell_type": "markdown",
   "id": "f9cd1ace-441e-41f2-ab8d-1d4ee4349a42",
   "metadata": {},
   "source": [
    "#### Step 5.2: Add 100 extra points based on prediction raster (After creating RF Model Prediction) (Optional)"
   ]
  },
  {
   "cell_type": "code",
   "execution_count": 16,
   "id": "c6161e40-4a3b-437a-bba8-4289395d2cab",
   "metadata": {},
   "outputs": [
    {
     "data": {
      "text/html": [
       "\n",
       "            <style>\n",
       "                .geemap-dark {\n",
       "                    --jp-widgets-color: white;\n",
       "                    --jp-widgets-label-color: white;\n",
       "                    --jp-ui-font-color1: white;\n",
       "                    --jp-layout-color2: #454545;\n",
       "                    background-color: #383838;\n",
       "                }\n",
       "\n",
       "                .geemap-dark .jupyter-button {\n",
       "                    --jp-layout-color3: #383838;\n",
       "                }\n",
       "\n",
       "                .geemap-colab {\n",
       "                    background-color: var(--colab-primary-surface-color, white);\n",
       "                }\n",
       "\n",
       "                .geemap-colab .jupyter-button {\n",
       "                    --jp-layout-color3: var(--colab-primary-surface-color, white);\n",
       "                }\n",
       "            </style>\n",
       "            "
      ],
      "text/plain": [
       "<IPython.core.display.HTML object>"
      ]
     },
     "metadata": {},
     "output_type": "display_data"
    },
    {
     "name": "stdout",
     "output_type": "stream",
     "text": [
      "Extracting 'class' value for new points...\n",
      "Extraction complete. Value counts for 'class':\n",
      "5    43\n",
      "1    41\n",
      "4    10\n",
      "6     5\n",
      "2     1\n",
      "Name: class, dtype: int64\n",
      "✅ Added 100 new points to /home/airg/PSteinhilber/projects/angola/prediction/FP_Analysis_Raster/sampling_points_ext_rf.shp with FIDs 401 to 500 and extracted 'class' values.\n"
     ]
    }
   ],
   "source": [
    "# ========= CONFIGURATION =========\n",
    "rf_raster = \"/home/airg/PSteinhilber/projects/angola/prediction/FP_Analysis_Raster/RF_Model/model_output/rf_full_prediction.tif\"\n",
    "EXISTING_POINTS_PATH = \"/home/airg/PSteinhilber/projects/angola/prediction/FP_Analysis_Raster/sampling_points_labeled_extended.shp\"\n",
    "OUTPUT_PATH = \"/home/airg/PSteinhilber/projects/angola/prediction/FP_Analysis_Raster/sampling_points_ext_rf.shp\"\n",
    "NUM_POINTS = 100  # Total new points\n",
    "MIN_DISTANCE = 50  # Minimum distance to nearest existing point (meters)\n",
    "DENSITY_RADIUS = 70000  # Check density within this radius (meters)\n",
    "MAX_DENSITY = 3  # Max allowed existing points in DENSITY_RADIUS\n",
    "# =================================\n",
    "\n",
    "# Load main raster metadata (no array)\n",
    "ds = gdal.Open(rf_raster)\n",
    "band = ds.GetRasterBand(1)\n",
    "transform = ds.GetGeoTransform()\n",
    "nodata = band.GetNoDataValue()\n",
    "x_size = ds.RasterXSize\n",
    "y_size = ds.RasterYSize\n",
    "\n",
    "# Get raster CRS\n",
    "srs = osr.SpatialReference()\n",
    "srs.ImportFromWkt(ds.GetProjection())\n",
    "raster_crs = srs.ExportToProj4()\n",
    "\n",
    "# Load existing points and build spatial index\n",
    "gdf = gpd.read_file(EXISTING_POINTS_PATH).to_crs(raster_crs)\n",
    "existing_coords = np.array([(geom.x, geom.y) for geom in gdf.geometry])\n",
    "tree = cKDTree(existing_coords) if len(existing_coords) > 0 else None\n",
    "\n",
    "def generate_points(target_value, num_points):\n",
    "    points = []\n",
    "    attempts = 0\n",
    "    max_attempts = num_points * 2000\n",
    "    while len(points) < num_points and attempts < max_attempts:\n",
    "        x = random.randint(0, x_size - 1)\n",
    "        y = random.randint(0, y_size - 1)\n",
    "        pixel_value = band.ReadAsArray(xoff=x, yoff=y, win_xsize=1, win_ysize=1)[0, 0]\n",
    "        if pixel_value == target_value and pixel_value != nodata:\n",
    "            geo_x = transform[0] + (x + 0.5) * transform[1]\n",
    "            geo_y = transform[3] + (y + 0.5) * transform[5]\n",
    "            new_point = Point(geo_x, geo_y)\n",
    "            if tree is None:\n",
    "                points.append(new_point)\n",
    "                continue\n",
    "            min_dist, _ = tree.query([(geo_x, geo_y)], k=1)\n",
    "            if min_dist[0] < MIN_DISTANCE:\n",
    "                attempts += 1\n",
    "                continue\n",
    "            neighbors = tree.query_ball_point([(geo_x, geo_y)], DENSITY_RADIUS)\n",
    "            if len(neighbors[0]) <= MAX_DENSITY:\n",
    "                points.append(new_point)\n",
    "        attempts += 1\n",
    "    return points\n",
    "\n",
    "# Generate points\n",
    "new_points_class0 = generate_points(0, NUM_POINTS//2)\n",
    "new_points_class1 = generate_points(1, NUM_POINTS//2)\n",
    "new_points = new_points_class0 + new_points_class1\n",
    "\n",
    "# Create GeoDataFrame for new points\n",
    "new_gdf = gpd.GeoDataFrame(geometry=new_points, crs=raster_crs)\n",
    "\n",
    "# Assign new FIDs starting from the max existing FID + 1\n",
    "max_fid = int(gdf['fid'].max()) if 'fid' in gdf.columns else 0\n",
    "new_gdf['fid'] = range(max_fid + 1, max_fid + 1 + len(new_gdf))\n",
    "\n",
    "# Open the class raster and set up for extraction\n",
    "class_ds = gdal.Open(raster_path)\n",
    "if not class_ds:\n",
    "    raise RuntimeError(\"Could not open class raster!\")\n",
    "class_band = class_ds.GetRasterBand(1)\n",
    "class_transform = class_ds.GetGeoTransform()\n",
    "class_nodata = class_band.GetNoDataValue()\n",
    "class_xsize = class_ds.RasterXSize\n",
    "class_ysize = class_ds.RasterYSize\n",
    "raster_crs_wkt = class_ds.GetProjection()\n",
    "\n",
    "# Reproject new points to class raster CRS for extraction\n",
    "new_gdf = new_gdf.to_crs(raster_crs_wkt)\n",
    "\n",
    "def extract_raster_value(point):\n",
    "    x, y = point.x, point.y\n",
    "    px = int((x - class_transform[0]) / class_transform[1])\n",
    "    py = int((y - class_transform[3]) / class_transform[5])\n",
    "    if px < 0 or px >= class_xsize or py < 0 or py >= class_ysize:\n",
    "        print(f\"Point {x},{y} out of raster bounds ({px},{py})\")\n",
    "        return None\n",
    "    val = class_band.ReadAsArray(px, py, 1, 1)[0, 0]\n",
    "    if val == class_nodata:\n",
    "        print(f\"Point {x},{y} is nodata in class raster\")\n",
    "        return None\n",
    "    return val\n",
    "\n",
    "# Assign the raster value to the 'class' column\n",
    "print(\"Extracting 'class' value for new points...\")\n",
    "new_gdf['class'] = [extract_raster_value(pt) for pt in new_gdf.geometry]\n",
    "print(\"Extraction complete. Value counts for 'class':\")\n",
    "print(new_gdf['class'].value_counts(dropna=False))\n",
    "\n",
    "# Reproject new_gdf back to original CRS for saving\n",
    "new_gdf = new_gdf.to_crs(gdf.crs)\n",
    "\n",
    "# Match original CRS for output and append to existing\n",
    "combined_gdf = gpd.GeoDataFrame(\n",
    "    pd.concat([gdf, new_gdf], ignore_index=True),\n",
    "    crs=gdf.crs\n",
    ")\n",
    "\n",
    "combined_gdf.to_file(OUTPUT_PATH)\n",
    "print(f\"✅ Added {len(new_points)} new points to {OUTPUT_PATH} with FIDs {max_fid + 1} to {max_fid + len(new_gdf)} and extracted 'class' values.\")"
   ]
  },
  {
   "cell_type": "markdown",
   "id": "1a990548-1345-41a5-a882-a5acd1192453",
   "metadata": {},
   "source": [
    "<br>\n",
    "\n",
    "---\n",
    "\n",
    "<br>"
   ]
  },
  {
   "cell_type": "markdown",
   "id": "1f2279e6-8fe9-4afa-bb8a-f3becce2dc72",
   "metadata": {},
   "source": [
    "# **Section 2: Sampling in Google Earth Engine**"
   ]
  },
  {
   "cell_type": "markdown",
   "id": "79e769ca-d3fb-44a6-9db3-41ce40be8278",
   "metadata": {},
   "source": [
    "### Connect to GEE"
   ]
  },
  {
   "cell_type": "code",
   "execution_count": 2,
   "id": "375c2eaa-8774-4994-b1f6-c17e26e7b09c",
   "metadata": {},
   "outputs": [
    {
     "data": {
      "text/html": [
       "\n",
       "            <style>\n",
       "                .geemap-dark {\n",
       "                    --jp-widgets-color: white;\n",
       "                    --jp-widgets-label-color: white;\n",
       "                    --jp-ui-font-color1: white;\n",
       "                    --jp-layout-color2: #454545;\n",
       "                    background-color: #383838;\n",
       "                }\n",
       "\n",
       "                .geemap-dark .jupyter-button {\n",
       "                    --jp-layout-color3: #383838;\n",
       "                }\n",
       "\n",
       "                .geemap-colab {\n",
       "                    background-color: var(--colab-primary-surface-color, white);\n",
       "                }\n",
       "\n",
       "                .geemap-colab .jupyter-button {\n",
       "                    --jp-layout-color3: var(--colab-primary-surface-color, white);\n",
       "                }\n",
       "            </style>\n",
       "            "
      ],
      "text/plain": [
       "<IPython.core.display.HTML object>"
      ]
     },
     "metadata": {},
     "output_type": "display_data"
    }
   ],
   "source": [
    "ee.Authenticate()\n",
    "# Initialize the Earth Engine API and Project\n",
    "ee.Initialize(project='angola-thesis')"
   ]
  },
  {
   "cell_type": "code",
   "execution_count": 3,
   "id": "de54e194-f8ef-4f36-b23f-9bd89975a9c6",
   "metadata": {},
   "outputs": [
    {
     "data": {
      "text/html": [
       "\n",
       "            <style>\n",
       "                .geemap-dark {\n",
       "                    --jp-widgets-color: white;\n",
       "                    --jp-widgets-label-color: white;\n",
       "                    --jp-ui-font-color1: white;\n",
       "                    --jp-layout-color2: #454545;\n",
       "                    background-color: #383838;\n",
       "                }\n",
       "\n",
       "                .geemap-dark .jupyter-button {\n",
       "                    --jp-layout-color3: #383838;\n",
       "                }\n",
       "\n",
       "                .geemap-colab {\n",
       "                    background-color: var(--colab-primary-surface-color, white);\n",
       "                }\n",
       "\n",
       "                .geemap-colab .jupyter-button {\n",
       "                    --jp-layout-color3: var(--colab-primary-surface-color, white);\n",
       "                }\n",
       "            </style>\n",
       "            "
      ],
      "text/plain": [
       "<IPython.core.display.HTML object>"
      ]
     },
     "metadata": {},
     "output_type": "display_data"
    },
    {
     "name": "stdout",
     "output_type": "stream",
     "text": [
      "500\n"
     ]
    }
   ],
   "source": [
    "# Load sampling points \n",
    "points = ee.FeatureCollection('projects/angola-thesis/assets/sampling_points_ext_rf_labeled')\n",
    "\n",
    "angola = ee.FeatureCollection('projects/angola-thesis/assets/angola_tiles_dissolve')\n",
    "\n",
    "# Check if assets exist\n",
    "print(points.size().getInfo())"
   ]
  },
  {
   "cell_type": "markdown",
   "id": "14a430a6-29fa-45a8-a938-216a34957eff",
   "metadata": {},
   "source": [
    "## Load Predictor Variables"
   ]
  },
  {
   "cell_type": "markdown",
   "id": "328a5bbc-18ff-4245-ba54-2e352c3e8529",
   "metadata": {},
   "source": [
    "#### DEM"
   ]
  },
  {
   "cell_type": "code",
   "execution_count": 4,
   "id": "679b81c6-3f73-4e7c-a029-68a71a71424f",
   "metadata": {},
   "outputs": [
    {
     "data": {
      "text/html": [
       "\n",
       "            <style>\n",
       "                .geemap-dark {\n",
       "                    --jp-widgets-color: white;\n",
       "                    --jp-widgets-label-color: white;\n",
       "                    --jp-ui-font-color1: white;\n",
       "                    --jp-layout-color2: #454545;\n",
       "                    background-color: #383838;\n",
       "                }\n",
       "\n",
       "                .geemap-dark .jupyter-button {\n",
       "                    --jp-layout-color3: #383838;\n",
       "                }\n",
       "\n",
       "                .geemap-colab {\n",
       "                    background-color: var(--colab-primary-surface-color, white);\n",
       "                }\n",
       "\n",
       "                .geemap-colab .jupyter-button {\n",
       "                    --jp-layout-color3: var(--colab-primary-surface-color, white);\n",
       "                }\n",
       "            </style>\n",
       "            "
      ],
      "text/plain": [
       "<IPython.core.display.HTML object>"
      ]
     },
     "metadata": {},
     "output_type": "display_data"
    }
   ],
   "source": [
    "# ALOS DSM with forced projection\n",
    "alos = ee.ImageCollection('JAXA/ALOS/AW3D30/V4_1') \\\n",
    "         .mosaic() \\\n",
    "         .reproject('EPSG:4326', scale=30) \\\n",
    "         .select('DSM') \\\n",
    "         .clip(angola)\n",
    "\n",
    "# High-res slope calculation\n",
    "slope = ee.Terrain.slope(alos) \\\n",
    "        .reproject('EPSG:4326', scale=30) \\\n",
    "        .rename('Slope')\n",
    "\n",
    "# High-res TPI calculation\n",
    "tpi = alos.subtract(\n",
    "    alos.reduceNeighborhood(\n",
    "        reducer=ee.Reducer.mean(),\n",
    "        kernel=ee.Kernel.fixed(3, 3, [\n",
    "            [1, 1, 1],\n",
    "            [1, 1, 1],\n",
    "            [1, 1, 1]\n",
    "        ])\n",
    "    ).reproject('EPSG:4326', scale=30)\n",
    ").rename('TPI')"
   ]
  },
  {
   "cell_type": "markdown",
   "id": "5a817893-426b-4ebc-95d8-e559441f1638",
   "metadata": {},
   "source": [
    "#### Soil Texture"
   ]
  },
  {
   "cell_type": "code",
   "execution_count": 5,
   "id": "03982f55-d2b6-4fa8-b665-bb4492ba4fa4",
   "metadata": {},
   "outputs": [
    {
     "data": {
      "text/html": [
       "\n",
       "            <style>\n",
       "                .geemap-dark {\n",
       "                    --jp-widgets-color: white;\n",
       "                    --jp-widgets-label-color: white;\n",
       "                    --jp-ui-font-color1: white;\n",
       "                    --jp-layout-color2: #454545;\n",
       "                    background-color: #383838;\n",
       "                }\n",
       "\n",
       "                .geemap-dark .jupyter-button {\n",
       "                    --jp-layout-color3: #383838;\n",
       "                }\n",
       "\n",
       "                .geemap-colab {\n",
       "                    background-color: var(--colab-primary-surface-color, white);\n",
       "                }\n",
       "\n",
       "                .geemap-colab .jupyter-button {\n",
       "                    --jp-layout-color3: var(--colab-primary-surface-color, white);\n",
       "                }\n",
       "            </style>\n",
       "            "
      ],
      "text/plain": [
       "<IPython.core.display.HTML object>"
      ]
     },
     "metadata": {},
     "output_type": "display_data"
    }
   ],
   "source": [
    "# Soil Texture (250m)\n",
    "soil = ee.Image('OpenLandMap/SOL/SOL_TEXTURE-CLASS_USDA-TT_M/v02') \\\n",
    "    .select('b0').rename('soil_texture')"
   ]
  },
  {
   "cell_type": "markdown",
   "id": "f2544414-f055-4c0e-be58-4ee277b22da1",
   "metadata": {},
   "source": [
    "#### Evapotranspiration + Precipitation"
   ]
  },
  {
   "cell_type": "code",
   "execution_count": 6,
   "id": "ffc29b51-abc7-4959-a490-31148531d480",
   "metadata": {},
   "outputs": [
    {
     "data": {
      "text/html": [
       "\n",
       "            <style>\n",
       "                .geemap-dark {\n",
       "                    --jp-widgets-color: white;\n",
       "                    --jp-widgets-label-color: white;\n",
       "                    --jp-ui-font-color1: white;\n",
       "                    --jp-layout-color2: #454545;\n",
       "                    background-color: #383838;\n",
       "                }\n",
       "\n",
       "                .geemap-dark .jupyter-button {\n",
       "                    --jp-layout-color3: #383838;\n",
       "                }\n",
       "\n",
       "                .geemap-colab {\n",
       "                    background-color: var(--colab-primary-surface-color, white);\n",
       "                }\n",
       "\n",
       "                .geemap-colab .jupyter-button {\n",
       "                    --jp-layout-color3: var(--colab-primary-surface-color, white);\n",
       "                }\n",
       "            </style>\n",
       "            "
      ],
      "text/plain": [
       "<IPython.core.display.HTML object>"
      ]
     },
     "metadata": {},
     "output_type": "display_data"
    }
   ],
   "source": [
    "# MODIS Evapotranspiration (500m)\n",
    "et = ee.ImageCollection('MODIS/061/MOD16A2') \\\n",
    "    .filterDate('2018-01-01', '2023-12-31') \\\n",
    "    .select('ET') \\\n",
    "    .mean() \\\n",
    "    .multiply(0.1)  # Scale factor\n",
    "# Ends 2023\n",
    "\n",
    "# CHIRPS Precipitation (5km)\n",
    "precip = ee.ImageCollection('UCSB-CHG/CHIRPS/DAILY') \\\n",
    "    .filterDate('2018-01-01', '2024-12-31') \\\n",
    "    .sum() \\\n",
    "    .rename('Precip')\n",
    "\n",
    "# Compute Aridity Index (Precipitation/ET)\n",
    "aridity = precip.divide(et).rename('Aridity')"
   ]
  },
  {
   "cell_type": "markdown",
   "id": "6856e187-8c82-4730-8be7-d30e6760df3b",
   "metadata": {},
   "source": [
    "#### S2 EVI"
   ]
  },
  {
   "cell_type": "code",
   "execution_count": 7,
   "id": "ab4da9ce-43b7-4d0c-aba0-959b101ac9cb",
   "metadata": {},
   "outputs": [
    {
     "data": {
      "text/html": [
       "\n",
       "            <style>\n",
       "                .geemap-dark {\n",
       "                    --jp-widgets-color: white;\n",
       "                    --jp-widgets-label-color: white;\n",
       "                    --jp-ui-font-color1: white;\n",
       "                    --jp-layout-color2: #454545;\n",
       "                    background-color: #383838;\n",
       "                }\n",
       "\n",
       "                .geemap-dark .jupyter-button {\n",
       "                    --jp-layout-color3: #383838;\n",
       "                }\n",
       "\n",
       "                .geemap-colab {\n",
       "                    background-color: var(--colab-primary-surface-color, white);\n",
       "                }\n",
       "\n",
       "                .geemap-colab .jupyter-button {\n",
       "                    --jp-layout-color3: var(--colab-primary-surface-color, white);\n",
       "                }\n",
       "            </style>\n",
       "            "
      ],
      "text/plain": [
       "<IPython.core.display.HTML object>"
      ]
     },
     "metadata": {},
     "output_type": "display_data"
    }
   ],
   "source": [
    "def add_evi_band():\n",
    "    s2 = ee.ImageCollection('COPERNICUS/S2_SR_HARMONIZED') \\\n",
    "        .filterBounds(angola) \\\n",
    "        .filterDate('2024-01-01', '2024-12-31') \\\n",
    "        .filter(ee.Filter.lt('CLOUDY_PIXEL_PERCENTAGE', 20)) \\\n",
    "        .median()\n",
    "    # EVI formula for Sentinel-2: 2.5 * (NIR - RED) / (NIR + 6*RED - 7.5*BLUE + 1)\n",
    "    evi = s2.expression(\n",
    "        '2.5 * ((NIR - RED) / (NIR + 6 * RED - 7.5 * BLUE + 1))',\n",
    "        {\n",
    "            'NIR': s2.select('B8'),\n",
    "            'RED': s2.select('B4'),\n",
    "            'BLUE': s2.select('B2')\n",
    "        }\n",
    "    ).rename('EVI')\n",
    "    return evi\n",
    "\n",
    "evi_band = add_evi_band()\n"
   ]
  },
  {
   "cell_type": "markdown",
   "id": "30f32b03-eb05-46e3-ab10-c9cfaf4e065c",
   "metadata": {},
   "source": [
    "#### Landcover"
   ]
  },
  {
   "cell_type": "code",
   "execution_count": 8,
   "id": "0b2dcb6c-6373-49dc-ae06-39bb0f93254e",
   "metadata": {},
   "outputs": [
    {
     "data": {
      "text/html": [
       "\n",
       "            <style>\n",
       "                .geemap-dark {\n",
       "                    --jp-widgets-color: white;\n",
       "                    --jp-widgets-label-color: white;\n",
       "                    --jp-ui-font-color1: white;\n",
       "                    --jp-layout-color2: #454545;\n",
       "                    background-color: #383838;\n",
       "                }\n",
       "\n",
       "                .geemap-dark .jupyter-button {\n",
       "                    --jp-layout-color3: #383838;\n",
       "                }\n",
       "\n",
       "                .geemap-colab {\n",
       "                    background-color: var(--colab-primary-surface-color, white);\n",
       "                }\n",
       "\n",
       "                .geemap-colab .jupyter-button {\n",
       "                    --jp-layout-color3: var(--colab-primary-surface-color, white);\n",
       "                }\n",
       "            </style>\n",
       "            "
      ],
      "text/plain": [
       "<IPython.core.display.HTML object>"
      ]
     },
     "metadata": {},
     "output_type": "display_data"
    }
   ],
   "source": [
    "# ESA WorldCover (10m)\n",
    "landcover_esa = ee.ImageCollection('ESA/WorldCover/v200') \\\n",
    "    .filterDate('2020-01-01', '2024-12-31') \\\n",
    "    .first() \\\n",
    "    .rename('landcover_esa')\n",
    "\n",
    "# Create built-up (50) mask (2021)\n",
    "mask = landcover_esa.neq(50).rename('built_up_mask')"
   ]
  },
  {
   "cell_type": "markdown",
   "id": "41e22b3e-bd98-4038-805b-b32ebd3154e0",
   "metadata": {},
   "source": [
    "#### Sentinel-1 Mean"
   ]
  },
  {
   "cell_type": "code",
   "execution_count": 22,
   "id": "eff2bf2b-6fd2-4d82-ba0e-f917d3488fae",
   "metadata": {},
   "outputs": [
    {
     "data": {
      "text/html": [
       "\n",
       "            <style>\n",
       "                .geemap-dark {\n",
       "                    --jp-widgets-color: white;\n",
       "                    --jp-widgets-label-color: white;\n",
       "                    --jp-ui-font-color1: white;\n",
       "                    --jp-layout-color2: #454545;\n",
       "                    background-color: #383838;\n",
       "                }\n",
       "\n",
       "                .geemap-dark .jupyter-button {\n",
       "                    --jp-layout-color3: #383838;\n",
       "                }\n",
       "\n",
       "                .geemap-colab {\n",
       "                    background-color: var(--colab-primary-surface-color, white);\n",
       "                }\n",
       "\n",
       "                .geemap-colab .jupyter-button {\n",
       "                    --jp-layout-color3: var(--colab-primary-surface-color, white);\n",
       "                }\n",
       "            </style>\n",
       "            "
      ],
      "text/plain": [
       "<IPython.core.display.HTML object>"
      ]
     },
     "metadata": {},
     "output_type": "display_data"
    }
   ],
   "source": [
    "def add_sentinel1_vv_mean():\n",
    "    sentinel1 = ee.ImageCollection('COPERNICUS/S1_GRD') \\\n",
    "        .filterBounds(angola) \\\n",
    "        .filterDate('2021-01-01', '2024-12-31') \\\n",
    "        .filter(ee.Filter.listContains('transmitterReceiverPolarisation', 'VV')) \\\n",
    "        .filter(ee.Filter.eq('instrumentMode', 'IW')) \\\n",
    "        .select('VV') \\\n",
    "        .median() \\\n",
    "        .clip(angola) \\\n",
    "        .rename('S1_VV_Mean')\n",
    "    return sentinel1\n",
    "\n",
    "s1_vv_mean = add_sentinel1_vv_mean()"
   ]
  },
  {
   "cell_type": "markdown",
   "id": "759ecc0e-416f-4d1b-9b37-bb989163db5a",
   "metadata": {},
   "source": [
    "### Stack all Layers"
   ]
  },
  {
   "cell_type": "code",
   "execution_count": 24,
   "id": "e47b9499-da48-4791-b3b5-71d1f37b1b9b",
   "metadata": {},
   "outputs": [
    {
     "data": {
      "text/html": [
       "\n",
       "            <style>\n",
       "                .geemap-dark {\n",
       "                    --jp-widgets-color: white;\n",
       "                    --jp-widgets-label-color: white;\n",
       "                    --jp-ui-font-color1: white;\n",
       "                    --jp-layout-color2: #454545;\n",
       "                    background-color: #383838;\n",
       "                }\n",
       "\n",
       "                .geemap-dark .jupyter-button {\n",
       "                    --jp-layout-color3: #383838;\n",
       "                }\n",
       "\n",
       "                .geemap-colab {\n",
       "                    background-color: var(--colab-primary-surface-color, white);\n",
       "                }\n",
       "\n",
       "                .geemap-colab .jupyter-button {\n",
       "                    --jp-layout-color3: var(--colab-primary-surface-color, white);\n",
       "                }\n",
       "            </style>\n",
       "            "
      ],
      "text/plain": [
       "<IPython.core.display.HTML object>"
      ]
     },
     "metadata": {},
     "output_type": "display_data"
    },
    {
     "name": "stdout",
     "output_type": "stream",
     "text": [
      "Bands in full_stack_10m: ['Elevation', 'Slope', 'TPI', 'ET', 'Aridity', 'Precip', 'EVI', 'S1_VV_Mean']\n"
     ]
    },
    {
     "data": {
      "text/plain": [
       "\"\\nfor band in band_names:\\n    scale = full_stack_10m.select(band).projection().nominalScale().getInfo()\\n    print(f'{band}: {scale} meters')\\n\""
      ]
     },
     "execution_count": 24,
     "metadata": {},
     "output_type": "execute_result"
    }
   ],
   "source": [
    "# --- Helper functions ---\n",
    "def prep_continuous(img):\n",
    "    return img.resample('bilinear').reproject(crs='EPSG:32733', scale=10)\n",
    "\n",
    "def prep_categorical(img):\n",
    "    return img.reproject(crs='EPSG:32733', scale=10)  # Nearest neighbor by default\n",
    "\n",
    "# --- Prepare high-res (10m) bands ---\n",
    "elevation = prep_continuous(alos.rename('Elevation'))\n",
    "slope_r = prep_continuous(slope)\n",
    "tpi_r = prep_continuous(tpi)\n",
    "evi = prep_continuous(evi_band)\n",
    "sentinel_1_r = prep_categorical(s1_vv_mean)\n",
    "# --- Prepare med-res (250m, upsample to 10m) ---\n",
    "#soil_texture_r = prep_categorical(soil.rename('soil_texture'))\n",
    "et_r = prep_continuous(et)\n",
    "aridity_r = prep_continuous(aridity)\n",
    "\n",
    "# --- Prepare low-res (5km, upsample to 10m) ---\n",
    "precip_r = prep_continuous(precip)\n",
    "\n",
    "# --- Stack all bands together ---\n",
    "full_stack_10m = (\n",
    "    \n",
    "    elevation\n",
    "    .addBands(slope_r)\n",
    "    .addBands(tpi_r)\n",
    "    .addBands(et_r)\n",
    "    .addBands(aridity_r)\n",
    "    .addBands(precip_r)\n",
    "    .addBands(evi)\n",
    "    .addBands(sentinel_1_r)\n",
    ")\n",
    "# --- Verify all bands are at 10m ---\n",
    "band_names = full_stack_10m.bandNames().getInfo()\n",
    "print('Bands in full_stack_10m:', band_names)\n",
    "'''\n",
    "for band in band_names:\n",
    "    scale = full_stack_10m.select(band).projection().nominalScale().getInfo()\n",
    "    print(f'{band}: {scale} meters')\n",
    "'''"
   ]
  },
  {
   "cell_type": "markdown",
   "id": "f990e04e-72ba-4da4-b70d-0ff99aa925e5",
   "metadata": {},
   "source": [
    "### Extract values based on sampling points"
   ]
  },
  {
   "cell_type": "code",
   "execution_count": 25,
   "id": "8afad626-0f06-4f6a-9365-e327bb931b38",
   "metadata": {},
   "outputs": [
    {
     "data": {
      "text/html": [
       "\n",
       "            <style>\n",
       "                .geemap-dark {\n",
       "                    --jp-widgets-color: white;\n",
       "                    --jp-widgets-label-color: white;\n",
       "                    --jp-ui-font-color1: white;\n",
       "                    --jp-layout-color2: #454545;\n",
       "                    background-color: #383838;\n",
       "                }\n",
       "\n",
       "                .geemap-dark .jupyter-button {\n",
       "                    --jp-layout-color3: #383838;\n",
       "                }\n",
       "\n",
       "                .geemap-colab {\n",
       "                    background-color: var(--colab-primary-surface-color, white);\n",
       "                }\n",
       "\n",
       "                .geemap-colab .jupyter-button {\n",
       "                    --jp-layout-color3: var(--colab-primary-surface-color, white);\n",
       "                }\n",
       "            </style>\n",
       "            "
      ],
      "text/plain": [
       "<IPython.core.display.HTML object>"
      ]
     },
     "metadata": {},
     "output_type": "display_data"
    }
   ],
   "source": [
    "def optimized_extraction(points):\n",
    "    # Extract ALL bands at 10m resolution in one step\n",
    "    extracted_data = full_stack_10m.select([\n",
    "        'Elevation', 'Slope', 'TPI',\n",
    "        'ET', 'Aridity', 'Precip', 'EVI', 'S1_VV_Mean'\n",
    "    ]).reduceRegions(\n",
    "        collection=points,\n",
    "        reducer=ee.Reducer.first(),\n",
    "        scale=10  # Single scale for all bands\n",
    "    )\n",
    "    return extracted_data\n",
    "\n",
    "# Usage remains the same\n",
    "training_data = optimized_extraction(points)"
   ]
  },
  {
   "cell_type": "markdown",
   "id": "842d78e8-1db6-469c-8229-83cf6f773968",
   "metadata": {},
   "source": [
    "<br>\n",
    "\n",
    "---\n",
    "\n",
    "<br>"
   ]
  },
  {
   "cell_type": "markdown",
   "id": "385b74bc-6822-46ab-a1ea-e722f6012745",
   "metadata": {},
   "source": [
    "# **Section 3: Extract Predictors for Entire Study Area based on Tiles in  and Build RF Model**"
   ]
  },
  {
   "cell_type": "markdown",
   "id": "fad3f684-6f4e-4f9d-9446-77a4729ffd4d",
   "metadata": {},
   "source": [
    "### Load Tiles in GEE"
   ]
  },
  {
   "cell_type": "code",
   "execution_count": 26,
   "id": "40ef0593-2be8-495f-a473-1f9615997fe8",
   "metadata": {},
   "outputs": [
    {
     "data": {
      "text/html": [
       "\n",
       "            <style>\n",
       "                .geemap-dark {\n",
       "                    --jp-widgets-color: white;\n",
       "                    --jp-widgets-label-color: white;\n",
       "                    --jp-ui-font-color1: white;\n",
       "                    --jp-layout-color2: #454545;\n",
       "                    background-color: #383838;\n",
       "                }\n",
       "\n",
       "                .geemap-dark .jupyter-button {\n",
       "                    --jp-layout-color3: #383838;\n",
       "                }\n",
       "\n",
       "                .geemap-colab {\n",
       "                    background-color: var(--colab-primary-surface-color, white);\n",
       "                }\n",
       "\n",
       "                .geemap-colab .jupyter-button {\n",
       "                    --jp-layout-color3: var(--colab-primary-surface-color, white);\n",
       "                }\n",
       "            </style>\n",
       "            "
      ],
      "text/plain": [
       "<IPython.core.display.HTML object>"
      ]
     },
     "metadata": {},
     "output_type": "display_data"
    },
    {
     "name": "stdout",
     "output_type": "stream",
     "text": [
      "36496\n"
     ]
    }
   ],
   "source": [
    "# Load Angola Tiles\n",
    "tiles = ee.FeatureCollection('projects/angola-thesis/assets/angola_tiles_non_overlap_crop_filtered')\n",
    "\n",
    "# Check if assets exist\n",
    "print(tiles.size().getInfo()) "
   ]
  },
  {
   "cell_type": "markdown",
   "id": "f2edc171-7418-4487-970f-2d3e5ee13655",
   "metadata": {},
   "source": [
    "### Add 'Class' Attribute from Sampling Points to Prediction Stack"
   ]
  },
  {
   "cell_type": "code",
   "execution_count": 27,
   "id": "c9d5d426-4a60-40b7-80dc-d758588e6577",
   "metadata": {},
   "outputs": [
    {
     "data": {
      "text/html": [
       "\n",
       "            <style>\n",
       "                .geemap-dark {\n",
       "                    --jp-widgets-color: white;\n",
       "                    --jp-widgets-label-color: white;\n",
       "                    --jp-ui-font-color1: white;\n",
       "                    --jp-layout-color2: #454545;\n",
       "                    background-color: #383838;\n",
       "                }\n",
       "\n",
       "                .geemap-dark .jupyter-button {\n",
       "                    --jp-layout-color3: #383838;\n",
       "                }\n",
       "\n",
       "                .geemap-colab {\n",
       "                    background-color: var(--colab-primary-surface-color, white);\n",
       "                }\n",
       "\n",
       "                .geemap-colab .jupyter-button {\n",
       "                    --jp-layout-color3: var(--colab-primary-surface-color, white);\n",
       "                }\n",
       "            </style>\n",
       "            "
      ],
      "text/plain": [
       "<IPython.core.display.HTML object>"
      ]
     },
     "metadata": {},
     "output_type": "display_data"
    },
    {
     "name": "stdout",
     "output_type": "stream",
     "text": [
      "['Elevation', 'Slope', 'TPI', 'ET', 'Aridity', 'Precip', 'EVI', 'S1_VV_Mean', 'class']\n"
     ]
    }
   ],
   "source": [
    "# Load your class raster\n",
    "class_raster = ee.Image('projects/angola-thesis/assets/intersect_fractional_lc').rename('class')\n",
    "\n",
    "# Add to your stack (as the last band, or in the correct order as used in training)\n",
    "full_stack_10m = full_stack_10m.addBands(class_raster)\n",
    "print(full_stack_10m.bandNames().getInfo())"
   ]
  },
  {
   "cell_type": "markdown",
   "id": "db1e6c95-cc50-4eae-84d5-3191a48ba176",
   "metadata": {},
   "source": [
    "### Build RF model in GEE"
   ]
  },
  {
   "cell_type": "code",
   "execution_count": 34,
   "id": "429a99a8-36fb-4a94-9347-778a8362398f",
   "metadata": {},
   "outputs": [
    {
     "data": {
      "text/html": [
       "\n",
       "            <style>\n",
       "                .geemap-dark {\n",
       "                    --jp-widgets-color: white;\n",
       "                    --jp-widgets-label-color: white;\n",
       "                    --jp-ui-font-color1: white;\n",
       "                    --jp-layout-color2: #454545;\n",
       "                    background-color: #383838;\n",
       "                }\n",
       "\n",
       "                .geemap-dark .jupyter-button {\n",
       "                    --jp-layout-color3: #383838;\n",
       "                }\n",
       "\n",
       "                .geemap-colab {\n",
       "                    background-color: var(--colab-primary-surface-color, white);\n",
       "                }\n",
       "\n",
       "                .geemap-colab .jupyter-button {\n",
       "                    --jp-layout-color3: var(--colab-primary-surface-color, white);\n",
       "                }\n",
       "            </style>\n",
       "            "
      ],
      "text/plain": [
       "<IPython.core.display.HTML object>"
      ]
     },
     "metadata": {},
     "output_type": "display_data"
    },
    {
     "name": "stdout",
     "output_type": "stream",
     "text": [
      "Class distribution: {'0.0': 259, '1.0': 241}\n"
     ]
    }
   ],
   "source": [
    "# Exclude Bands that are unnecessary/not improving the model\n",
    "important_bands = [\n",
    "        'Elevation', 'ET', 'Aridity', 'Precip', 'EVI', 'S1_VV_Mean', 'class'\n",
    "]\n",
    "\n",
    "training_data_full = full_stack_10m.select(important_bands).sampleRegions(\n",
    "    collection=points,\n",
    "    properties=['field'],\n",
    "    scale=10,\n",
    "    geometries=False\n",
    ")\n",
    "\n",
    "class_dist = training_data.aggregate_histogram('field').getInfo()\n",
    "print(\"Class distribution:\", class_dist)"
   ]
  },
  {
   "cell_type": "markdown",
   "id": "9e1831ad-65e7-43bc-a747-71e735542248",
   "metadata": {},
   "source": [
    "### Train Random Forest Classifier"
   ]
  },
  {
   "cell_type": "markdown",
   "id": "7684e4ad-9df7-497f-b70d-25492b0defed",
   "metadata": {},
   "source": [
    "#### Optional: Split samples in Train and Validation and Perform Hyperparameter Tuning"
   ]
  },
  {
   "cell_type": "code",
   "execution_count": null,
   "id": "971b9617-dc6f-4a18-b8d1-1e41257e09ba",
   "metadata": {},
   "outputs": [],
   "source": [
    "# 1. Split into train/validation (stratified by class)\n",
    "def stratified_split(fc, class_property, split=0.7):\n",
    "    # Split each class separately\n",
    "    class0 = fc.filter(ee.Filter.eq(class_property, 0)).randomColumn('rand', seed=42)\n",
    "    class1 = fc.filter(ee.Filter.eq(class_property, 1)).randomColumn('rand', seed=42)\n",
    "    train = class0.filter(ee.Filter.lt('rand', split)).merge(class1.filter(ee.Filter.lt('rand', split)))\n",
    "    val = class0.filter(ee.Filter.gte('rand', split)).merge(class1.filter(ee.Filter.gte('rand', split)))\n",
    "    return train, val\n",
    "\n",
    "train_set, val_set = stratified_split(training_data_full, 'field', split=0.7)\n",
    "\n",
    "# 2. Define parameter grid\n",
    "param_grid = {\n",
    "    'numberOfTrees': [300, 400, 500],\n",
    "    'variablesPerSplit': [2, 3, 4, 5],\n",
    "    'minLeafPopulation': [1, 3, 5],\n",
    "    'bagFraction': [0.632, 0.7, 0.8, 0.9]\n",
    "}\n",
    "combinations = list(product(*param_grid.values()))\n",
    "\n",
    "# 3. Run grid search\n",
    "results = []\n",
    "for nt, vs, mlp, bf in combinations:\n",
    "    print(f\"Testing: Trees={nt}, Vars/Split={vs}, MinLeaf={mlp}, BagFrac={bf}\")\n",
    "    classifier = ee.Classifier.smileRandomForest(\n",
    "        numberOfTrees=nt,\n",
    "        variablesPerSplit=vs,\n",
    "        minLeafPopulation=mlp,\n",
    "        bagFraction=bf,\n",
    "        seed=42\n",
    "    ).train(\n",
    "        features=train_set,\n",
    "        classProperty='field',\n",
    "        inputProperties=important_bands\n",
    "    )\n",
    "    val_classified = val_set.classify(classifier)\n",
    "    matrix = val_classified.errorMatrix('field', 'classification')\n",
    "    kappa = matrix.kappa().getInfo()\n",
    "    acc = matrix.accuracy().getInfo()\n",
    "    results.append({\n",
    "        'params': {'numberOfTrees': nt, 'variablesPerSplit': vs, 'minLeafPopulation': mlp, 'bagFraction': bf},\n",
    "        'kappa': kappa,\n",
    "        'accuracy': acc\n",
    "    })\n",
    "\n",
    "# 4. Print all results and best parameter set\n",
    "results_sorted = sorted(results, key=lambda x: x['kappa'], reverse=True)\n",
    "print(\"\\nAll results (sorted by kappa):\")\n",
    "for r in results_sorted:\n",
    "    print(r)\n",
    "print(\"\\nBest parameter set:\", results_sorted[0]['params'])"
   ]
  },
  {
   "cell_type": "markdown",
   "id": "1c098d46-fa4a-42cf-bf02-59b26244d046",
   "metadata": {},
   "source": [
    "##### Build RF Model with improved Hyperparameters and on full sample (500 points)"
   ]
  },
  {
   "cell_type": "code",
   "execution_count": 53,
   "id": "0c5975a1-ff88-4a57-9550-a9ee80acd721",
   "metadata": {},
   "outputs": [
    {
     "data": {
      "text/html": [
       "\n",
       "            <style>\n",
       "                .geemap-dark {\n",
       "                    --jp-widgets-color: white;\n",
       "                    --jp-widgets-label-color: white;\n",
       "                    --jp-ui-font-color1: white;\n",
       "                    --jp-layout-color2: #454545;\n",
       "                    background-color: #383838;\n",
       "                }\n",
       "\n",
       "                .geemap-dark .jupyter-button {\n",
       "                    --jp-layout-color3: #383838;\n",
       "                }\n",
       "\n",
       "                .geemap-colab {\n",
       "                    background-color: var(--colab-primary-surface-color, white);\n",
       "                }\n",
       "\n",
       "                .geemap-colab .jupyter-button {\n",
       "                    --jp-layout-color3: var(--colab-primary-surface-color, white);\n",
       "                }\n",
       "            </style>\n",
       "            "
      ],
      "text/plain": [
       "<IPython.core.display.HTML object>"
      ]
     },
     "metadata": {},
     "output_type": "display_data"
    }
   ],
   "source": [
    "ee_classifier = ee.Classifier.smileRandomForest(\n",
    "numberOfTrees=500,\n",
    "variablesPerSplit=3,\n",
    "minLeafPopulation=3,\n",
    "bagFraction=0.85, \n",
    "seed=42\n",
    ").train(\n",
    "    features=training_data_full,\n",
    "    classProperty='field',\n",
    "    inputProperties=important_bands\n",
    ")"
   ]
  },
  {
   "cell_type": "markdown",
   "id": "641071cc-6b30-4b11-8416-26b7802947c8",
   "metadata": {},
   "source": [
    "#### Show Statistics"
   ]
  },
  {
   "cell_type": "code",
   "execution_count": 54,
   "id": "8b3d9c91-fa45-4b84-a419-aabc4d0f94ba",
   "metadata": {},
   "outputs": [
    {
     "data": {
      "text/html": [
       "\n",
       "            <style>\n",
       "                .geemap-dark {\n",
       "                    --jp-widgets-color: white;\n",
       "                    --jp-widgets-label-color: white;\n",
       "                    --jp-ui-font-color1: white;\n",
       "                    --jp-layout-color2: #454545;\n",
       "                    background-color: #383838;\n",
       "                }\n",
       "\n",
       "                .geemap-dark .jupyter-button {\n",
       "                    --jp-layout-color3: #383838;\n",
       "                }\n",
       "\n",
       "                .geemap-colab {\n",
       "                    background-color: var(--colab-primary-surface-color, white);\n",
       "                }\n",
       "\n",
       "                .geemap-colab .jupyter-button {\n",
       "                    --jp-layout-color3: var(--colab-primary-surface-color, white);\n",
       "                }\n",
       "            </style>\n",
       "            "
      ],
      "text/plain": [
       "<IPython.core.display.HTML object>"
      ]
     },
     "metadata": {},
     "output_type": "display_data"
    },
    {
     "name": "stdout",
     "output_type": "stream",
     "text": [
      "Confusion matrix: [[249, 5], [8, 231]]\n",
      "Overall accuracy: 0.973630831643002\n",
      "Producers accuracy: [[0.9803149606299213], [0.9665271966527197]]\n",
      "Users accuracy: [[0.9688715953307393, 0.9788135593220338]]\n"
     ]
    }
   ],
   "source": [
    "# Get the confusion matrix object\n",
    "conf_matrix = ee_classifier.confusionMatrix()\n",
    "\n",
    "# Assign values to Python variables\n",
    "conf_matrix_values = conf_matrix.getInfo()  # 2D list (confusion matrix)\n",
    "overall_accuracy = conf_matrix.accuracy().getInfo()  # float\n",
    "producers_accuracy = conf_matrix.producersAccuracy().getInfo()  # list of floats\n",
    "users_accuracy = conf_matrix.consumersAccuracy().getInfo()  # list of floats\n",
    "\n",
    "# Print to verify\n",
    "print('Confusion matrix:', conf_matrix_values)\n",
    "print('Overall accuracy:', overall_accuracy)\n",
    "print('Producers accuracy:', producers_accuracy)\n",
    "print('Users accuracy:', users_accuracy)"
   ]
  },
  {
   "cell_type": "code",
   "execution_count": 55,
   "id": "5a12cbdc-17fc-44b4-962a-cc4125d018c0",
   "metadata": {},
   "outputs": [
    {
     "data": {
      "text/html": [
       "\n",
       "            <style>\n",
       "                .geemap-dark {\n",
       "                    --jp-widgets-color: white;\n",
       "                    --jp-widgets-label-color: white;\n",
       "                    --jp-ui-font-color1: white;\n",
       "                    --jp-layout-color2: #454545;\n",
       "                    background-color: #383838;\n",
       "                }\n",
       "\n",
       "                .geemap-dark .jupyter-button {\n",
       "                    --jp-layout-color3: #383838;\n",
       "                }\n",
       "\n",
       "                .geemap-colab {\n",
       "                    background-color: var(--colab-primary-surface-color, white);\n",
       "                }\n",
       "\n",
       "                .geemap-colab .jupyter-button {\n",
       "                    --jp-layout-color3: var(--colab-primary-surface-color, white);\n",
       "                }\n",
       "            </style>\n",
       "            "
      ],
      "text/plain": [
       "<IPython.core.display.HTML object>"
      ]
     },
     "metadata": {},
     "output_type": "display_data"
    },
    {
     "name": "stdout",
     "output_type": "stream",
     "text": [
      "              precision    recall  f1-score   support\n",
      "\n",
      "   Non-field       0.97      0.98      0.97       254\n",
      "       Field       0.98      0.97      0.97       239\n",
      "\n",
      "    accuracy                           0.97       493\n",
      "   macro avg       0.97      0.97      0.97       493\n",
      "weighted avg       0.97      0.97      0.97       493\n"
     ]
    }
   ],
   "source": [
    "# Convert to numpy array\n",
    "cm = np.array(conf_matrix_values)\n",
    "\n",
    "# Define class names\n",
    "class_names = ['Non-field', 'Field'] \n",
    "\n",
    "# Calculate per-class metrics\n",
    "def calculate_class_metrics(conf_matrix, class_names):\n",
    "    # True Positives, False Positives, False Negatives for each class\n",
    "    TP = np.diag(conf_matrix)\n",
    "    FP = np.sum(conf_matrix, axis=0) - TP\n",
    "    FN = np.sum(conf_matrix, axis=1) - TP\n",
    "    \n",
    "    # Calculate metrics\n",
    "    precision = TP / (TP + FP + 1e-10)  # Avoid division by zero\n",
    "    recall = TP / (TP + FN + 1e-10)\n",
    "    f1 = 2 * precision * recall / (precision + recall + 1e-10)\n",
    "    support = np.sum(conf_matrix, axis=1)\n",
    "    \n",
    "    return precision, recall, f1, support\n",
    "\n",
    "# Calculate metrics\n",
    "precision, recall, f1, support = calculate_class_metrics(cm, class_names)\n",
    "\n",
    "# Print results in sklearn-style format\n",
    "print(f\"              precision    recall  f1-score   support\\n\")\n",
    "for i, class_name in enumerate(class_names):\n",
    "    print(f\"{class_name:>12}       {precision[i]:.2f}      {recall[i]:.2f}      {f1[i]:.2f}       {support[i]}\")\n",
    "\n",
    "print(f\"\\n    accuracy                           {overall_accuracy:.2f}       {np.sum(support)}\")\n",
    "\n",
    "# Calculate macro and weighted averages\n",
    "macro_precision = np.mean(precision)\n",
    "macro_recall = np.mean(recall)\n",
    "macro_f1 = np.mean(f1)\n",
    "\n",
    "weighted_precision = np.average(precision, weights=support)\n",
    "weighted_recall = np.average(recall, weights=support)\n",
    "weighted_f1 = np.average(f1, weights=support)\n",
    "\n",
    "print(f\"   macro avg       {macro_precision:.2f}      {macro_recall:.2f}      {macro_f1:.2f}       {np.sum(support)}\")\n",
    "print(f\"weighted avg       {weighted_precision:.2f}      {weighted_recall:.2f}      {weighted_f1:.2f}       {np.sum(support)}\")"
   ]
  },
  {
   "cell_type": "code",
   "execution_count": 70,
   "id": "4224570a-9114-4232-b368-12536cbea544",
   "metadata": {},
   "outputs": [
    {
     "data": {
      "text/html": [
       "\n",
       "            <style>\n",
       "                .geemap-dark {\n",
       "                    --jp-widgets-color: white;\n",
       "                    --jp-widgets-label-color: white;\n",
       "                    --jp-ui-font-color1: white;\n",
       "                    --jp-layout-color2: #454545;\n",
       "                    background-color: #383838;\n",
       "                }\n",
       "\n",
       "                .geemap-dark .jupyter-button {\n",
       "                    --jp-layout-color3: #383838;\n",
       "                }\n",
       "\n",
       "                .geemap-colab {\n",
       "                    background-color: var(--colab-primary-surface-color, white);\n",
       "                }\n",
       "\n",
       "                .geemap-colab .jupyter-button {\n",
       "                    --jp-layout-color3: var(--colab-primary-surface-color, white);\n",
       "                }\n",
       "            </style>\n",
       "            "
      ],
      "text/plain": [
       "<IPython.core.display.HTML object>"
      ]
     },
     "metadata": {},
     "output_type": "display_data"
    },
    {
     "data": {
      "image/png": "[encoded data removed]",
      "text/plain": [
       "<Figure size 600x500 with 2 Axes>"
      ]
     },
     "metadata": {},
     "output_type": "display_data"
    }
   ],
   "source": [
    "# Confusion matrix and class names\n",
    "cm = np.array(conf_matrix_values)\n",
    "class_names = ['Non-field', 'Field'] \n",
    "\n",
    "plt.figure(figsize=(6, 5))\n",
    "sns.heatmap(\n",
    "    cm,\n",
    "    annot=True,\n",
    "    fmt='d',\n",
    "    cmap='inferno',\n",
    "    xticklabels=class_names,\n",
    "    yticklabels=class_names\n",
    ")\n",
    "plt.ylabel('True label')\n",
    "plt.xlabel(f'Predicted label\\naccuracy={overall_accuracy:.4f}')\n",
    "plt.title('Confusion Matrix')\n",
    "\n",
    "# Save Conf Matrix\n",
    "plt.savefig('/home/airg/PSteinhilber/projects/angola/prediction/FP_Analysis_Raster/exports/confusion_matrix_500_best_2.png', dpi=300, bbox_inches='tight')\n",
    "plt.show()"
   ]
  },
  {
   "cell_type": "code",
   "execution_count": 71,
   "id": "c3431212-a629-4202-bb31-867acb61e5f7",
   "metadata": {},
   "outputs": [
    {
     "data": {
      "text/html": [
       "\n",
       "            <style>\n",
       "                .geemap-dark {\n",
       "                    --jp-widgets-color: white;\n",
       "                    --jp-widgets-label-color: white;\n",
       "                    --jp-ui-font-color1: white;\n",
       "                    --jp-layout-color2: #454545;\n",
       "                    background-color: #383838;\n",
       "                }\n",
       "\n",
       "                .geemap-dark .jupyter-button {\n",
       "                    --jp-layout-color3: #383838;\n",
       "                }\n",
       "\n",
       "                .geemap-colab {\n",
       "                    background-color: var(--colab-primary-surface-color, white);\n",
       "                }\n",
       "\n",
       "                .geemap-colab .jupyter-button {\n",
       "                    --jp-layout-color3: var(--colab-primary-surface-color, white);\n",
       "                }\n",
       "            </style>\n",
       "            "
      ],
      "text/plain": [
       "<IPython.core.display.HTML object>"
      ]
     },
     "metadata": {},
     "output_type": "display_data"
    },
    {
     "data": {
      "image/png": "[encoded data removed]",
      "text/plain": [
       "<Figure size 1000x600 with 1 Axes>"
      ]
     },
     "metadata": {},
     "output_type": "display_data"
    }
   ],
   "source": [
    "explanation = ee_classifier.explain()\n",
    "importance = explanation.get('importance').getInfo()  # This is now a Python dict\n",
    "\n",
    "# Sort by importance descending\n",
    "sorted_items = sorted(importance.items(), key=lambda x: x[1], reverse=True)\n",
    "variables, importances = zip(*sorted_items)\n",
    "\n",
    "# Set font sizes globally for all elements\n",
    "plt.rc('font', size=18)          # Default text size\n",
    "plt.rc('axes', titlesize=22)     # Axes title font size\n",
    "plt.rc('axes', labelsize=18)     # Axes labels font size\n",
    "plt.rc('xtick', labelsize=16)    # X tick labels font size\n",
    "plt.rc('ytick', labelsize=16)    # Y tick labels font size\n",
    "plt.rc('legend', fontsize=16)    # Legend font size\n",
    "plt.rc('figure', titlesize=24)   # Figure title font size\n",
    "\n",
    "plt.figure(figsize=(10, 6))\n",
    "plt.bar(variables, importances, color='blue')\n",
    "plt.ylabel('Variable Importance')\n",
    "plt.xlabel('Variables')\n",
    "plt.title('Random Forest Variable Importance')\n",
    "plt.xticks(rotation=45)\n",
    "plt.tight_layout()\n",
    "\n",
    "# Save Plot\n",
    "plt.savefig('/home/airg/PSteinhilber/projects/angola/prediction/FP_Analysis_Raster/exports/variable_importance_500_best_2.png', dpi=300, bbox_inches='tight')\n",
    "plt.show()"
   ]
  },
  {
   "cell_type": "code",
   "execution_count": 58,
   "id": "4cb15e76-430b-492b-afda-4377744df195",
   "metadata": {},
   "outputs": [
    {
     "data": {
      "text/html": [
       "\n",
       "            <style>\n",
       "                .geemap-dark {\n",
       "                    --jp-widgets-color: white;\n",
       "                    --jp-widgets-label-color: white;\n",
       "                    --jp-ui-font-color1: white;\n",
       "                    --jp-layout-color2: #454545;\n",
       "                    background-color: #383838;\n",
       "                }\n",
       "\n",
       "                .geemap-dark .jupyter-button {\n",
       "                    --jp-layout-color3: #383838;\n",
       "                }\n",
       "\n",
       "                .geemap-colab {\n",
       "                    background-color: var(--colab-primary-surface-color, white);\n",
       "                }\n",
       "\n",
       "                .geemap-colab .jupyter-button {\n",
       "                    --jp-layout-color3: var(--colab-primary-surface-color, white);\n",
       "                }\n",
       "            </style>\n",
       "            "
      ],
      "text/plain": [
       "<IPython.core.display.HTML object>"
      ]
     },
     "metadata": {},
     "output_type": "display_data"
    },
    {
     "name": "stdout",
     "output_type": "stream",
     "text": [
      "Classifier export started. Wait for completion before predicting tiles.\n"
     ]
    }
   ],
   "source": [
    "# Export classifier as an asset (run once)\n",
    "ee.batch.Export.classifier.toAsset(\n",
    "    classifier=ee_classifier,\n",
    "    description='ExportRFModel',\n",
    "    assetId='projects/angola-thesis/assets/Predictions/crop_classifier_500_best_2'\n",
    ").start()\n",
    "print(\"Classifier export started. Wait for completion before predicting tiles.\")"
   ]
  },
  {
   "cell_type": "markdown",
   "id": "7d687338-803e-411f-876d-66b12e833c3e",
   "metadata": {},
   "source": [
    "### Predict Test Tile with RF Model"
   ]
  },
  {
   "cell_type": "code",
   "execution_count": 51,
   "id": "7081fcce-31f5-423e-8592-30e3814a63a6",
   "metadata": {},
   "outputs": [
    {
     "data": {
      "text/html": [
       "\n",
       "            <style>\n",
       "                .geemap-dark {\n",
       "                    --jp-widgets-color: white;\n",
       "                    --jp-widgets-label-color: white;\n",
       "                    --jp-ui-font-color1: white;\n",
       "                    --jp-layout-color2: #454545;\n",
       "                    background-color: #383838;\n",
       "                }\n",
       "\n",
       "                .geemap-dark .jupyter-button {\n",
       "                    --jp-layout-color3: #383838;\n",
       "                }\n",
       "\n",
       "                .geemap-colab {\n",
       "                    background-color: var(--colab-primary-surface-color, white);\n",
       "                }\n",
       "\n",
       "                .geemap-colab .jupyter-button {\n",
       "                    --jp-layout-color3: var(--colab-primary-surface-color, white);\n",
       "                }\n",
       "            </style>\n",
       "            "
      ],
      "text/plain": [
       "<IPython.core.display.HTML object>"
      ]
     },
     "metadata": {},
     "output_type": "display_data"
    },
    {
     "name": "stdout",
     "output_type": "stream",
     "text": [
      "Asset export started for tile 907535.\n"
     ]
    }
   ],
   "source": [
    "classifier_asset = 'projects/angola-thesis/assets/Predictions/crop_classifier_500_best_2'\n",
    "rf_classifier = ee.Classifier.load(classifier_asset)\n",
    "tile_ids = [907535]\n",
    "\n",
    "for tile_id in tile_ids:\n",
    "    selected_tile = tiles.filter(ee.Filter.eq('tile', tile_id))\n",
    "    prediction = full_stack_10m.select(important_bands) \\\n",
    "                              .updateMask(built_up_mask) \\\n",
    "                              .clip(selected_tile.geometry()) \\\n",
    "                              .reproject('EPSG:32733', scale=10) \\\n",
    "                              .classify(rf_classifier)\n",
    "    # Export to EE Asset\n",
    "    task_asset = ee.batch.Export.image.toAsset(\n",
    "        image=prediction,\n",
    "        description=f'Prediction_{tile_id}_Asset',\n",
    "        assetId=f'projects/angola-thesis/assets/Predictions/tile_{tile_id}_500_1',\n",
    "        region=selected_tile.geometry(),\n",
    "        scale=10,\n",
    "        crs='EPSG:32733',\n",
    "        maxPixels=1e13\n",
    "    )\n",
    "    task_asset.start()\n",
    "    print(f\"Asset export started for tile {tile_id}.\")"
   ]
  },
  {
   "cell_type": "markdown",
   "id": "ea506650-9541-4695-a0bb-34afc4d34744",
   "metadata": {},
   "source": [
    "#### Visualize Test Prediction"
   ]
  },
  {
   "cell_type": "code",
   "execution_count": 39,
   "id": "95eb91ed-3b2c-452a-a765-997556f4a61b",
   "metadata": {},
   "outputs": [
    {
     "data": {
      "text/html": [
       "\n",
       "            <style>\n",
       "                .geemap-dark {\n",
       "                    --jp-widgets-color: white;\n",
       "                    --jp-widgets-label-color: white;\n",
       "                    --jp-ui-font-color1: white;\n",
       "                    --jp-layout-color2: #454545;\n",
       "                    background-color: #383838;\n",
       "                }\n",
       "\n",
       "                .geemap-dark .jupyter-button {\n",
       "                    --jp-layout-color3: #383838;\n",
       "                }\n",
       "\n",
       "                .geemap-colab {\n",
       "                    background-color: var(--colab-primary-surface-color, white);\n",
       "                }\n",
       "\n",
       "                .geemap-colab .jupyter-button {\n",
       "                    --jp-layout-color3: var(--colab-primary-surface-color, white);\n",
       "                }\n",
       "            </style>\n",
       "            "
      ],
      "text/plain": [
       "<IPython.core.display.HTML object>"
      ]
     },
     "metadata": {},
     "output_type": "display_data"
    },
    {
     "data": {
      "application/vnd.jupyter.widget-view+json": {
       "model_id": "ee3d6aabf4c847f4be2669f73c4f297f",
       "version_major": 2,
       "version_minor": 0
      },
      "text/plain": [
       "Map(center=[-15.284998419691945, 19.184000304984533], controls=(WidgetControl(options=['position', 'transparen…"
      ]
     },
     "execution_count": 39,
     "metadata": {},
     "output_type": "execute_result"
    }
   ],
   "source": [
    "# Initialize the map\n",
    "Map = geemap.Map()\n",
    "\n",
    "# Loop over all tile IDs and add each as a layer\n",
    "for tile_id in tile_ids:\n",
    "    prediction_asset = f'projects/angola-thesis/assets/Predictions/tile_{tile_id}'\n",
    "    prediction_img = ee.Image(prediction_asset)\n",
    "    Map.addLayer(prediction_img, {'min': 0, 'max': 1, 'palette': ['red', 'green']}, f'Tile {tile_id}')\n",
    "\n",
    "# Optionally center the map on the first tile\n",
    "selected_tile = tiles.filter(ee.Filter.eq('tile', tile_ids[0]))\n",
    "Map.centerObject(selected_tile.geometry(), 12)\n",
    "\n",
    "#Display all predictor Variables\n",
    "#for band in band_order:\n",
    "    #Map.addLayer(full_stack_10m.select(band).mask(), {'min': 0, 'max': 1, 'palette': ['black', 'white']}, f'{band} mask')\n",
    "\n",
    "Map"
   ]
  },
  {
   "cell_type": "markdown",
   "id": "5bf1a325-3d7c-4dfb-973a-3696a0956078",
   "metadata": {},
   "source": [
    "#### Export Test Prediction from GEE to Drive"
   ]
  },
  {
   "cell_type": "markdown",
   "id": "56046572-0f7b-4a6f-8b0f-256bc8757c93",
   "metadata": {},
   "source": [
    "#### 1.) With Classification"
   ]
  },
  {
   "cell_type": "code",
   "execution_count": 88,
   "id": "e1f3d958-eb10-4a86-b682-e34bcb1d606b",
   "metadata": {},
   "outputs": [
    {
     "data": {
      "text/html": [
       "\n",
       "            <style>\n",
       "                .geemap-dark {\n",
       "                    --jp-widgets-color: white;\n",
       "                    --jp-widgets-label-color: white;\n",
       "                    --jp-ui-font-color1: white;\n",
       "                    --jp-layout-color2: #454545;\n",
       "                    background-color: #383838;\n",
       "                }\n",
       "\n",
       "                .geemap-dark .jupyter-button {\n",
       "                    --jp-layout-color3: #383838;\n",
       "                }\n",
       "\n",
       "                .geemap-colab {\n",
       "                    background-color: var(--colab-primary-surface-color, white);\n",
       "                }\n",
       "\n",
       "                .geemap-colab .jupyter-button {\n",
       "                    --jp-layout-color3: var(--colab-primary-surface-color, white);\n",
       "                }\n",
       "            </style>\n",
       "            "
      ],
      "text/plain": [
       "<IPython.core.display.HTML object>"
      ]
     },
     "metadata": {},
     "output_type": "display_data"
    },
    {
     "name": "stdout",
     "output_type": "stream",
     "text": [
      "Drive export started for tile 907535.\n"
     ]
    }
   ],
   "source": [
    "classifier_asset = 'projects/angola-thesis/assets/Predictions/crop_classifier_500_best_2'\n",
    "rf_classifier = ee.Classifier.load(classifier_asset)\n",
    "\n",
    "no_data_val = -9999\n",
    "tile_ids = [907535]\n",
    "\n",
    "for tile_id in tile_ids:\n",
    "    selected_tile = tiles.filter(ee.Filter.eq('tile', tile_id))\n",
    "    # Recompute prediction for Drive export (critical!)\n",
    "    prediction = full_stack_10m.select(important_bands) \\\n",
    "                              .updateMask(built_up_mask) \\\n",
    "                              .clip(selected_tile.geometry()) \\\n",
    "                              .reproject('EPSG:32733', scale=10) \\\n",
    "                              .classify(rf_classifier)\n",
    "    prediction_unmasked = prediction.unmask(no_data_val).toFloat()\n",
    "    \n",
    "    # Export to Google Drive\n",
    "    task_drive = ee.batch.Export.image.toDrive(\n",
    "        image=prediction_unmasked,\n",
    "        description=f'Prediction_{tile_id}_Drive',\n",
    "        folder='GEE_Exports',\n",
    "        fileNamePrefix=f'prediction_tile_{tile_id}_500_2',\n",
    "        region=selected_tile.geometry(),\n",
    "        scale=10,\n",
    "        crs='EPSG:32733',\n",
    "        maxPixels=1e13,\n",
    "        fileFormat='GeoTIFF',\n",
    "        formatOptions={'noData': no_data_val}\n",
    "    )\n",
    "    task_drive.start()\n",
    "    print(f\"Drive export started for tile {tile_id}.\")"
   ]
  },
  {
   "cell_type": "markdown",
   "id": "a59a2849-ee64-41da-bfc8-e010243a4444",
   "metadata": {},
   "source": [
    "#### 2.) With Probabilities and mask"
   ]
  },
  {
   "cell_type": "code",
   "execution_count": 253,
   "id": "1bac5305-d2f8-444a-84fd-f7b75cb746e3",
   "metadata": {},
   "outputs": [
    {
     "data": {
      "text/html": [
       "\n",
       "            <style>\n",
       "                .geemap-dark {\n",
       "                    --jp-widgets-color: white;\n",
       "                    --jp-widgets-label-color: white;\n",
       "                    --jp-ui-font-color1: white;\n",
       "                    --jp-layout-color2: #454545;\n",
       "                    background-color: #383838;\n",
       "                }\n",
       "\n",
       "                .geemap-dark .jupyter-button {\n",
       "                    --jp-layout-color3: #383838;\n",
       "                }\n",
       "\n",
       "                .geemap-colab {\n",
       "                    background-color: var(--colab-primary-surface-color, white);\n",
       "                }\n",
       "\n",
       "                .geemap-colab .jupyter-button {\n",
       "                    --jp-layout-color3: var(--colab-primary-surface-color, white);\n",
       "                }\n",
       "            </style>\n",
       "            "
      ],
      "text/plain": [
       "<IPython.core.display.HTML object>"
      ]
     },
     "metadata": {},
     "output_type": "display_data"
    }
   ],
   "source": [
    "rf_classifier = ee.Classifier.smileRandomForest(\n",
    "    numberOfTrees=500,\n",
    "    variablesPerSplit=3,\n",
    "    minLeafPopulation=3,\n",
    "    bagFraction=0.85,\n",
    "    seed=42\n",
    ").setOutputMode('MULTIPROBABILITY').train(\n",
    "    features=training_data_full,\n",
    "    classProperty='field',\n",
    "    inputProperties=important_bands\n",
    ")\n",
    "\n",
    "no_data_val = -9999\n",
    "tile_ids = [907535]\n",
    "\n",
    "for tile_id in tile_ids:\n",
    "    selected_tile = tiles.filter(ee.Filter.eq('tile', tile_id))\n",
    "    \n",
    "    # Get probabilities\n",
    "    probabilities = full_stack_10m.select(important_bands) \\\n",
    "        .updateMask(mask) \\\n",
    "        .clip(selected_tile.geometry()) \\\n",
    "        .reproject('EPSG:32733', scale=10) \\\n",
    "        .classify(rf_classifier) \\\n",
    "        .arrayFlatten([['probability_0', 'probability_1']])\n",
    "\n",
    "    # Apply threshold and unmask\n",
    "    conservative_class = probabilities.select('probability_0') \\\n",
    "        .gt(0.85).Not().rename('conservative_class') \\\n",
    "        .unmask(no_data_val).toFloat()\n",
    "\n",
    "    task_drive = ee.batch.Export.image.toDrive(\n",
    "        image=conservative_class,\n",
    "        description=f'ConservativePrediction_{tile_id}_Drive',\n",
    "        folder='GEE_Exports',\n",
    "        fileNamePrefix=f'tile_{tile_id}_prob_85',\n",
    "        region=selected_tile.geometry(),\n",
    "        scale=10,\n",
    "        crs='EPSG:32733',\n",
    "        maxPixels=1e13,\n",
    "        fileFormat='GeoTIFF',\n",
    "        formatOptions={'noData': no_data_val}\n",
    "    )\n",
    "    task_drive.start()\n",
    "    print(f\"Drive export started for tile {tile_id}.\")"
   ]
  },
  {
   "cell_type": "markdown",
   "id": "2cbd4811-29eb-4f31-b707-43d9d30c18a7",
   "metadata": {},
   "source": [
    "#### 3.) Only Probabilities"
   ]
  },
  {
   "cell_type": "code",
   "execution_count": 62,
   "id": "a66122c9-d312-4618-931f-ad5f98b7d2bf",
   "metadata": {},
   "outputs": [
    {
     "data": {
      "text/html": [
       "\n",
       "            <style>\n",
       "                .geemap-dark {\n",
       "                    --jp-widgets-color: white;\n",
       "                    --jp-widgets-label-color: white;\n",
       "                    --jp-ui-font-color1: white;\n",
       "                    --jp-layout-color2: #454545;\n",
       "                    background-color: #383838;\n",
       "                }\n",
       "\n",
       "                .geemap-dark .jupyter-button {\n",
       "                    --jp-layout-color3: #383838;\n",
       "                }\n",
       "\n",
       "                .geemap-colab {\n",
       "                    background-color: var(--colab-primary-surface-color, white);\n",
       "                }\n",
       "\n",
       "                .geemap-colab .jupyter-button {\n",
       "                    --jp-layout-color3: var(--colab-primary-surface-color, white);\n",
       "                }\n",
       "            </style>\n",
       "            "
      ],
      "text/plain": [
       "<IPython.core.display.HTML object>"
      ]
     },
     "metadata": {},
     "output_type": "display_data"
    },
    {
     "name": "stdout",
     "output_type": "stream",
     "text": [
      "Drive export started for tile 904714.\n"
     ]
    }
   ],
   "source": [
    "rf_classifier = ee.Classifier.smileRandomForest(\n",
    "    numberOfTrees=500,\n",
    "    variablesPerSplit=3,\n",
    "    minLeafPopulation=3,\n",
    "    bagFraction=0.85, \n",
    "    seed=42\n",
    ").setOutputMode('MULTIPROBABILITY').train(\n",
    "    features=training_data_full,\n",
    "    classProperty='field',\n",
    "    inputProperties=important_bands\n",
    ")\n",
    "\n",
    "no_data_val = -9999\n",
    "tile_ids = [904714]\n",
    "\n",
    "for tile_id in tile_ids:\n",
    "    selected_tile = tiles.filter(ee.Filter.eq('tile', tile_id))\n",
    "    \n",
    "    # Get probabilities\n",
    "    probabilities = full_stack_10m.select(important_bands) \\\n",
    "        .updateMask(mask) \\\n",
    "        .clip(selected_tile.geometry()) \\\n",
    "        .reproject('EPSG:32733', scale=10) \\\n",
    "        .classify(rf_classifier) \\\n",
    "        .arrayFlatten([['probability_0', 'probability_1']]) \\\n",
    "        .unmask(no_data_val).toFloat()  # Add unmasking here\n",
    "\n",
    "    # Export PROBABILITIES instead of thresholded class\n",
    "    task_drive = ee.batch.Export.image.toDrive(\n",
    "        image=probabilities,\n",
    "        description=f'ProbabilityExport_{tile_id}_Drive',\n",
    "        folder='GEE_Exports',\n",
    "        fileNamePrefix=f'tile_{tile_id}_probabilities',\n",
    "        region=selected_tile.geometry(),\n",
    "        scale=10,\n",
    "        crs='EPSG:32733',\n",
    "        maxPixels=1e13,\n",
    "        fileFormat='GeoTIFF',\n",
    "        formatOptions={'noData': no_data_val}\n",
    "    )\n",
    "    task_drive.start()\n",
    "    print(f\"Drive export started for tile {tile_id}.\")"
   ]
  },
  {
   "cell_type": "markdown",
   "id": "f860ff91-80de-42eb-9135-f217ee3ca6d2",
   "metadata": {},
   "source": [
    "### **Prediction on Entire Study Area**"
   ]
  },
  {
   "cell_type": "code",
   "execution_count": 89,
   "id": "267f7ebb-8079-4cdc-83a2-16debdb126d7",
   "metadata": {},
   "outputs": [
    {
     "data": {
      "text/html": [
       "\n",
       "            <style>\n",
       "                .geemap-dark {\n",
       "                    --jp-widgets-color: white;\n",
       "                    --jp-widgets-label-color: white;\n",
       "                    --jp-ui-font-color1: white;\n",
       "                    --jp-layout-color2: #454545;\n",
       "                    background-color: #383838;\n",
       "                }\n",
       "\n",
       "                .geemap-dark .jupyter-button {\n",
       "                    --jp-layout-color3: #383838;\n",
       "                }\n",
       "\n",
       "                .geemap-colab {\n",
       "                    background-color: var(--colab-primary-surface-color, white);\n",
       "                }\n",
       "\n",
       "                .geemap-colab .jupyter-button {\n",
       "                    --jp-layout-color3: var(--colab-primary-surface-color, white);\n",
       "                }\n",
       "            </style>\n",
       "            "
      ],
      "text/plain": [
       "<IPython.core.display.HTML object>"
      ]
     },
     "metadata": {},
     "output_type": "display_data"
    },
    {
     "name": "stdout",
     "output_type": "stream",
     "text": [
      "Full study area export started. Check tasks tab.\n"
     ]
    }
   ],
   "source": [
    "# Load your study area geometry\n",
    "study_area = ee.FeatureCollection('projects/angola-thesis/assets/angola_tiles_dissolve')\n",
    "\n",
    "classifier_asset = 'projects/angola-thesis/assets/Predictions/crop_classifier_500_best_2'\n",
    "rf_classifier = ee.Classifier.load(classifier_asset).setOutputMode('MULTIPROBABILITY')\n",
    "\n",
    "no_data_val = -9999\n",
    "\n",
    "# Apply the classifier to the entire region\n",
    "full_prediction = full_stack_10m.select(important_bands) \\\n",
    "    .updateMask(mask) \\\n",
    "    .classify(rf_classifier) \\\n",
    "    .clip(study_area) \\\n",
    "    .reproject('EPSG:32733', scale=10) \\\n",
    "    .unmask(no_data_val, sameFootprint=False).toFloat()\n",
    "\n",
    "#Export to Drive\n",
    "task = ee.batch.Export.image.toDrive(\n",
    "    image=full_prediction,\n",
    "    description='Full_Study_Area_Prediction',\n",
    "    folder='GEE_Exports',\n",
    "    fileNamePrefix='study_area_pred_',\n",
    "    region=study_area.geometry(),\n",
    "    scale=10,\n",
    "    crs='EPSG:32733',\n",
    "    maxPixels=1e13,\n",
    "    fileDimensions=[32768, 32768],\n",
    "    skipEmptyTiles=True\n",
    ")\n",
    "task.start()\n",
    "print(\"Full study area export started. Check tasks tab.\")"
   ]
  },
  {
   "cell_type": "markdown",
   "id": "cd328164-a9a6-40aa-8164-5f0a404755d2",
   "metadata": {},
   "source": [
    "#### 2.) With Probability Mask"
   ]
  },
  {
   "cell_type": "code",
   "execution_count": 63,
   "id": "c6e238c6-3e8f-4275-8632-4c4748061627",
   "metadata": {},
   "outputs": [
    {
     "data": {
      "text/html": [
       "\n",
       "            <style>\n",
       "                .geemap-dark {\n",
       "                    --jp-widgets-color: white;\n",
       "                    --jp-widgets-label-color: white;\n",
       "                    --jp-ui-font-color1: white;\n",
       "                    --jp-layout-color2: #454545;\n",
       "                    background-color: #383838;\n",
       "                }\n",
       "\n",
       "                .geemap-dark .jupyter-button {\n",
       "                    --jp-layout-color3: #383838;\n",
       "                }\n",
       "\n",
       "                .geemap-colab {\n",
       "                    background-color: var(--colab-primary-surface-color, white);\n",
       "                }\n",
       "\n",
       "                .geemap-colab .jupyter-button {\n",
       "                    --jp-layout-color3: var(--colab-primary-surface-color, white);\n",
       "                }\n",
       "            </style>\n",
       "            "
      ],
      "text/plain": [
       "<IPython.core.display.HTML object>"
      ]
     },
     "metadata": {},
     "output_type": "display_data"
    },
    {
     "name": "stdout",
     "output_type": "stream",
     "text": [
      "Full study area export started with probability filtering. Check tasks tab.\n"
     ]
    }
   ],
   "source": [
    "# Train classifier in MULTIPROBABILITY mode (same as tile processing)\n",
    "rf_classifier = ee.Classifier.smileRandomForest(\n",
    "    numberOfTrees=500,\n",
    "    variablesPerSplit=3,\n",
    "    minLeafPopulation=3,\n",
    "    bagFraction=0.85, \n",
    "    seed=42\n",
    ").setOutputMode('MULTIPROBABILITY').train(\n",
    "    features=training_data_full,\n",
    "    classProperty='field',\n",
    "    inputProperties=important_bands\n",
    ")\n",
    "\n",
    "# Load study area geometry\n",
    "study_area = ee.FeatureCollection('projects/angola-thesis/assets/angola_tiles_dissolve')\n",
    "no_data_val = -9999\n",
    "\n",
    "# Process full study area with conservative threshold\n",
    "probabilities_full = full_stack_10m.select(important_bands) \\\n",
    "    .updateMask(mask) \\\n",
    "    .classify(rf_classifier) \\\n",
    "    .arrayFlatten([['probability_0', 'probability_1']]) \\\n",
    "    .clip(study_area) \\\n",
    "    .reproject('EPSG:32733', scale=10)\n",
    "\n",
    "# Apply conservative classification rule: 1=crop unless non-crop prob > 0.75\n",
    "conservative_full = probabilities_full.select('probability_0') \\\n",
    "    .gt(0.75).Not().rename('conservative_class') \\\n",
    "    .unmask(no_data_val).toFloat()\n",
    "\n",
    "# Export to Drive with tile handling\n",
    "task = ee.batch.Export.image.toDrive(\n",
    "    image=conservative_full,\n",
    "    description='Full_Study_Area_Prob_75',\n",
    "    folder='GEE_Exports',\n",
    "    fileNamePrefix='study_area_pred_prob_75_02',\n",
    "    region=study_area.geometry(),\n",
    "    scale=10,\n",
    "    crs='EPSG:32733',\n",
    "    maxPixels=1e13,\n",
    "    fileDimensions=[32768, 32768],\n",
    "    skipEmptyTiles=True,\n",
    "    fileFormat='GeoTIFF',\n",
    "    formatOptions={'noData': no_data_val}\n",
    ")\n",
    "\n",
    "task.start()\n",
    "print(\"Full study area export started with probability filtering. Check tasks tab.\")\n"
   ]
  },
  {
   "cell_type": "markdown",
   "id": "36b7cf4c-cd35-4a45-a996-1be686d2b207",
   "metadata": {},
   "source": [
    "<br>\n",
    "\n",
    "---\n",
    "\n",
    "<br>"
   ]
  },
  {
   "cell_type": "markdown",
   "id": "2a571ebc-7ee0-4277-af0d-950290dd01d2",
   "metadata": {},
   "source": [
    "# Section 4: Postprocessing"
   ]
  },
  {
   "cell_type": "markdown",
   "id": "83396d52-70e0-4457-a1ed-dc4a90cb285b",
   "metadata": {},
   "source": [
    "#### Convert RF Prediction Raster to UINT8 and Apply Morphological Opening to Remove Speckles"
   ]
  },
  {
   "cell_type": "code",
   "execution_count": 16,
   "id": "93c0d9a8-163d-47b5-afcf-52cbad5a713b",
   "metadata": {},
   "outputs": [
    {
     "data": {
      "text/html": [
       "\n",
       "            <style>\n",
       "                .geemap-dark {\n",
       "                    --jp-widgets-color: white;\n",
       "                    --jp-widgets-label-color: white;\n",
       "                    --jp-ui-font-color1: white;\n",
       "                    --jp-layout-color2: #454545;\n",
       "                    background-color: #383838;\n",
       "                }\n",
       "\n",
       "                .geemap-dark .jupyter-button {\n",
       "                    --jp-layout-color3: #383838;\n",
       "                }\n",
       "\n",
       "                .geemap-colab {\n",
       "                    background-color: var(--colab-primary-surface-color, white);\n",
       "                }\n",
       "\n",
       "                .geemap-colab .jupyter-button {\n",
       "                    --jp-layout-color3: var(--colab-primary-surface-color, white);\n",
       "                }\n",
       "            </style>\n",
       "            "
      ],
      "text/plain": [
       "<IPython.core.display.HTML object>"
      ]
     },
     "metadata": {},
     "output_type": "display_data"
    },
    {
     "name": "stderr",
     "output_type": "stream",
     "text": [
      "Despeckling: 100%|█████████████████████████████████████████████████████████████| 315216/315216 [45:12<00:00, 116.19it/s]"
     ]
    },
    {
     "name": "stdout",
     "output_type": "stream",
     "text": [
      "✅ Cleaned raster saved to: /home/airg/PSteinhilber/projects/angola/prediction/FP_Analysis_Raster/RF_Model/model_output/rf_full_prediction_prob_75_02_despeckled.tif\n"
     ]
    },
    {
     "name": "stderr",
     "output_type": "stream",
     "text": [
      "\n"
     ]
    }
   ],
   "source": [
    "def remove_small_patches(arr, max_patch_size=4, nodata=255):\n",
    "    \"\"\"Remove patches of 0 or 1 with size <= max_patch_size\"\"\"\n",
    "    result = arr.copy()\n",
    "    for val in [0, 1]:\n",
    "        mask = (arr == val)\n",
    "        labeled, num_features = label(mask, structure=np.ones((3,3)))\n",
    "        for i in range(1, num_features + 1):\n",
    "            patch = (labeled == i)\n",
    "            patch_size = np.sum(patch)\n",
    "            if patch_size <= max_patch_size:\n",
    "                result[patch] = 1 - val\n",
    "    return result\n",
    "\n",
    "input_path = \"/home/airg/PSteinhilber/projects/angola/prediction/FP_Analysis_Raster/RF_Model/model_output/rf_full_prediction_prob_75_02.tif\"\n",
    "output_path = input_path.replace('.tif', '_despeckled.tif')\n",
    "\n",
    "with rasterio.open(input_path) as src:\n",
    "    nodata_value = src.nodata if src.nodata is not None else -9999.0\n",
    "    profile = src.profile.copy()\n",
    "    profile.update(driver='GTiff', dtype='uint8', compress='lzw', nodata=255,\n",
    "                   tiled=True, blockxsize=256, blockysize=256)\n",
    "\n",
    "    with rasterio.open(output_path, 'w', **profile) as dst:\n",
    "        for ij, window in tqdm(list(dst.block_windows()), desc=\"Despeckling\"):\n",
    "            # Read with 1-pixel buffer\n",
    "            buffered_window = Window(window.col_off-1, window.row_off-1,\n",
    "                                    window.width+2, window.height+2).intersection(Window(0,0,src.width,src.height))\n",
    "            \n",
    "            data = src.read(1, window=buffered_window)\n",
    "            data_uint8 = np.where((data == nodata_value) | np.isnan(data), 255, (data >= 0.5).astype('uint8'))\n",
    "            \n",
    "            # Process and write\n",
    "            processed = remove_small_patches(data_uint8, max_patch_size=4)\n",
    "            dst.write(processed[1:-1, 1:-1], 1, window=window)\n",
    "\n",
    "print(f\"✅ Cleaned raster saved to: {output_path}\")"
   ]
  },
  {
   "cell_type": "markdown",
   "id": "52fe713e-463b-4097-ba50-d90837ea5cc0",
   "metadata": {},
   "source": [
    "#### Setting Small Patches to nodata"
   ]
  },
  {
   "cell_type": "code",
   "execution_count": 19,
   "id": "0f84a87c-a3b6-4fe1-8538-3c558dc17515",
   "metadata": {},
   "outputs": [
    {
     "data": {
      "text/html": [
       "\n",
       "            <style>\n",
       "                .geemap-dark {\n",
       "                    --jp-widgets-color: white;\n",
       "                    --jp-widgets-label-color: white;\n",
       "                    --jp-ui-font-color1: white;\n",
       "                    --jp-layout-color2: #454545;\n",
       "                    background-color: #383838;\n",
       "                }\n",
       "\n",
       "                .geemap-dark .jupyter-button {\n",
       "                    --jp-layout-color3: #383838;\n",
       "                }\n",
       "\n",
       "                .geemap-colab {\n",
       "                    background-color: var(--colab-primary-surface-color, white);\n",
       "                }\n",
       "\n",
       "                .geemap-colab .jupyter-button {\n",
       "                    --jp-layout-color3: var(--colab-primary-surface-color, white);\n",
       "                }\n",
       "            </style>\n",
       "            "
      ],
      "text/plain": [
       "<IPython.core.display.HTML object>"
      ]
     },
     "metadata": {},
     "output_type": "display_data"
    },
    {
     "name": "stderr",
     "output_type": "stream",
     "text": [
      "Filtering patches: 100%|███████████████████████████████████████████████████████| 315216/315216 [11:56<00:00, 440.17it/s]"
     ]
    },
    {
     "name": "stdout",
     "output_type": "stream",
     "text": [
      "✅ Filtered raster saved to: /home/airg/PSteinhilber/projects/angola/prediction/FP_Analysis_Raster/RF_Model/model_output/rf_full_prediction_prob_75_02_despeckled_patchfiltered.tif\n"
     ]
    },
    {
     "name": "stderr",
     "output_type": "stream",
     "text": [
      "\n"
     ]
    }
   ],
   "source": [
    "input_path = \"/home/airg/PSteinhilber/projects/angola/prediction/FP_Analysis_Raster/RF_Model/model_output/rf_full_prediction_prob_75_02_despeckled.tif\"\n",
    "output_path = input_path.replace('.tif', '_patchfiltered.tif')\n",
    "\n",
    "def process_chunk(chunk, max_patch_size=4, nodata=255):\n",
    "    \"\"\"Remove small patches from a chunk (0s and 1s)\"\"\"\n",
    "    processed = chunk.copy()\n",
    "    \n",
    "    # Process 0 patches\n",
    "    mask_0 = (chunk == 0)\n",
    "    labeled_0, num_0 = label(mask_0, structure=np.ones((3,3)))\n",
    "    sizes_0 = np.bincount(labeled_0.ravel())\n",
    "    for label_id in range(1, num_0 + 1):\n",
    "        if sizes_0[label_id] <= max_patch_size:\n",
    "            processed[labeled_0 == label_id] = nodata\n",
    "    \n",
    "    # Process 1 patches\n",
    "    mask_1 = (chunk == 1)\n",
    "    labeled_1, num_1 = label(mask_1, structure=np.ones((3,3)))\n",
    "    sizes_1 = np.bincount(labeled_1.ravel())\n",
    "    for label_id in range(1, num_1 + 1):\n",
    "        if sizes_1[label_id] <= max_patch_size:\n",
    "            processed[labeled_1 == label_id] = nodata\n",
    "    \n",
    "    return processed\n",
    "\n",
    "with rasterio.open(input_path) as src:\n",
    "    profile = src.profile.copy()\n",
    "    nodata = profile.get('nodata', 255)\n",
    "    profile.update(dtype='uint8', compress='lzw', tiled=True, blockxsize=256, blockysize=256)\n",
    "\n",
    "    with rasterio.open(output_path, 'w', **profile) as dst:\n",
    "        for ij, window in tqdm(list(dst.block_windows()), desc=\"Filtering patches\"):\n",
    "            # Read with 2-pixel buffer for edge handling\n",
    "            buffered_window = Window(\n",
    "                window.col_off - 2,\n",
    "                window.row_off - 2,\n",
    "                window.width + 4,\n",
    "                window.height + 4\n",
    "            ).intersection(Window(0, 0, src.width, src.height))\n",
    "            \n",
    "            data = src.read(1, window=buffered_window)\n",
    "            data_uint8 = np.where((data == nodata) | np.isnan(data), nodata, (data >= 0.5).astype('uint8'))\n",
    "            \n",
    "            # Process chunk\n",
    "            processed = process_chunk(data_uint8)\n",
    "            \n",
    "            # Write only the original window (trim buffer)\n",
    "            dst.write(processed[2:-2, 2:-2], 1, window=window)\n",
    "\n",
    "print(f\"✅ Filtered raster saved to: {output_path}\")"
   ]
  },
  {
   "cell_type": "markdown",
   "id": "9be6d6eb-94f9-4a8e-814b-00aef2a116ab",
   "metadata": {},
   "source": [
    "### Mask Fractional Prediction Map"
   ]
  },
  {
   "cell_type": "code",
   "execution_count": null,
   "id": "26e8ffd7-0411-4ba6-aa64-d0f27146bf65",
   "metadata": {},
   "outputs": [],
   "source": [
    "# Input/output paths\n",
    "buffered_mask_path = \"/home/airg/PSteinhilber/projects/angola/prediction/FP_Analysis_Raster/RF_Model/model_output/buffered_mask_reprojected.tif\"\n",
    "fractional_map_path = \"/home/airg/PSteinhilber/projects/angola/prediction/merged_fractional_map_final.tif\"\n",
    "\n",
    "# Get target CRS from fractional map\n",
    "with rasterio.open(fractional_map_path) as frac_src:\n",
    "    dst_crs = frac_src.crs\n",
    "    dst_transform = frac_src.transform\n",
    "    dst_width = frac_src.width\n",
    "    dst_height = frac_src.height\n",
    "\n",
    "# ====== STEP 1: REPROJECT RF PREDICTION TO TARGET CRS ======\n",
    "reprojected_rf_path = rf_raster_path.replace('.tif', '_reprojected.tif')\n",
    "\n",
    "with rasterio.open(rf_raster_path) as src:\n",
    "    # Calculate transform for target CRS\n",
    "    transform, width, height = calculate_default_transform(\n",
    "        src.crs, dst_crs, src.width, src.height, *src.bounds\n",
    "    )\n",
    "    \n",
    "    # Create reprojected RF prediction\n",
    "    profile = src.profile.copy()\n",
    "    profile.update({\n",
    "        'crs': dst_crs,\n",
    "        'transform': transform,\n",
    "        'width': width,\n",
    "        'height': height,\n",
    "        'dtype': 'uint8',\n",
    "        'nodata': 0\n",
    "    })\n",
    "    \n",
    "    with rasterio.open(reprojected_rf_path, 'w', **profile) as dst:\n",
    "        for ij, window in tqdm(dst.block_windows(), desc=\"Reprojecting RF\"):\n",
    "            src_window = Window(\n",
    "                window.col_off - 512, window.row_off - 512,\n",
    "                window.width + 1024, window.height + 1024\n",
    "            ).intersection(Window(0, 0, src.width, src.height))\n",
    "            \n",
    "            src_data = src.read(1, window=src_window)\n",
    "            dst_data = np.zeros((window.height, window.width), dtype='uint8')\n",
    "            \n",
    "            reproject(\n",
    "                source=src_data,\n",
    "                destination=dst_data,\n",
    "                src_transform=src.window_transform(src_window),\n",
    "                src_crs=src.crs,\n",
    "                dst_transform=transform,\n",
    "                dst_crs=dst_crs,\n",
    "                resampling=Resampling.nearest\n",
    "            )\n",
    "            \n",
    "            dst.write(dst_data, 1, window=window)"
   ]
  },
  {
   "cell_type": "code",
   "execution_count": null,
   "id": "6b163e2d-168b-4f86-bb6a-d3c2192f6f04",
   "metadata": {},
   "outputs": [],
   "source": [
    "# ====== STEP 2: BUFFER IN TARGET CRS ======\n",
    "buffer_pixels = 3  # 30m buffer for 10m pixels\n",
    "struct = np.ones((3,3), dtype=bool)\n",
    "\n",
    "with rasterio.open(reprojected_rf_path) as src:\n",
    "    profile = src.profile.copy()\n",
    "    profile.update(dtype='uint8', nodata=0)\n",
    "    \n",
    "    with rasterio.open(buffered_mask_path, 'w', **profile) as dst:\n",
    "        for ij, window in tqdm(dst.block_windows(), desc=\"Buffering\"):\n",
    "            # Read with buffer margin\n",
    "            buffered_window = Window(\n",
    "                window.col_off - buffer_pixels,\n",
    "                window.row_off - buffer_pixels,\n",
    "                window.width + 2*buffer_pixels,\n",
    "                window.height + 2*buffer_pixels\n",
    "            ).intersection(Window(0, 0, src.width, src.height))\n",
    "            \n",
    "            data = src.read(1, window=buffered_window)\n",
    "            crop_mask = (data == 1).astype(bool)\n",
    "            \n",
    "            if np.any(crop_mask):\n",
    "                for _ in range(buffer_pixels):\n",
    "                    crop_mask = binary_dilation(crop_mask, structure=struct)\n",
    "                \n",
    "                # Trim to original window\n",
    "                result = crop_mask[\n",
    "                    buffer_pixels:-buffer_pixels,\n",
    "                    buffer_pixels:-buffer_pixels\n",
    "                ]\n",
    "            else:\n",
    "                result = np.zeros((window.height, window.width), dtype=bool)\n",
    "            \n",
    "            dst.write(result.astype('uint8'), 1, window=window)\n",
    "\n",
    "# ====== STEP 3: APPLY MASK (NOW ALREADY ALIGNED) ======\n",
    "with rasterio.open(buffered_mask_path) as mask_src, rasterio.open(fractional_map_path) as frac_src:\n",
    "    profile = frac_src.profile.copy()\n",
    "    profile.update(compress='lzw', nodata=frac_src.nodata)\n",
    "    \n",
    "    with rasterio.open(output_path, 'w', **profile) as dst:\n",
    "        for window in tqdm(frac_src.block_windows(), desc=\"Applying mask\"):\n",
    "            mask_data = mask_src.read(1, window=window).astype(bool)\n",
    "            frac_data = frac_src.read(1, window=window)\n",
    "            masked = np.where(mask_data, frac_data, profile['nodata'])\n",
    "            dst.write(masked, 1, window=window)\n",
    "\n",
    "print(f\"✅ Final output saved to: {output_path}\")"
   ]
  }
 ],
 "metadata": {
  "kernelspec": {
   "display_name": "Python 3 (ipykernel)",
   "language": "python",
   "name": "python3"
  },
  "language_info": {
   "codemirror_mode": {
    "name": "ipython",
    "version": 3
   },
   "file_extension": ".py",
   "mimetype": "text/x-python",
   "name": "python",
   "nbconvert_exporter": "python",
   "pygments_lexer": "ipython3",
   "version": "3.10.16"
  }
 },
 "nbformat": 4,
 "nbformat_minor": 5
}
