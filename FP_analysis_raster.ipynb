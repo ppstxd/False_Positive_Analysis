{
 "cells": [
  {
   "cell_type": "markdown",
   "id": "ce3d3583",
   "metadata": {},
   "source": [
    "# <b><u>False Positive Analysis and Cleaning<b><u>"
   ]
  },
  {
   "cell_type": "markdown",
   "id": "c89e11e7-b120-4bed-bf88-12fbd27017f2",
   "metadata": {},
   "source": [
    "This script offers a cleaning approach for falsly predicted crop pixels using a Random Forest Model which is trained on labeled training data."
   ]
  },
  {
   "cell_type": "markdown",
   "id": "5781cb3c-5cf1-4201-84ee-484f39f28585",
   "metadata": {},
   "source": [
    "### Load necessary packages"
   ]
  },
  {
   "cell_type": "code",
   "execution_count": 1,
   "id": "054700f0",
   "metadata": {},
   "outputs": [],
   "source": [
    "# Standard library imports\n",
    "import math\n",
    "import os\n",
    "import random\n",
    "import shutil\n",
    "import tempfile\n",
    "from collections import defaultdict\n",
    "from math import ceil\n",
    "\n",
    "# Third-party imports\n",
    "import ee\n",
    "import geemap\n",
    "import geopandas as gpd\n",
    "import matplotlib.pyplot as plt\n",
    "import numpy as np\n",
    "import pandas as pd\n",
    "import rasterio\n",
    "from osgeo import gdal, gdalconst, osr\n",
    "from rasterio.windows import Window\n",
    "from scipy.stats import randint, uniform\n",
    "from shapely.geometry import Point\n",
    "from sklearn.ensemble import RandomForestClassifier\n",
    "from sklearn.impute import SimpleImputer\n",
    "from sklearn.model_selection import RandomizedSearchCV, train_test_split\n",
    "from sklearn.metrics import accuracy_score, classification_report, confusion_matrix, ConfusionMatrixDisplay\n",
    "from tqdm import tqdm\n",
    "import joblib\n",
    "import seaborn as sns"
   ]
  },
  {
   "cell_type": "markdown",
   "id": "832dcd37-99da-490f-87ae-5b81dac5fb3f",
   "metadata": {},
   "source": [
    "# **Section 1: Reclassify Rasters and create Sampling Points**"
   ]
  },
  {
   "cell_type": "markdown",
   "id": "6f6f4246",
   "metadata": {},
   "source": [
    "#### Step 1: Reclassify Predicted Fractional Map to low frequency and high frequency crop field "
   ]
  },
  {
   "cell_type": "code",
   "execution_count": null,
   "id": "64f84413",
   "metadata": {},
   "outputs": [],
   "source": [
    "# Input merged Raster\n",
    "input_path = r\"C:\\Users\\phili\\Thesis\\tmp\\ValidatedTiles\\merged_fractional_map.tif\""
   ]
  },
  {
   "cell_type": "code",
   "execution_count": null,
   "id": "9bd7b126",
   "metadata": {},
   "outputs": [],
   "source": [
    "output_dir = r\"C:\\Users\\phili\\Thesis\\tmp\\false_positive_analysis\\FP_Raster_output\"\n",
    "os.makedirs(output_dir, exist_ok=True)  # Create directory if missing\n",
    "output_path = os.path.join(output_dir, \"crop_frequency_reclass.tif\")"
   ]
  },
  {
   "cell_type": "code",
   "execution_count": null,
   "id": "451f1704",
   "metadata": {},
   "outputs": [],
   "source": [
    "# Open input raster\n",
    "src_ds = gdal.Open(input_path)\n",
    "band = src_ds.GetRasterBand(1)\n",
    "xsize = band.XSize\n",
    "ysize = band.YSize\n",
    "\n",
    "# Create output raster with same dimensions and projection\n",
    "driver = gdal.GetDriverByName('GTiff')\n",
    "dst_ds = driver.Create(\n",
    "    output_path, xsize, ysize, 1, gdal.GDT_Byte,\n",
    "    options=['COMPRESS=LZW', 'BIGTIFF=YES']\n",
    ")\n",
    "dst_ds.SetProjection(src_ds.GetProjection())\n",
    "dst_ds.SetGeoTransform(src_ds.GetGeoTransform())\n",
    "out_band = dst_ds.GetRasterBand(1)\n",
    "out_band.SetNoDataValue(0)\n",
    "\n",
    "# Optimize block size based on raster structure\n",
    "block_sizes = band.GetBlockSize()\n",
    "x_block_size = block_sizes[0]\n",
    "y_block_size = block_sizes[1]\n",
    "\n",
    "# Process raster in blocks\n",
    "for y in range(0, ysize, y_block_size):\n",
    "    if y + y_block_size < ysize:\n",
    "        rows = y_block_size\n",
    "    else:\n",
    "        rows = ysize - y\n",
    "        \n",
    "    for x in range(0, xsize, x_block_size):\n",
    "        if x + x_block_size < xsize:\n",
    "            cols = x_block_size\n",
    "        else:\n",
    "            cols = xsize - x\n",
    "\n",
    "        # Read block\n",
    "        data = band.ReadAsArray(x, y, cols, rows)\n",
    "        \n",
    "        # Reclassify using vectorized operations\n",
    "        reclassified = np.full(data.shape, 0, dtype=np.uint8)  # Initialize with NoData\n",
    "        mask_low = (data > 0) & (data <= 50)\n",
    "        mask_high = data > 50\n",
    "        reclassified[mask_low] = 1\n",
    "        reclassified[mask_high] = 2\n",
    "        \n",
    "        # Write block\n",
    "        out_band.WriteArray(reclassified, x, y)\n",
    "\n",
    "# Finalize output\n",
    "dst_ds.FlushCache()\n",
    "dst_ds = None\n",
    "src_ds = None"
   ]
  },
  {
   "cell_type": "markdown",
   "id": "25a55e07",
   "metadata": {},
   "source": [
    "### Step 2: Reclassify Land Cover Crop Raster to 3 classes: 0 (all agree non-crop), 1 (1-2 agree it's crop), 2 (3-4 agree it's crop)"
   ]
  },
  {
   "cell_type": "code",
   "execution_count": null,
   "id": "f6465563",
   "metadata": {},
   "outputs": [],
   "source": [
    "input_path = r\"C:\\Users\\phili\\Thesis\\tmp\\no_crop_mask\\non_crop_mask_final.tif\"\n",
    "output_dir = r\"C:\\Users\\phili\\Thesis\\tmp\\false_positive_analysis\\FP_Raster_output\"\n",
    "os.makedirs(output_dir, exist_ok=True)\n",
    "output_path = os.path.join(output_dir, \"landcover_crop_reclass.tif\")"
   ]
  },
  {
   "cell_type": "code",
   "execution_count": null,
   "id": "53efa32c",
   "metadata": {},
   "outputs": [],
   "source": [
    "\n",
    "with rasterio.open(input_path) as src:\n",
    "    profile = src.profile.copy()\n",
    "    profile.update(\n",
    "        dtype='uint8',\n",
    "        nodata=255,\n",
    "        compress='lzw'\n",
    "    )\n",
    "    \n",
    "    with rasterio.open(output_path, 'w', **profile) as dst:\n",
    "        # Process raster in 512x512 blocks\n",
    "        for ji, window in src.block_windows(1):\n",
    "            data = src.read(1, window=window)\n",
    "            \n",
    "            # Initialize output with NoData (255)\n",
    "            reclassified = np.full_like(data, 255, dtype='uint8')\n",
    "            \n",
    "            # Exact value reclassification\n",
    "            reclassified[data == 100] = 0    # Class 0\n",
    "            reclassified[data == 75] = 1     # Class 1\n",
    "            reclassified[data == 50] = 1     # Class 1\n",
    "            reclassified[data == 25] = 2     # Class 2\n",
    "            reclassified[data == 0] = 2      # Class 2\n",
    "            \n",
    "            dst.write(reclassified, window=window, indexes=1)"
   ]
  },
  {
   "cell_type": "markdown",
   "id": "0aa012ad",
   "metadata": {},
   "source": [
    "### Step 3: Intersect both Maps"
   ]
  },
  {
   "cell_type": "code",
   "execution_count": null,
   "id": "e90512d0",
   "metadata": {},
   "outputs": [],
   "source": [
    "# Input paths\n",
    "crop_freq_path = \"/home/airg/PSteinhilber/projects/angola/prediction/FP_Analysis_Raster/crop_frequency_reclass.tif\"\n",
    "lc_path = \"/home/airg/PSteinhilber/projects/angola/prediction/FP_Analysis_Raster/landcover_crop_reclass.tif\"\n",
    "output_path = \"/home/airg/PSteinhilber/projects/angola/prediction/FP_Analysis_Raster/intersect_fractional_lc.tif\""
   ]
  },
  {
   "cell_type": "code",
   "execution_count": null,
   "id": "ca118db4-70e8-4ba9-97cd-c39ea964af7a",
   "metadata": {},
   "outputs": [],
   "source": [
    "# Configure GDAL for massive datasets\n",
    "gdal.SetConfigOption('GDAL_DISABLE_READDIR_ON_OPEN', 'YES')\n",
    "gdal.SetConfigOption('CHECK_DISK_FREE_SPACE', 'NO')\n",
    "gdal.SetConfigOption('GDAL_NUM_THREADS', 'ALL_CPUS')\n",
    "\n",
    "# Open datasets\n",
    "crop_ds = gdal.OpenEx(crop_freq_path, gdalconst.GA_ReadOnly)\n",
    "lc_ds = gdal.OpenEx(lc_path, gdalconst.GA_ReadOnly)\n",
    "\n",
    "# Get crop raster parameters\n",
    "crop_gt = crop_ds.GetGeoTransform()\n",
    "crop_proj = crop_ds.GetProjection()\n",
    "cols = crop_ds.RasterXSize\n",
    "rows = crop_ds.RasterYSize\n",
    "\n",
    "# Create output with compression\n",
    "driver = gdal.GetDriverByName('GTiff')\n",
    "output_ds = driver.Create(\n",
    "    output_path, cols, rows, 1, gdalconst.GDT_Byte,\n",
    "    options=['COMPRESS=LZW', 'PREDICTOR=2', 'TILED=YES', 'BIGTIFF=YES', 'BLOCKXSIZE=256', 'BLOCKYSIZE=256']\n",
    ")\n",
    "output_ds.SetGeoTransform(crop_gt)\n",
    "output_ds.SetProjection(crop_proj)\n",
    "output_band = output_ds.GetRasterBand(1)\n",
    "output_band.SetNoDataValue(0)\n",
    "\n",
    "# Process in blocks with exact dimension matching\n",
    "block_size = 1024  # Keep this as-is\n",
    "total_blocks = ((rows + block_size - 1) // block_size) * ((cols + block_size - 1) // block_size)\n",
    "\n",
    "with tqdm(total=total_blocks, desc=\"Processing\", unit=\"block\") as pbar:\n",
    "    for y_offset in range(0, rows, block_size):\n",
    "        y_height = min(block_size, rows - y_offset)\n",
    "        \n",
    "        for x_offset in range(0, cols, block_size):\n",
    "            x_width = min(block_size, cols - x_offset)\n",
    "            \n",
    "            # Read crop frequency block\n",
    "            crop_block = crop_ds.GetRasterBand(1).ReadAsArray(x_offset, y_offset, x_width, y_height)\n",
    "            \n",
    "            # Calculate exact bounds for this block\n",
    "            x_min = crop_gt[0] + x_offset * crop_gt[1]\n",
    "            y_max = crop_gt[3] + y_offset * crop_gt[5]\n",
    "            x_max = x_min + x_width * crop_gt[1]\n",
    "            y_min = y_max + y_height * crop_gt[5]\n",
    "            \n",
    "            # Warp LC data with EXPLICIT output dimensions\n",
    "            lc_block = gdal.Warp('', lc_path,\n",
    "                format='MEM',\n",
    "                outputBounds=(x_min, y_min, x_max, y_max),\n",
    "                xRes=crop_gt[1],\n",
    "                yRes=abs(crop_gt[5]),\n",
    "                width=x_width,  # Force exact dimension match\n",
    "                height=y_height,\n",
    "                resampleAlg=gdalconst.GRA_NearestNeighbour,\n",
    "                outputType=gdalconst.GDT_Byte\n",
    "            ).ReadAsArray()\n",
    "            \n",
    "            # Verify block shapes match\n",
    "            if crop_block.shape != lc_block.shape:\n",
    "                raise ValueError(f\"Block shape mismatch at ({x_offset},{y_offset}): {crop_block.shape} vs {lc_block.shape}\")\n",
    "            \n",
    "            # Calculate output classes\n",
    "            output_data = np.zeros_like(crop_block, dtype=np.uint8)\n",
    "            \n",
    "            # Class mapping with explicit casting\n",
    "            output_data = output_data.astype(np.uint8)\n",
    "            output_data[(crop_block == 1) & (lc_block == 0)] = 1\n",
    "            output_data[(crop_block == 1) & (lc_block == 1)] = 2\n",
    "            output_data[(crop_block == 1) & (lc_block == 2)] = 3\n",
    "            output_data[(crop_block == 2) & (lc_block == 0)] = 4\n",
    "            output_data[(crop_block == 2) & (lc_block == 1)] = 5\n",
    "            output_data[(crop_block == 2) & (lc_block == 2)] = 6\n",
    "            \n",
    "            # Write output with exact window\n",
    "            output_band.WriteArray(output_data, xoff=x_offset, yoff=y_offset)\n",
    "            pbar.update(1)\n",
    "\n",
    "# Cleanup\n",
    "output_ds = None\n",
    "crop_ds = None\n",
    "lc_ds = None\n",
    "\n",
    "print(f\"✅ Success! Output created at: {output_path}\")"
   ]
  },
  {
   "cell_type": "markdown",
   "id": "a06a4fc4",
   "metadata": {},
   "source": [
    "### Step 4: Sample Points within each class"
   ]
  },
  {
   "cell_type": "markdown",
   "id": "c013f8b3",
   "metadata": {},
   "source": [
    "#### 4.1: Count Pixels per Class"
   ]
  },
  {
   "cell_type": "code",
   "execution_count": null,
   "id": "187e625a",
   "metadata": {},
   "outputs": [],
   "source": [
    "raster_path = \"/home/airg/PSteinhilber/projects/angola/prediction/FP_Analysis_Raster/intersect_fractional_lc.tif\"\n",
    "output_path = \"/home/airg/PSteinhilber/projects/angola/prediction/FP_Analysis_Raster/sampling_points.gpkg\""
   ]
  },
  {
   "cell_type": "code",
   "execution_count": null,
   "id": "64e1016c",
   "metadata": {},
   "outputs": [],
   "source": [
    "def count_classes_blocked(raster_path):\n",
    "    \"\"\"Count pixels per class with progress tracking\"\"\"\n",
    "    ds = gdal.Open(raster_path, gdal.GA_ReadOnly)\n",
    "    band = ds.GetRasterBand(1)\n",
    "    nodata = band.GetNoDataValue()\n",
    "    xsize, ysize = band.XSize, band.YSize\n",
    "    block_x, block_y = band.GetBlockSize()\n",
    "    \n",
    "    counts = {}\n",
    "    total_blocks = ((ysize + block_y - 1) // block_y) * ((xsize + block_x - 1) // block_x)\n",
    "    \n",
    "    with tqdm(total=total_blocks, desc=\"Counting classes\", unit=\"block\") as pbar:\n",
    "        for y in range(0, ysize, block_y):\n",
    "            y_height = min(block_y, ysize - y)\n",
    "            for x in range(0, xsize, block_x):\n",
    "                x_width = min(block_x, xsize - x)\n",
    "                data = band.ReadAsArray(x, y, x_width, y_height)\n",
    "                \n",
    "                if nodata is not None:\n",
    "                    data = data[data != nodata]\n",
    "                \n",
    "                unique, counts_chunk = np.unique(data, return_counts=True)\n",
    "                for val, cnt in zip(unique, counts_chunk):\n",
    "                    if val == 0:  # Skip NoData\n",
    "                        continue\n",
    "                    counts[val] = counts.get(val, 0) + int(cnt)\n",
    "                \n",
    "                pbar.update(1)\n",
    "    \n",
    "    ds = None\n",
    "    return counts"
   ]
  },
  {
   "cell_type": "code",
   "execution_count": null,
   "id": "ad918890-6a61-49c1-aa05-3d56a7a85866",
   "metadata": {},
   "outputs": [],
   "source": [
    "# Count classes\n",
    "class_counts = count_classes_blocked(intersect_raster)\n",
    "print(\"Pixel counts per class:\", class_counts)"
   ]
  },
  {
   "cell_type": "code",
   "execution_count": null,
   "id": "b4656a94-7594-4a00-888d-35a39a7a278f",
   "metadata": {},
   "outputs": [],
   "source": [
    "# Use pre-calculated pixel counts\n",
    "pixel_counts = {3: 431784025, 1: 15857486835, 4: 6093596578, \n",
    "                5: 3622280348, 2: 3342416411, 6: 1171686069}\n",
    "total_pixels = sum(pixel_counts.values())\n",
    "\n",
    "# Calculate proportional samples\n",
    "samples_per_class = {\n",
    "    cls: max(1, ceil((count / total_pixels) * 300)) \n",
    "    for cls, count in pixel_counts.items()\n",
    "}"
   ]
  },
  {
   "cell_type": "code",
   "execution_count": null,
   "id": "75e175db-6f8e-4da3-89d8-79425bc7ce02",
   "metadata": {},
   "outputs": [],
   "source": [
    "def calculate_samples(pixel_counts, total_samples=300):\n",
    "    total = sum(pixel_counts.values())\n",
    "    samples = {\n",
    "        cls: max(1, int(round((count / total) * total_samples)))\n",
    "        for cls, count in pixel_counts.items()\n",
    "    }\n",
    "    # Adjust to exact total\n",
    "    current_total = sum(samples.values())\n",
    "    if current_total != total_samples:\n",
    "        adjust_cls = max(samples, key=lambda k: samples[k])\n",
    "        samples[adjust_cls] += (total_samples - current_total)\n",
    "    return samples\n",
    "\n",
    "def random_pixel_sampling(raster_path, samples_per_class, max_attempts=1000000, min_distance_deg=0.001):\n",
    "    with rasterio.open(raster_path) as src:\n",
    "        height, width = src.height, src.width\n",
    "        classes_needed = samples_per_class.copy()\n",
    "        found_points = defaultdict(list)\n",
    "        found_coords = []\n",
    "\n",
    "        total_needed = sum(classes_needed.values())\n",
    "        attempts = 0\n",
    "\n",
    "        # For progress bar\n",
    "        pbar = tqdm(total=total_needed, desc=\"Random sampling\", unit=\"pt\")\n",
    "\n",
    "        while sum(classes_needed.values()) > 0 and attempts < max_attempts:\n",
    "            # Random pixel\n",
    "            row = random.randint(0, height - 1)\n",
    "            col = random.randint(0, width - 1)\n",
    "            val = src.read(1, window=rasterio.windows.Window(col, row, 1, 1))[0, 0]\n",
    "\n",
    "            # Only sample if this class still needs points\n",
    "            if val in classes_needed and classes_needed[val] > 0:\n",
    "                # Convert to lon/lat\n",
    "                lon, lat = src.xy(row, col)\n",
    "                pt = Point(lon, lat)\n",
    "\n",
    "                # Check minimum distance constraint\n",
    "                too_close = False\n",
    "                for other_pt in found_coords:\n",
    "                    if pt.distance(other_pt) < min_distance_deg:\n",
    "                        too_close = True\n",
    "                        break\n",
    "                if too_close:\n",
    "                    attempts += 1\n",
    "                    continue\n",
    "\n",
    "                found_points[val].append(pt)\n",
    "                found_coords.append(pt)\n",
    "                classes_needed[val] -= 1\n",
    "                pbar.update(1)\n",
    "            attempts += 1\n",
    "\n",
    "        pbar.close()\n",
    "\n",
    "        # Flatten to GeoDataFrame\n",
    "        data = []\n",
    "        for cls, pts in found_points.items():\n",
    "            for pt in pts:\n",
    "                data.append({'class': cls, 'geometry': pt})\n",
    "        gdf = gpd.GeoDataFrame(data, crs='EPSG:4326')\n",
    "\n",
    "        if sum(classes_needed.values()) > 0:\n",
    "            print(f\"Warning: Could not find all samples. Missing: {classes_needed}\")\n",
    "\n",
    "        return gdf"
   ]
  },
  {
   "cell_type": "code",
   "execution_count": null,
   "id": "0ce4988a-24c3-424f-9779-9b9c76b065c0",
   "metadata": {},
   "outputs": [],
   "source": [
    "\n",
    "def main():\n",
    "    samples = calculate_samples(pixel_counts)\n",
    "    print(\"Samples per class:\", samples)\n",
    "    gdf = random_pixel_sampling(raster_path, samples, min_distance_deg=0.001)  # ~100m at equator\n",
    "    gdf.to_file(output_path, driver=\"GPKG\")\n",
    "    print(f\"Saved {len(gdf)} points to {output_path}\")\n",
    "\n",
    "if __name__ == \"__main__\":\n",
    "    main()"
   ]
  },
  {
   "cell_type": "markdown",
   "id": "1a990548-1345-41a5-a882-a5acd1192453",
   "metadata": {},
   "source": [
    "<br>\n",
    "\n",
    "---\n",
    "\n",
    "<br>"
   ]
  },
  {
   "cell_type": "markdown",
   "id": "1f2279e6-8fe9-4afa-bb8a-f3becce2dc72",
   "metadata": {},
   "source": [
    "# **Section 2: Sampling in Google Earth Engine**"
   ]
  },
  {
   "cell_type": "markdown",
   "id": "79e769ca-d3fb-44a6-9db3-41ce40be8278",
   "metadata": {},
   "source": [
    "### Connect to GEE"
   ]
  },
  {
   "cell_type": "code",
   "execution_count": 2,
   "id": "375c2eaa-8774-4994-b1f6-c17e26e7b09c",
   "metadata": {},
   "outputs": [
    {
     "data": {
      "text/html": [
       "\n",
       "            <style>\n",
       "                .geemap-dark {\n",
       "                    --jp-widgets-color: white;\n",
       "                    --jp-widgets-label-color: white;\n",
       "                    --jp-ui-font-color1: white;\n",
       "                    --jp-layout-color2: #454545;\n",
       "                    background-color: #383838;\n",
       "                }\n",
       "\n",
       "                .geemap-dark .jupyter-button {\n",
       "                    --jp-layout-color3: #383838;\n",
       "                }\n",
       "\n",
       "                .geemap-colab {\n",
       "                    background-color: var(--colab-primary-surface-color, white);\n",
       "                }\n",
       "\n",
       "                .geemap-colab .jupyter-button {\n",
       "                    --jp-layout-color3: var(--colab-primary-surface-color, white);\n",
       "                }\n",
       "            </style>\n",
       "            "
      ],
      "text/plain": [
       "<IPython.core.display.HTML object>"
      ]
     },
     "metadata": {},
     "output_type": "display_data"
    }
   ],
   "source": [
    "ee.Authenticate()\n",
    "# Initialize the Earth Engine API and Project\n",
    "ee.Initialize(project='angola-thesis')"
   ]
  },
  {
   "cell_type": "code",
   "execution_count": 3,
   "id": "de54e194-f8ef-4f36-b23f-9bd89975a9c6",
   "metadata": {},
   "outputs": [
    {
     "data": {
      "text/html": [
       "\n",
       "            <style>\n",
       "                .geemap-dark {\n",
       "                    --jp-widgets-color: white;\n",
       "                    --jp-widgets-label-color: white;\n",
       "                    --jp-ui-font-color1: white;\n",
       "                    --jp-layout-color2: #454545;\n",
       "                    background-color: #383838;\n",
       "                }\n",
       "\n",
       "                .geemap-dark .jupyter-button {\n",
       "                    --jp-layout-color3: #383838;\n",
       "                }\n",
       "\n",
       "                .geemap-colab {\n",
       "                    background-color: var(--colab-primary-surface-color, white);\n",
       "                }\n",
       "\n",
       "                .geemap-colab .jupyter-button {\n",
       "                    --jp-layout-color3: var(--colab-primary-surface-color, white);\n",
       "                }\n",
       "            </style>\n",
       "            "
      ],
      "text/plain": [
       "<IPython.core.display.HTML object>"
      ]
     },
     "metadata": {},
     "output_type": "display_data"
    },
    {
     "name": "stdout",
     "output_type": "stream",
     "text": [
      "300\n",
      "1\n"
     ]
    }
   ],
   "source": [
    "# Load sampling points \n",
    "points = ee.FeatureCollection('projects/angola-thesis/assets/sampling_points_labeled')\n",
    "\n",
    "# Check if assets exist\n",
    "print(points.size().getInfo())  # Should return 300"
   ]
  },
  {
   "cell_type": "markdown",
   "id": "14a430a6-29fa-45a8-a938-216a34957eff",
   "metadata": {},
   "source": [
    "## Load Predictor Variables"
   ]
  },
  {
   "cell_type": "markdown",
   "id": "328a5bbc-18ff-4245-ba54-2e352c3e8529",
   "metadata": {},
   "source": [
    "#### DEM"
   ]
  },
  {
   "cell_type": "code",
   "execution_count": 4,
   "id": "679b81c6-3f73-4e7c-a029-68a71a71424f",
   "metadata": {},
   "outputs": [
    {
     "data": {
      "text/html": [
       "\n",
       "            <style>\n",
       "                .geemap-dark {\n",
       "                    --jp-widgets-color: white;\n",
       "                    --jp-widgets-label-color: white;\n",
       "                    --jp-ui-font-color1: white;\n",
       "                    --jp-layout-color2: #454545;\n",
       "                    background-color: #383838;\n",
       "                }\n",
       "\n",
       "                .geemap-dark .jupyter-button {\n",
       "                    --jp-layout-color3: #383838;\n",
       "                }\n",
       "\n",
       "                .geemap-colab {\n",
       "                    background-color: var(--colab-primary-surface-color, white);\n",
       "                }\n",
       "\n",
       "                .geemap-colab .jupyter-button {\n",
       "                    --jp-layout-color3: var(--colab-primary-surface-color, white);\n",
       "                }\n",
       "            </style>\n",
       "            "
      ],
      "text/plain": [
       "<IPython.core.display.HTML object>"
      ]
     },
     "metadata": {},
     "output_type": "display_data"
    }
   ],
   "source": [
    "# ALOS DSM (12m)\n",
    "alos = ee.ImageCollection('JAXA/ALOS/AW3D30/V3_2') \\\n",
    "         .mosaic() \\\n",
    "         .select('DSM') \\\n",
    "         .clip(angola)\n",
    "\n",
    "# Terrain derivatives\n",
    "slope = ee.Terrain.slope(alos).rename('slope')\n",
    "tpi = alos.subtract(alos.reduceNeighborhood(\n",
    "    reducer=ee.Reducer.mean(),\n",
    "    kernel=ee.Kernel.square(3)\n",
    ")).rename('tpi')"
   ]
  },
  {
   "cell_type": "markdown",
   "id": "5a817893-426b-4ebc-95d8-e559441f1638",
   "metadata": {},
   "source": [
    "#### Soil Texture"
   ]
  },
  {
   "cell_type": "code",
   "execution_count": 5,
   "id": "03982f55-d2b6-4fa8-b665-bb4492ba4fa4",
   "metadata": {},
   "outputs": [
    {
     "data": {
      "text/html": [
       "\n",
       "            <style>\n",
       "                .geemap-dark {\n",
       "                    --jp-widgets-color: white;\n",
       "                    --jp-widgets-label-color: white;\n",
       "                    --jp-ui-font-color1: white;\n",
       "                    --jp-layout-color2: #454545;\n",
       "                    background-color: #383838;\n",
       "                }\n",
       "\n",
       "                .geemap-dark .jupyter-button {\n",
       "                    --jp-layout-color3: #383838;\n",
       "                }\n",
       "\n",
       "                .geemap-colab {\n",
       "                    background-color: var(--colab-primary-surface-color, white);\n",
       "                }\n",
       "\n",
       "                .geemap-colab .jupyter-button {\n",
       "                    --jp-layout-color3: var(--colab-primary-surface-color, white);\n",
       "                }\n",
       "            </style>\n",
       "            "
      ],
      "text/plain": [
       "<IPython.core.display.HTML object>"
      ]
     },
     "metadata": {},
     "output_type": "display_data"
    }
   ],
   "source": [
    "# Soil Texture (250m)\n",
    "soil = ee.Image('OpenLandMap/SOL/SOL_TEXTURE-CLASS_USDA-TT_M/v02') \\\n",
    "    .select('b0').rename('soil_texture')\n",
    "\n",
    "# ESA WorldCover (10m)\n",
    "landcover = ee.ImageCollection('ESA/WorldCover/v200') \\\n",
    "    .filterDate('2020-01-01', '2024-12-31') \\\n",
    "    .first()"
   ]
  },
  {
   "cell_type": "markdown",
   "id": "f2544414-f055-4c0e-be58-4ee277b22da1",
   "metadata": {},
   "source": [
    "#### Evapotranspiration + Precipitation"
   ]
  },
  {
   "cell_type": "code",
   "execution_count": 6,
   "id": "ffc29b51-abc7-4959-a490-31148531d480",
   "metadata": {},
   "outputs": [
    {
     "data": {
      "text/html": [
       "\n",
       "            <style>\n",
       "                .geemap-dark {\n",
       "                    --jp-widgets-color: white;\n",
       "                    --jp-widgets-label-color: white;\n",
       "                    --jp-ui-font-color1: white;\n",
       "                    --jp-layout-color2: #454545;\n",
       "                    background-color: #383838;\n",
       "                }\n",
       "\n",
       "                .geemap-dark .jupyter-button {\n",
       "                    --jp-layout-color3: #383838;\n",
       "                }\n",
       "\n",
       "                .geemap-colab {\n",
       "                    background-color: var(--colab-primary-surface-color, white);\n",
       "                }\n",
       "\n",
       "                .geemap-colab .jupyter-button {\n",
       "                    --jp-layout-color3: var(--colab-primary-surface-color, white);\n",
       "                }\n",
       "            </style>\n",
       "            "
      ],
      "text/plain": [
       "<IPython.core.display.HTML object>"
      ]
     },
     "metadata": {},
     "output_type": "display_data"
    }
   ],
   "source": [
    "# MODIS Evapotranspiration (500m)\n",
    "et = ee.ImageCollection('MODIS/061/MOD16A2') \\\n",
    "    .filterDate('2018-01-01', '2023-12-31') \\\n",
    "    .select('ET') \\\n",
    "    .mean() \\\n",
    "    .multiply(0.1)  # Scale factor\n",
    "# Ends 2023\n",
    "\n",
    "# CHIRPS Precipitation (5km)\n",
    "precip = ee.ImageCollection('UCSB-CHG/CHIRPS/DAILY') \\\n",
    "    .filterDate('2018-01-01', '2024-12-31') \\\n",
    "    .sum()\n",
    "\n",
    "# Compute Aridity Index (Precipitation/ET)\n",
    "aridity = precip.divide(et).rename('aridity')"
   ]
  },
  {
   "cell_type": "markdown",
   "id": "58f591f1-1e3f-494d-baf9-671b71847fa5",
   "metadata": {},
   "source": [
    "#### MODIS Temporal Vegetation Features"
   ]
  },
  {
   "cell_type": "code",
   "execution_count": 7,
   "id": "e1c1f1e7-4dd3-4ff9-823d-521dd4e6ffe9",
   "metadata": {},
   "outputs": [
    {
     "data": {
      "text/html": [
       "\n",
       "            <style>\n",
       "                .geemap-dark {\n",
       "                    --jp-widgets-color: white;\n",
       "                    --jp-widgets-label-color: white;\n",
       "                    --jp-ui-font-color1: white;\n",
       "                    --jp-layout-color2: #454545;\n",
       "                    background-color: #383838;\n",
       "                }\n",
       "\n",
       "                .geemap-dark .jupyter-button {\n",
       "                    --jp-layout-color3: #383838;\n",
       "                }\n",
       "\n",
       "                .geemap-colab {\n",
       "                    background-color: var(--colab-primary-surface-color, white);\n",
       "                }\n",
       "\n",
       "                .geemap-colab .jupyter-button {\n",
       "                    --jp-layout-color3: var(--colab-primary-surface-color, white);\n",
       "                }\n",
       "            </style>\n",
       "            "
      ],
      "text/plain": [
       "<IPython.core.display.HTML object>"
      ]
     },
     "metadata": {},
     "output_type": "display_data"
    }
   ],
   "source": [
    "# MODIS Temporal Features (Phenology)\n",
    "modis_temp = ee.ImageCollection(\"MODIS/061/MCD12Q2\") \\\n",
    "    .filterDate('2018-01-01', '2023-12-31') \\\n",
    "    .select(['Greenup_1', 'Peak_1', 'QA_Overall_1']) \\\n",
    "    .map(lambda img: img.updateMask(img.select('QA_Overall_1').eq(0))) \\\n",
    "    .mean() \\\n",
    "    .resample('bilinear').reproject(crs='EPSG:4326', scale=500)"
   ]
  },
  {
   "cell_type": "code",
   "execution_count": 8,
   "id": "736d294b-703f-4722-9139-1ca1012d1de6",
   "metadata": {},
   "outputs": [
    {
     "data": {
      "text/html": [
       "\n",
       "            <style>\n",
       "                .geemap-dark {\n",
       "                    --jp-widgets-color: white;\n",
       "                    --jp-widgets-label-color: white;\n",
       "                    --jp-ui-font-color1: white;\n",
       "                    --jp-layout-color2: #454545;\n",
       "                    background-color: #383838;\n",
       "                }\n",
       "\n",
       "                .geemap-dark .jupyter-button {\n",
       "                    --jp-layout-color3: #383838;\n",
       "                }\n",
       "\n",
       "                .geemap-colab {\n",
       "                    background-color: var(--colab-primary-surface-color, white);\n",
       "                }\n",
       "\n",
       "                .geemap-colab .jupyter-button {\n",
       "                    --jp-layout-color3: var(--colab-primary-surface-color, white);\n",
       "                }\n",
       "            </style>\n",
       "            "
      ],
      "text/plain": [
       "<IPython.core.display.HTML object>"
      ]
     },
     "metadata": {},
     "output_type": "display_data"
    }
   ],
   "source": [
    "def create_modis_ndvi():\n",
    "    modis = ee.ImageCollection('MODIS/061/MOD13Q1') \\\n",
    "        .filterBounds(angola) \\\n",
    "        .filterDate('2018-01-01', '2024-12-31') \\\n",
    "        .select('NDVI')\n",
    "    ndvi_mean = modis.mean().multiply(0.0001).rename('modis_ndvi_mean')\n",
    "    ndvi_std = modis.reduce(ee.Reducer.stdDev()).multiply(0.0001).rename('modis_ndvi_std')\n",
    "    return ndvi_mean.addBands(ndvi_std)\n",
    "modis_ndvi = create_modis_ndvi()"
   ]
  },
  {
   "cell_type": "markdown",
   "id": "6856e187-8c82-4730-8be7-d30e6760df3b",
   "metadata": {},
   "source": [
    "#### S2 NDVI"
   ]
  },
  {
   "cell_type": "code",
   "execution_count": 9,
   "id": "9255b9a0-22ec-4755-ab00-4951f396e765",
   "metadata": {},
   "outputs": [
    {
     "data": {
      "text/html": [
       "\n",
       "            <style>\n",
       "                .geemap-dark {\n",
       "                    --jp-widgets-color: white;\n",
       "                    --jp-widgets-label-color: white;\n",
       "                    --jp-ui-font-color1: white;\n",
       "                    --jp-layout-color2: #454545;\n",
       "                    background-color: #383838;\n",
       "                }\n",
       "\n",
       "                .geemap-dark .jupyter-button {\n",
       "                    --jp-layout-color3: #383838;\n",
       "                }\n",
       "\n",
       "                .geemap-colab {\n",
       "                    background-color: var(--colab-primary-surface-color, white);\n",
       "                }\n",
       "\n",
       "                .geemap-colab .jupyter-button {\n",
       "                    --jp-layout-color3: var(--colab-primary-surface-color, white);\n",
       "                }\n",
       "            </style>\n",
       "            "
      ],
      "text/plain": [
       "<IPython.core.display.HTML object>"
      ]
     },
     "metadata": {},
     "output_type": "display_data"
    }
   ],
   "source": [
    "def create_lightweight_ndvi():\n",
    "    s2 = ee.ImageCollection('COPERNICUS/S2_SR_HARMONIZED') \\\n",
    "        .filterBounds(angola) \\\n",
    "        .filterDate('2024-01-01', '2024-12-31') \\\n",
    "        .filter(ee.Filter.lt('CLOUDY_PIXEL_PERCENTAGE', 20))\n",
    "    ndvi = s2.map(lambda img: img.normalizedDifference(['B8', 'B4']).rename('ndvi')).median().rename('ndvi_2024')\n",
    "    return ndvi\n",
    "\n",
    "annual_ndvi_2024 = create_lightweight_ndvi()"
   ]
  },
  {
   "cell_type": "code",
   "execution_count": 10,
   "id": "0fd2cfa2-2f9d-40bc-a9e5-5af9c680a4ad",
   "metadata": {},
   "outputs": [
    {
     "data": {
      "text/html": [
       "\n",
       "            <style>\n",
       "                .geemap-dark {\n",
       "                    --jp-widgets-color: white;\n",
       "                    --jp-widgets-label-color: white;\n",
       "                    --jp-ui-font-color1: white;\n",
       "                    --jp-layout-color2: #454545;\n",
       "                    background-color: #383838;\n",
       "                }\n",
       "\n",
       "                .geemap-dark .jupyter-button {\n",
       "                    --jp-layout-color3: #383838;\n",
       "                }\n",
       "\n",
       "                .geemap-colab {\n",
       "                    background-color: var(--colab-primary-surface-color, white);\n",
       "                }\n",
       "\n",
       "                .geemap-colab .jupyter-button {\n",
       "                    --jp-layout-color3: var(--colab-primary-surface-color, white);\n",
       "                }\n",
       "            </style>\n",
       "            "
      ],
      "text/plain": [
       "<IPython.core.display.HTML object>"
      ]
     },
     "metadata": {},
     "output_type": "display_data"
    }
   ],
   "source": [
    "def create_seasonal_ndvi():\n",
    "    s2 = ee.ImageCollection('COPERNICUS/S2_SR_HARMONIZED') \\\n",
    "        .filterBounds(angola) \\\n",
    "        .filterDate('2024-04-01', '2024-09-30') \\\n",
    "        .filter(ee.Filter.lt('CLOUDY_PIXEL_PERCENTAGE', 20))\n",
    "    ndvi = s2.map(lambda img: img.normalizedDifference(['B8', 'B4']).rename('ndvi')).median().rename('ndvi_2024_season')\n",
    "    return ndvi\n",
    "\n",
    "seasonal_ndvi_2024 = create_seasonal_ndvi()"
   ]
  },
  {
   "cell_type": "code",
   "execution_count": 11,
   "id": "82991624-8a6a-441c-970c-44c142e5a295",
   "metadata": {},
   "outputs": [
    {
     "data": {
      "text/html": [
       "\n",
       "            <style>\n",
       "                .geemap-dark {\n",
       "                    --jp-widgets-color: white;\n",
       "                    --jp-widgets-label-color: white;\n",
       "                    --jp-ui-font-color1: white;\n",
       "                    --jp-layout-color2: #454545;\n",
       "                    background-color: #383838;\n",
       "                }\n",
       "\n",
       "                .geemap-dark .jupyter-button {\n",
       "                    --jp-layout-color3: #383838;\n",
       "                }\n",
       "\n",
       "                .geemap-colab {\n",
       "                    background-color: var(--colab-primary-surface-color, white);\n",
       "                }\n",
       "\n",
       "                .geemap-colab .jupyter-button {\n",
       "                    --jp-layout-color3: var(--colab-primary-surface-color, white);\n",
       "                }\n",
       "            </style>\n",
       "            "
      ],
      "text/plain": [
       "<IPython.core.display.HTML object>"
      ]
     },
     "metadata": {},
     "output_type": "display_data"
    }
   ],
   "source": [
    "# Combine into single NDVI image\n",
    "ndvi_features = annual_ndvi_2024 \\\n",
    "    .addBands(seasonal_ndvi_2024) \\\n",
    "    .addBands(modis_ndvi)"
   ]
  },
  {
   "cell_type": "markdown",
   "id": "759ecc0e-416f-4d1b-9b37-bb989163db5a",
   "metadata": {},
   "source": [
    "### Stack all Layers"
   ]
  },
  {
   "cell_type": "code",
   "execution_count": 12,
   "id": "e47b9499-da48-4791-b3b5-71d1f37b1b9b",
   "metadata": {},
   "outputs": [
    {
     "data": {
      "text/html": [
       "\n",
       "            <style>\n",
       "                .geemap-dark {\n",
       "                    --jp-widgets-color: white;\n",
       "                    --jp-widgets-label-color: white;\n",
       "                    --jp-ui-font-color1: white;\n",
       "                    --jp-layout-color2: #454545;\n",
       "                    background-color: #383838;\n",
       "                }\n",
       "\n",
       "                .geemap-dark .jupyter-button {\n",
       "                    --jp-layout-color3: #383838;\n",
       "                }\n",
       "\n",
       "                .geemap-colab {\n",
       "                    background-color: var(--colab-primary-surface-color, white);\n",
       "                }\n",
       "\n",
       "                .geemap-colab .jupyter-button {\n",
       "                    --jp-layout-color3: var(--colab-primary-surface-color, white);\n",
       "                }\n",
       "            </style>\n",
       "            "
      ],
      "text/plain": [
       "<IPython.core.display.HTML object>"
      ]
     },
     "metadata": {},
     "output_type": "display_data"
    },
    {
     "name": "stdout",
     "output_type": "stream",
     "text": [
      "Bands in full_stack_10m: ['ndvi_2024', 'ndvi_2024_season', 'elevation', 'slope', 'tpi', 'landcover', 'modis_ndvi_mean', 'modis_ndvi_std', 'soil_texture', 'ET', 'aridity', 'precip']\n",
      "ndvi_2024: 10 meters\n",
      "ndvi_2024_season: 10 meters\n",
      "elevation: 10 meters\n",
      "slope: 10 meters\n",
      "tpi: 10 meters\n",
      "landcover: 10 meters\n",
      "modis_ndvi_mean: 10 meters\n",
      "modis_ndvi_std: 10 meters\n",
      "soil_texture: 10 meters\n",
      "ET: 10 meters\n",
      "aridity: 10 meters\n",
      "precip: 10 meters\n"
     ]
    }
   ],
   "source": [
    "# --- Helper functions ---\n",
    "def prep_continuous(img):\n",
    "    return img.resample('bilinear').reproject(crs='EPSG:32733', scale=10)\n",
    "\n",
    "def prep_categorical(img):\n",
    "    return img.reproject(crs='EPSG:32733', scale=10)  # Nearest neighbor by default\n",
    "\n",
    "# --- Prepare high-res (10m) bands ---\n",
    "ndvi_2024 = prep_continuous(ndvi_features.select('ndvi_2024'))\n",
    "ndvi_2024_season = prep_continuous(ndvi_features.select('ndvi_2024_season'))\n",
    "elevation = prep_continuous(alos.rename('elevation'))\n",
    "slope_r = prep_continuous(slope)\n",
    "tpi_r = prep_continuous(tpi)\n",
    "landcover_r = prep_categorical(landcover.rename('landcover'))\n",
    "\n",
    "\n",
    "# --- Prepare med-res (250m, upsample to 10m) ---\n",
    "modis_ndvi_mean = prep_continuous(ndvi_features.select('modis_ndvi_mean'))\n",
    "modis_ndvi_std = prep_continuous(ndvi_features.select('modis_ndvi_std'))\n",
    "soil_texture_r = prep_categorical(soil.rename('soil_texture'))\n",
    "et_r = prep_continuous(et)\n",
    "aridity_r = prep_continuous(aridity)\n",
    "\n",
    "# --- Prepare low-res (5km, upsample to 10m) ---\n",
    "precip_r = prep_continuous(precip.rename('precip'))\n",
    "\n",
    "# --- Stack all bands together ---\n",
    "full_stack_10m = ndvi_2024 \\\n",
    "    .addBands(ndvi_2024_season) \\\n",
    "    .addBands(elevation) \\\n",
    "    .addBands(slope_r) \\\n",
    "    .addBands(tpi_r) \\\n",
    "    .addBands(landcover_r) \\\n",
    "    .addBands(modis_ndvi_mean) \\\n",
    "    .addBands(modis_ndvi_std) \\\n",
    "    .addBands(soil_texture_r) \\\n",
    "    .addBands(et_r) \\\n",
    "    .addBands(aridity_r) \\\n",
    "    .addBands(precip_r)\n",
    "\n",
    "# --- Verify all bands are at 10m ---\n",
    "band_names = full_stack_10m.bandNames().getInfo()\n",
    "print('Bands in full_stack_10m:', band_names)\n",
    "for band in band_names:\n",
    "    scale = full_stack_10m.select(band).projection().nominalScale().getInfo()\n",
    "    print(f'{band}: {scale} meters')"
   ]
  },
  {
   "cell_type": "markdown",
   "id": "f990e04e-72ba-4da4-b70d-0ff99aa925e5",
   "metadata": {},
   "source": [
    "### Extract values based on sampling points"
   ]
  },
  {
   "cell_type": "code",
   "execution_count": 81,
   "id": "8afad626-0f06-4f6a-9365-e327bb931b38",
   "metadata": {},
   "outputs": [
    {
     "data": {
      "text/html": [
       "\n",
       "            <style>\n",
       "                .geemap-dark {\n",
       "                    --jp-widgets-color: white;\n",
       "                    --jp-widgets-label-color: white;\n",
       "                    --jp-ui-font-color1: white;\n",
       "                    --jp-layout-color2: #454545;\n",
       "                    background-color: #383838;\n",
       "                }\n",
       "\n",
       "                .geemap-dark .jupyter-button {\n",
       "                    --jp-layout-color3: #383838;\n",
       "                }\n",
       "\n",
       "                .geemap-colab {\n",
       "                    background-color: var(--colab-primary-surface-color, white);\n",
       "                }\n",
       "\n",
       "                .geemap-colab .jupyter-button {\n",
       "                    --jp-layout-color3: var(--colab-primary-surface-color, white);\n",
       "                }\n",
       "            </style>\n",
       "            "
      ],
      "text/plain": [
       "<IPython.core.display.HTML object>"
      ]
     },
     "metadata": {},
     "output_type": "display_data"
    }
   ],
   "source": [
    "def optimized_extraction(points):\n",
    "    # Extract ALL bands at 10m resolution in one step\n",
    "    extracted_data = full_stack_10m.select([\n",
    "        'ndvi_2024', 'ndvi_2024_season',\n",
    "        'elevation', 'slope', 'tpi', 'landcover',\n",
    "        'modis_ndvi_mean', 'modis_ndvi_std',\n",
    "        'soil_texture', 'ET', 'aridity', 'precip'\n",
    "    ]).reduceRegions(\n",
    "        collection=points,\n",
    "        reducer=ee.Reducer.first(),\n",
    "        scale=10  # Single scale for all bands\n",
    "    )\n",
    "    return extracted_data\n",
    "\n",
    "# Usage remains the same\n",
    "training_data = optimized_extraction(points)"
   ]
  },
  {
   "cell_type": "code",
   "execution_count": 82,
   "id": "21a547cc-fb49-416a-ae01-574eee880415",
   "metadata": {},
   "outputs": [
    {
     "data": {
      "text/html": [
       "\n",
       "            <style>\n",
       "                .geemap-dark {\n",
       "                    --jp-widgets-color: white;\n",
       "                    --jp-widgets-label-color: white;\n",
       "                    --jp-ui-font-color1: white;\n",
       "                    --jp-layout-color2: #454545;\n",
       "                    background-color: #383838;\n",
       "                }\n",
       "\n",
       "                .geemap-dark .jupyter-button {\n",
       "                    --jp-layout-color3: #383838;\n",
       "                }\n",
       "\n",
       "                .geemap-colab {\n",
       "                    background-color: var(--colab-primary-surface-color, white);\n",
       "                }\n",
       "\n",
       "                .geemap-colab .jupyter-button {\n",
       "                    --jp-layout-color3: var(--colab-primary-surface-color, white);\n",
       "                }\n",
       "            </style>\n",
       "            "
      ],
      "text/plain": [
       "<IPython.core.display.HTML object>"
      ]
     },
     "metadata": {},
     "output_type": "display_data"
    },
    {
     "name": "stdout",
     "output_type": "stream",
     "text": [
      "['ET', 'aridity', 'class', 'elevation', 'fid', 'field', 'landcover', 'modis_ndvi_mean', 'modis_ndvi_std', 'ndvi_2024', 'ndvi_2024_season', 'precip', 'slope', 'soil_texture', 'tpi']\n"
     ]
    }
   ],
   "source": [
    "# Export & Clean DataFrame\n",
    "df = geemap.ee_to_df(training_data).dropna()\n",
    "\n",
    "# Remove system columns\n",
    "df = df[df.columns[~df.columns.str.startswith('system:')]]\n",
    "\n",
    "# Verify columns\n",
    "print(df.columns.tolist())"
   ]
  },
  {
   "cell_type": "code",
   "execution_count": 83,
   "id": "6136a25a-b048-4203-b8a4-e6c1eb40e7d1",
   "metadata": {},
   "outputs": [
    {
     "data": {
      "text/html": [
       "\n",
       "            <style>\n",
       "                .geemap-dark {\n",
       "                    --jp-widgets-color: white;\n",
       "                    --jp-widgets-label-color: white;\n",
       "                    --jp-ui-font-color1: white;\n",
       "                    --jp-layout-color2: #454545;\n",
       "                    background-color: #383838;\n",
       "                }\n",
       "\n",
       "                .geemap-dark .jupyter-button {\n",
       "                    --jp-layout-color3: #383838;\n",
       "                }\n",
       "\n",
       "                .geemap-colab {\n",
       "                    background-color: var(--colab-primary-surface-color, white);\n",
       "                }\n",
       "\n",
       "                .geemap-colab .jupyter-button {\n",
       "                    --jp-layout-color3: var(--colab-primary-surface-color, white);\n",
       "                }\n",
       "            </style>\n",
       "            "
      ],
      "text/plain": [
       "<IPython.core.display.HTML object>"
      ]
     },
     "metadata": {},
     "output_type": "display_data"
    },
    {
     "name": "stdout",
     "output_type": "stream",
     "text": [
      "294\n"
     ]
    }
   ],
   "source": [
    "print(len(df))\n"
   ]
  },
  {
   "cell_type": "code",
   "execution_count": 84,
   "id": "0612fbcf-cda2-4583-8f72-925fd3ef8ff1",
   "metadata": {},
   "outputs": [
    {
     "data": {
      "text/html": [
       "\n",
       "            <style>\n",
       "                .geemap-dark {\n",
       "                    --jp-widgets-color: white;\n",
       "                    --jp-widgets-label-color: white;\n",
       "                    --jp-ui-font-color1: white;\n",
       "                    --jp-layout-color2: #454545;\n",
       "                    background-color: #383838;\n",
       "                }\n",
       "\n",
       "                .geemap-dark .jupyter-button {\n",
       "                    --jp-layout-color3: #383838;\n",
       "                }\n",
       "\n",
       "                .geemap-colab {\n",
       "                    background-color: var(--colab-primary-surface-color, white);\n",
       "                }\n",
       "\n",
       "                .geemap-colab .jupyter-button {\n",
       "                    --jp-layout-color3: var(--colab-primary-surface-color, white);\n",
       "                }\n",
       "            </style>\n",
       "            "
      ],
      "text/plain": [
       "<IPython.core.display.HTML object>"
      ]
     },
     "metadata": {},
     "output_type": "display_data"
    },
    {
     "data": {
      "text/html": [
       "<div>\n",
       "<style scoped>\n",
       "    .dataframe tbody tr th:only-of-type {\n",
       "        vertical-align: middle;\n",
       "    }\n",
       "\n",
       "    .dataframe tbody tr th {\n",
       "        vertical-align: top;\n",
       "    }\n",
       "\n",
       "    .dataframe thead th {\n",
       "        text-align: right;\n",
       "    }\n",
       "</style>\n",
       "<table border=\"1\" class=\"dataframe\">\n",
       "  <thead>\n",
       "    <tr style=\"text-align: right;\">\n",
       "      <th></th>\n",
       "      <th>ET</th>\n",
       "      <th>aridity</th>\n",
       "      <th>class</th>\n",
       "      <th>elevation</th>\n",
       "      <th>fid</th>\n",
       "      <th>field</th>\n",
       "      <th>landcover</th>\n",
       "      <th>modis_ndvi_mean</th>\n",
       "      <th>modis_ndvi_std</th>\n",
       "      <th>ndvi_2024</th>\n",
       "      <th>ndvi_2024_season</th>\n",
       "      <th>precip</th>\n",
       "      <th>slope</th>\n",
       "      <th>soil_texture</th>\n",
       "      <th>tpi</th>\n",
       "    </tr>\n",
       "  </thead>\n",
       "  <tbody>\n",
       "    <tr>\n",
       "      <th>0</th>\n",
       "      <td>15.819245</td>\n",
       "      <td>431.470581</td>\n",
       "      <td>1</td>\n",
       "      <td>1596</td>\n",
       "      <td>1</td>\n",
       "      <td>0</td>\n",
       "      <td>30</td>\n",
       "      <td>0.580881</td>\n",
       "      <td>0.101225</td>\n",
       "      <td>0.360424</td>\n",
       "      <td>0.355689</td>\n",
       "      <td>6789.705566</td>\n",
       "      <td>0.087670</td>\n",
       "      <td>9</td>\n",
       "      <td>397.789612</td>\n",
       "    </tr>\n",
       "    <tr>\n",
       "      <th>1</th>\n",
       "      <td>18.950357</td>\n",
       "      <td>461.125519</td>\n",
       "      <td>1</td>\n",
       "      <td>1128</td>\n",
       "      <td>2</td>\n",
       "      <td>0</td>\n",
       "      <td>30</td>\n",
       "      <td>0.612091</td>\n",
       "      <td>0.091663</td>\n",
       "      <td>0.562645</td>\n",
       "      <td>0.559514</td>\n",
       "      <td>8677.147461</td>\n",
       "      <td>0.046646</td>\n",
       "      <td>6</td>\n",
       "      <td>-38.275917</td>\n",
       "    </tr>\n",
       "    <tr>\n",
       "      <th>2</th>\n",
       "      <td>13.188731</td>\n",
       "      <td>199.603119</td>\n",
       "      <td>1</td>\n",
       "      <td>137</td>\n",
       "      <td>3</td>\n",
       "      <td>0</td>\n",
       "      <td>20</td>\n",
       "      <td>0.432457</td>\n",
       "      <td>0.120278</td>\n",
       "      <td>0.313387</td>\n",
       "      <td>0.311231</td>\n",
       "      <td>2631.131592</td>\n",
       "      <td>0.385973</td>\n",
       "      <td>6</td>\n",
       "      <td>-747.220032</td>\n",
       "    </tr>\n",
       "    <tr>\n",
       "      <th>3</th>\n",
       "      <td>13.192242</td>\n",
       "      <td>522.936401</td>\n",
       "      <td>1</td>\n",
       "      <td>1448</td>\n",
       "      <td>4</td>\n",
       "      <td>0</td>\n",
       "      <td>20</td>\n",
       "      <td>0.506669</td>\n",
       "      <td>0.110442</td>\n",
       "      <td>0.349949</td>\n",
       "      <td>0.352899</td>\n",
       "      <td>6891.132324</td>\n",
       "      <td>0.161254</td>\n",
       "      <td>9</td>\n",
       "      <td>398.354736</td>\n",
       "    </tr>\n",
       "    <tr>\n",
       "      <th>4</th>\n",
       "      <td>17.825676</td>\n",
       "      <td>342.983917</td>\n",
       "      <td>1</td>\n",
       "      <td>1370</td>\n",
       "      <td>6</td>\n",
       "      <td>0</td>\n",
       "      <td>30</td>\n",
       "      <td>0.622564</td>\n",
       "      <td>0.086424</td>\n",
       "      <td>0.566559</td>\n",
       "      <td>0.554272</td>\n",
       "      <td>6114.166016</td>\n",
       "      <td>0.033309</td>\n",
       "      <td>9</td>\n",
       "      <td>131.096237</td>\n",
       "    </tr>\n",
       "  </tbody>\n",
       "</table>\n",
       "</div>"
      ],
      "text/plain": [
       "          ET     aridity  class  elevation  fid  field  landcover  \\\n",
       "0  15.819245  431.470581      1       1596    1      0         30   \n",
       "1  18.950357  461.125519      1       1128    2      0         30   \n",
       "2  13.188731  199.603119      1        137    3      0         20   \n",
       "3  13.192242  522.936401      1       1448    4      0         20   \n",
       "4  17.825676  342.983917      1       1370    6      0         30   \n",
       "\n",
       "   modis_ndvi_mean  modis_ndvi_std  ndvi_2024  ndvi_2024_season       precip  \\\n",
       "0         0.580881        0.101225   0.360424          0.355689  6789.705566   \n",
       "1         0.612091        0.091663   0.562645          0.559514  8677.147461   \n",
       "2         0.432457        0.120278   0.313387          0.311231  2631.131592   \n",
       "3         0.506669        0.110442   0.349949          0.352899  6891.132324   \n",
       "4         0.622564        0.086424   0.566559          0.554272  6114.166016   \n",
       "\n",
       "      slope  soil_texture         tpi  \n",
       "0  0.087670             9  397.789612  \n",
       "1  0.046646             6  -38.275917  \n",
       "2  0.385973             6 -747.220032  \n",
       "3  0.161254             9  398.354736  \n",
       "4  0.033309             9  131.096237  "
      ]
     },
     "execution_count": 84,
     "metadata": {},
     "output_type": "execute_result"
    }
   ],
   "source": [
    "df.head()"
   ]
  },
  {
   "cell_type": "markdown",
   "id": "1af62807-ec19-4644-9b88-1c3fe1b15172",
   "metadata": {},
   "source": [
    "### _Optional_: Build the RF Model in Python"
   ]
  },
  {
   "cell_type": "code",
   "execution_count": 85,
   "id": "45b3ee25-4a5a-4b6e-a0e3-7393827329e4",
   "metadata": {},
   "outputs": [
    {
     "data": {
      "text/html": [
       "\n",
       "            <style>\n",
       "                .geemap-dark {\n",
       "                    --jp-widgets-color: white;\n",
       "                    --jp-widgets-label-color: white;\n",
       "                    --jp-ui-font-color1: white;\n",
       "                    --jp-layout-color2: #454545;\n",
       "                    background-color: #383838;\n",
       "                }\n",
       "\n",
       "                .geemap-dark .jupyter-button {\n",
       "                    --jp-layout-color3: #383838;\n",
       "                }\n",
       "\n",
       "                .geemap-colab {\n",
       "                    background-color: var(--colab-primary-surface-color, white);\n",
       "                }\n",
       "\n",
       "                .geemap-colab .jupyter-button {\n",
       "                    --jp-layout-color3: var(--colab-primary-surface-color, white);\n",
       "                }\n",
       "            </style>\n",
       "            "
      ],
      "text/plain": [
       "<IPython.core.display.HTML object>"
      ]
     },
     "metadata": {},
     "output_type": "display_data"
    }
   ],
   "source": [
    "# X: all predictor columns (drop identifiers and label)\n",
    "x = df.drop(['fid', 'field', 'ndvi_2024_season', 'soil_texture', 'ndvi_2024', 'modis_ndvi_std', 'modis_ndvi_mean' ], axis=1)\n",
    "\n",
    "# y: label (1 = field, 0 = non-field)\n",
    "y = df['field']"
   ]
  },
  {
   "cell_type": "code",
   "execution_count": 86,
   "id": "10b917c6-fc12-4d5b-8f46-de9a825aeae6",
   "metadata": {
    "scrolled": true
   },
   "outputs": [
    {
     "data": {
      "text/html": [
       "\n",
       "            <style>\n",
       "                .geemap-dark {\n",
       "                    --jp-widgets-color: white;\n",
       "                    --jp-widgets-label-color: white;\n",
       "                    --jp-ui-font-color1: white;\n",
       "                    --jp-layout-color2: #454545;\n",
       "                    background-color: #383838;\n",
       "                }\n",
       "\n",
       "                .geemap-dark .jupyter-button {\n",
       "                    --jp-layout-color3: #383838;\n",
       "                }\n",
       "\n",
       "                .geemap-colab {\n",
       "                    background-color: var(--colab-primary-surface-color, white);\n",
       "                }\n",
       "\n",
       "                .geemap-colab .jupyter-button {\n",
       "                    --jp-layout-color3: var(--colab-primary-surface-color, white);\n",
       "                }\n",
       "            </style>\n",
       "            "
      ],
      "text/plain": [
       "<IPython.core.display.HTML object>"
      ]
     },
     "metadata": {},
     "output_type": "display_data"
    }
   ],
   "source": [
    "# Impute missing values with column medians\n",
    "imputer = SimpleImputer(strategy='median')\n",
    "x = pd.DataFrame(imputer.fit_transform(x), columns=x.columns)"
   ]
  },
  {
   "cell_type": "code",
   "execution_count": 87,
   "id": "e41c6298-470a-4f01-9066-bcdfcb940f12",
   "metadata": {},
   "outputs": [
    {
     "data": {
      "text/html": [
       "\n",
       "            <style>\n",
       "                .geemap-dark {\n",
       "                    --jp-widgets-color: white;\n",
       "                    --jp-widgets-label-color: white;\n",
       "                    --jp-ui-font-color1: white;\n",
       "                    --jp-layout-color2: #454545;\n",
       "                    background-color: #383838;\n",
       "                }\n",
       "\n",
       "                .geemap-dark .jupyter-button {\n",
       "                    --jp-layout-color3: #383838;\n",
       "                }\n",
       "\n",
       "                .geemap-colab {\n",
       "                    background-color: var(--colab-primary-surface-color, white);\n",
       "                }\n",
       "\n",
       "                .geemap-colab .jupyter-button {\n",
       "                    --jp-layout-color3: var(--colab-primary-surface-color, white);\n",
       "                }\n",
       "            </style>\n",
       "            "
      ],
      "text/plain": [
       "<IPython.core.display.HTML object>"
      ]
     },
     "metadata": {},
     "output_type": "display_data"
    }
   ],
   "source": [
    "x_train, x_test, y_train, y_test = train_test_split(\n",
    "    x, y, \n",
    "    test_size=0.3,       # 30% for testing\n",
    "    stratify=y,          # preserve class balance\n",
    "    random_state=42\n",
    ")"
   ]
  },
  {
   "cell_type": "code",
   "execution_count": 106,
   "id": "65abc36a-8f73-46e1-9d76-de6f55ef1dec",
   "metadata": {},
   "outputs": [
    {
     "data": {
      "text/html": [
       "\n",
       "            <style>\n",
       "                .geemap-dark {\n",
       "                    --jp-widgets-color: white;\n",
       "                    --jp-widgets-label-color: white;\n",
       "                    --jp-ui-font-color1: white;\n",
       "                    --jp-layout-color2: #454545;\n",
       "                    background-color: #383838;\n",
       "                }\n",
       "\n",
       "                .geemap-dark .jupyter-button {\n",
       "                    --jp-layout-color3: #383838;\n",
       "                }\n",
       "\n",
       "                .geemap-colab {\n",
       "                    background-color: var(--colab-primary-surface-color, white);\n",
       "                }\n",
       "\n",
       "                .geemap-colab .jupyter-button {\n",
       "                    --jp-layout-color3: var(--colab-primary-surface-color, white);\n",
       "                }\n",
       "            </style>\n",
       "            "
      ],
      "text/plain": [
       "<IPython.core.display.HTML object>"
      ]
     },
     "metadata": {},
     "output_type": "display_data"
    },
    {
     "data": {
      "text/html": [
       "<style>#sk-container-id-2 {\n",
       "  /* Definition of color scheme common for light and dark mode */\n",
       "  --sklearn-color-text: #000;\n",
       "  --sklearn-color-text-muted: #666;\n",
       "  --sklearn-color-line: gray;\n",
       "  /* Definition of color scheme for unfitted estimators */\n",
       "  --sklearn-color-unfitted-level-0: #fff5e6;\n",
       "  --sklearn-color-unfitted-level-1: #f6e4d2;\n",
       "  --sklearn-color-unfitted-level-2: #ffe0b3;\n",
       "  --sklearn-color-unfitted-level-3: chocolate;\n",
       "  /* Definition of color scheme for fitted estimators */\n",
       "  --sklearn-color-fitted-level-0: #f0f8ff;\n",
       "  --sklearn-color-fitted-level-1: #d4ebff;\n",
       "  --sklearn-color-fitted-level-2: #b3dbfd;\n",
       "  --sklearn-color-fitted-level-3: cornflowerblue;\n",
       "\n",
       "  /* Specific color for light theme */\n",
       "  --sklearn-color-text-on-default-background: var(--sg-text-color, var(--theme-code-foreground, var(--jp-content-font-color1, black)));\n",
       "  --sklearn-color-background: var(--sg-background-color, var(--theme-background, var(--jp-layout-color0, white)));\n",
       "  --sklearn-color-border-box: var(--sg-text-color, var(--theme-code-foreground, var(--jp-content-font-color1, black)));\n",
       "  --sklearn-color-icon: #696969;\n",
       "\n",
       "  @media (prefers-color-scheme: dark) {\n",
       "    /* Redefinition of color scheme for dark theme */\n",
       "    --sklearn-color-text-on-default-background: var(--sg-text-color, var(--theme-code-foreground, var(--jp-content-font-color1, white)));\n",
       "    --sklearn-color-background: var(--sg-background-color, var(--theme-background, var(--jp-layout-color0, #111)));\n",
       "    --sklearn-color-border-box: var(--sg-text-color, var(--theme-code-foreground, var(--jp-content-font-color1, white)));\n",
       "    --sklearn-color-icon: #878787;\n",
       "  }\n",
       "}\n",
       "\n",
       "#sk-container-id-2 {\n",
       "  color: var(--sklearn-color-text);\n",
       "}\n",
       "\n",
       "#sk-container-id-2 pre {\n",
       "  padding: 0;\n",
       "}\n",
       "\n",
       "#sk-container-id-2 input.sk-hidden--visually {\n",
       "  border: 0;\n",
       "  clip: rect(1px 1px 1px 1px);\n",
       "  clip: rect(1px, 1px, 1px, 1px);\n",
       "  height: 1px;\n",
       "  margin: -1px;\n",
       "  overflow: hidden;\n",
       "  padding: 0;\n",
       "  position: absolute;\n",
       "  width: 1px;\n",
       "}\n",
       "\n",
       "#sk-container-id-2 div.sk-dashed-wrapped {\n",
       "  border: 1px dashed var(--sklearn-color-line);\n",
       "  margin: 0 0.4em 0.5em 0.4em;\n",
       "  box-sizing: border-box;\n",
       "  padding-bottom: 0.4em;\n",
       "  background-color: var(--sklearn-color-background);\n",
       "}\n",
       "\n",
       "#sk-container-id-2 div.sk-container {\n",
       "  /* jupyter's `normalize.less` sets `[hidden] { display: none; }`\n",
       "     but bootstrap.min.css set `[hidden] { display: none !important; }`\n",
       "     so we also need the `!important` here to be able to override the\n",
       "     default hidden behavior on the sphinx rendered scikit-learn.org.\n",
       "     See: https://github.com/scikit-learn/scikit-learn/issues/21755 */\n",
       "  display: inline-block !important;\n",
       "  position: relative;\n",
       "}\n",
       "\n",
       "#sk-container-id-2 div.sk-text-repr-fallback {\n",
       "  display: none;\n",
       "}\n",
       "\n",
       "div.sk-parallel-item,\n",
       "div.sk-serial,\n",
       "div.sk-item {\n",
       "  /* draw centered vertical line to link estimators */\n",
       "  background-image: linear-gradient(var(--sklearn-color-text-on-default-background), var(--sklearn-color-text-on-default-background));\n",
       "  background-size: 2px 100%;\n",
       "  background-repeat: no-repeat;\n",
       "  background-position: center center;\n",
       "}\n",
       "\n",
       "/* Parallel-specific style estimator block */\n",
       "\n",
       "#sk-container-id-2 div.sk-parallel-item::after {\n",
       "  content: \"\";\n",
       "  width: 100%;\n",
       "  border-bottom: 2px solid var(--sklearn-color-text-on-default-background);\n",
       "  flex-grow: 1;\n",
       "}\n",
       "\n",
       "#sk-container-id-2 div.sk-parallel {\n",
       "  display: flex;\n",
       "  align-items: stretch;\n",
       "  justify-content: center;\n",
       "  background-color: var(--sklearn-color-background);\n",
       "  position: relative;\n",
       "}\n",
       "\n",
       "#sk-container-id-2 div.sk-parallel-item {\n",
       "  display: flex;\n",
       "  flex-direction: column;\n",
       "}\n",
       "\n",
       "#sk-container-id-2 div.sk-parallel-item:first-child::after {\n",
       "  align-self: flex-end;\n",
       "  width: 50%;\n",
       "}\n",
       "\n",
       "#sk-container-id-2 div.sk-parallel-item:last-child::after {\n",
       "  align-self: flex-start;\n",
       "  width: 50%;\n",
       "}\n",
       "\n",
       "#sk-container-id-2 div.sk-parallel-item:only-child::after {\n",
       "  width: 0;\n",
       "}\n",
       "\n",
       "/* Serial-specific style estimator block */\n",
       "\n",
       "#sk-container-id-2 div.sk-serial {\n",
       "  display: flex;\n",
       "  flex-direction: column;\n",
       "  align-items: center;\n",
       "  background-color: var(--sklearn-color-background);\n",
       "  padding-right: 1em;\n",
       "  padding-left: 1em;\n",
       "}\n",
       "\n",
       "\n",
       "/* Toggleable style: style used for estimator/Pipeline/ColumnTransformer box that is\n",
       "clickable and can be expanded/collapsed.\n",
       "- Pipeline and ColumnTransformer use this feature and define the default style\n",
       "- Estimators will overwrite some part of the style using the `sk-estimator` class\n",
       "*/\n",
       "\n",
       "/* Pipeline and ColumnTransformer style (default) */\n",
       "\n",
       "#sk-container-id-2 div.sk-toggleable {\n",
       "  /* Default theme specific background. It is overwritten whether we have a\n",
       "  specific estimator or a Pipeline/ColumnTransformer */\n",
       "  background-color: var(--sklearn-color-background);\n",
       "}\n",
       "\n",
       "/* Toggleable label */\n",
       "#sk-container-id-2 label.sk-toggleable__label {\n",
       "  cursor: pointer;\n",
       "  display: flex;\n",
       "  width: 100%;\n",
       "  margin-bottom: 0;\n",
       "  padding: 0.5em;\n",
       "  box-sizing: border-box;\n",
       "  text-align: center;\n",
       "  align-items: start;\n",
       "  justify-content: space-between;\n",
       "  gap: 0.5em;\n",
       "}\n",
       "\n",
       "#sk-container-id-2 label.sk-toggleable__label .caption {\n",
       "  font-size: 0.6rem;\n",
       "  font-weight: lighter;\n",
       "  color: var(--sklearn-color-text-muted);\n",
       "}\n",
       "\n",
       "#sk-container-id-2 label.sk-toggleable__label-arrow:before {\n",
       "  /* Arrow on the left of the label */\n",
       "  content: \"▸\";\n",
       "  float: left;\n",
       "  margin-right: 0.25em;\n",
       "  color: var(--sklearn-color-icon);\n",
       "}\n",
       "\n",
       "#sk-container-id-2 label.sk-toggleable__label-arrow:hover:before {\n",
       "  color: var(--sklearn-color-text);\n",
       "}\n",
       "\n",
       "/* Toggleable content - dropdown */\n",
       "\n",
       "#sk-container-id-2 div.sk-toggleable__content {\n",
       "  max-height: 0;\n",
       "  max-width: 0;\n",
       "  overflow: hidden;\n",
       "  text-align: left;\n",
       "  /* unfitted */\n",
       "  background-color: var(--sklearn-color-unfitted-level-0);\n",
       "}\n",
       "\n",
       "#sk-container-id-2 div.sk-toggleable__content.fitted {\n",
       "  /* fitted */\n",
       "  background-color: var(--sklearn-color-fitted-level-0);\n",
       "}\n",
       "\n",
       "#sk-container-id-2 div.sk-toggleable__content pre {\n",
       "  margin: 0.2em;\n",
       "  border-radius: 0.25em;\n",
       "  color: var(--sklearn-color-text);\n",
       "  /* unfitted */\n",
       "  background-color: var(--sklearn-color-unfitted-level-0);\n",
       "}\n",
       "\n",
       "#sk-container-id-2 div.sk-toggleable__content.fitted pre {\n",
       "  /* unfitted */\n",
       "  background-color: var(--sklearn-color-fitted-level-0);\n",
       "}\n",
       "\n",
       "#sk-container-id-2 input.sk-toggleable__control:checked~div.sk-toggleable__content {\n",
       "  /* Expand drop-down */\n",
       "  max-height: 200px;\n",
       "  max-width: 100%;\n",
       "  overflow: auto;\n",
       "}\n",
       "\n",
       "#sk-container-id-2 input.sk-toggleable__control:checked~label.sk-toggleable__label-arrow:before {\n",
       "  content: \"▾\";\n",
       "}\n",
       "\n",
       "/* Pipeline/ColumnTransformer-specific style */\n",
       "\n",
       "#sk-container-id-2 div.sk-label input.sk-toggleable__control:checked~label.sk-toggleable__label {\n",
       "  color: var(--sklearn-color-text);\n",
       "  background-color: var(--sklearn-color-unfitted-level-2);\n",
       "}\n",
       "\n",
       "#sk-container-id-2 div.sk-label.fitted input.sk-toggleable__control:checked~label.sk-toggleable__label {\n",
       "  background-color: var(--sklearn-color-fitted-level-2);\n",
       "}\n",
       "\n",
       "/* Estimator-specific style */\n",
       "\n",
       "/* Colorize estimator box */\n",
       "#sk-container-id-2 div.sk-estimator input.sk-toggleable__control:checked~label.sk-toggleable__label {\n",
       "  /* unfitted */\n",
       "  background-color: var(--sklearn-color-unfitted-level-2);\n",
       "}\n",
       "\n",
       "#sk-container-id-2 div.sk-estimator.fitted input.sk-toggleable__control:checked~label.sk-toggleable__label {\n",
       "  /* fitted */\n",
       "  background-color: var(--sklearn-color-fitted-level-2);\n",
       "}\n",
       "\n",
       "#sk-container-id-2 div.sk-label label.sk-toggleable__label,\n",
       "#sk-container-id-2 div.sk-label label {\n",
       "  /* The background is the default theme color */\n",
       "  color: var(--sklearn-color-text-on-default-background);\n",
       "}\n",
       "\n",
       "/* On hover, darken the color of the background */\n",
       "#sk-container-id-2 div.sk-label:hover label.sk-toggleable__label {\n",
       "  color: var(--sklearn-color-text);\n",
       "  background-color: var(--sklearn-color-unfitted-level-2);\n",
       "}\n",
       "\n",
       "/* Label box, darken color on hover, fitted */\n",
       "#sk-container-id-2 div.sk-label.fitted:hover label.sk-toggleable__label.fitted {\n",
       "  color: var(--sklearn-color-text);\n",
       "  background-color: var(--sklearn-color-fitted-level-2);\n",
       "}\n",
       "\n",
       "/* Estimator label */\n",
       "\n",
       "#sk-container-id-2 div.sk-label label {\n",
       "  font-family: monospace;\n",
       "  font-weight: bold;\n",
       "  display: inline-block;\n",
       "  line-height: 1.2em;\n",
       "}\n",
       "\n",
       "#sk-container-id-2 div.sk-label-container {\n",
       "  text-align: center;\n",
       "}\n",
       "\n",
       "/* Estimator-specific */\n",
       "#sk-container-id-2 div.sk-estimator {\n",
       "  font-family: monospace;\n",
       "  border: 1px dotted var(--sklearn-color-border-box);\n",
       "  border-radius: 0.25em;\n",
       "  box-sizing: border-box;\n",
       "  margin-bottom: 0.5em;\n",
       "  /* unfitted */\n",
       "  background-color: var(--sklearn-color-unfitted-level-0);\n",
       "}\n",
       "\n",
       "#sk-container-id-2 div.sk-estimator.fitted {\n",
       "  /* fitted */\n",
       "  background-color: var(--sklearn-color-fitted-level-0);\n",
       "}\n",
       "\n",
       "/* on hover */\n",
       "#sk-container-id-2 div.sk-estimator:hover {\n",
       "  /* unfitted */\n",
       "  background-color: var(--sklearn-color-unfitted-level-2);\n",
       "}\n",
       "\n",
       "#sk-container-id-2 div.sk-estimator.fitted:hover {\n",
       "  /* fitted */\n",
       "  background-color: var(--sklearn-color-fitted-level-2);\n",
       "}\n",
       "\n",
       "/* Specification for estimator info (e.g. \"i\" and \"?\") */\n",
       "\n",
       "/* Common style for \"i\" and \"?\" */\n",
       "\n",
       ".sk-estimator-doc-link,\n",
       "a:link.sk-estimator-doc-link,\n",
       "a:visited.sk-estimator-doc-link {\n",
       "  float: right;\n",
       "  font-size: smaller;\n",
       "  line-height: 1em;\n",
       "  font-family: monospace;\n",
       "  background-color: var(--sklearn-color-background);\n",
       "  border-radius: 1em;\n",
       "  height: 1em;\n",
       "  width: 1em;\n",
       "  text-decoration: none !important;\n",
       "  margin-left: 0.5em;\n",
       "  text-align: center;\n",
       "  /* unfitted */\n",
       "  border: var(--sklearn-color-unfitted-level-1) 1pt solid;\n",
       "  color: var(--sklearn-color-unfitted-level-1);\n",
       "}\n",
       "\n",
       ".sk-estimator-doc-link.fitted,\n",
       "a:link.sk-estimator-doc-link.fitted,\n",
       "a:visited.sk-estimator-doc-link.fitted {\n",
       "  /* fitted */\n",
       "  border: var(--sklearn-color-fitted-level-1) 1pt solid;\n",
       "  color: var(--sklearn-color-fitted-level-1);\n",
       "}\n",
       "\n",
       "/* On hover */\n",
       "div.sk-estimator:hover .sk-estimator-doc-link:hover,\n",
       ".sk-estimator-doc-link:hover,\n",
       "div.sk-label-container:hover .sk-estimator-doc-link:hover,\n",
       ".sk-estimator-doc-link:hover {\n",
       "  /* unfitted */\n",
       "  background-color: var(--sklearn-color-unfitted-level-3);\n",
       "  color: var(--sklearn-color-background);\n",
       "  text-decoration: none;\n",
       "}\n",
       "\n",
       "div.sk-estimator.fitted:hover .sk-estimator-doc-link.fitted:hover,\n",
       ".sk-estimator-doc-link.fitted:hover,\n",
       "div.sk-label-container:hover .sk-estimator-doc-link.fitted:hover,\n",
       ".sk-estimator-doc-link.fitted:hover {\n",
       "  /* fitted */\n",
       "  background-color: var(--sklearn-color-fitted-level-3);\n",
       "  color: var(--sklearn-color-background);\n",
       "  text-decoration: none;\n",
       "}\n",
       "\n",
       "/* Span, style for the box shown on hovering the info icon */\n",
       ".sk-estimator-doc-link span {\n",
       "  display: none;\n",
       "  z-index: 9999;\n",
       "  position: relative;\n",
       "  font-weight: normal;\n",
       "  right: .2ex;\n",
       "  padding: .5ex;\n",
       "  margin: .5ex;\n",
       "  width: min-content;\n",
       "  min-width: 20ex;\n",
       "  max-width: 50ex;\n",
       "  color: var(--sklearn-color-text);\n",
       "  box-shadow: 2pt 2pt 4pt #999;\n",
       "  /* unfitted */\n",
       "  background: var(--sklearn-color-unfitted-level-0);\n",
       "  border: .5pt solid var(--sklearn-color-unfitted-level-3);\n",
       "}\n",
       "\n",
       ".sk-estimator-doc-link.fitted span {\n",
       "  /* fitted */\n",
       "  background: var(--sklearn-color-fitted-level-0);\n",
       "  border: var(--sklearn-color-fitted-level-3);\n",
       "}\n",
       "\n",
       ".sk-estimator-doc-link:hover span {\n",
       "  display: block;\n",
       "}\n",
       "\n",
       "/* \"?\"-specific style due to the `<a>` HTML tag */\n",
       "\n",
       "#sk-container-id-2 a.estimator_doc_link {\n",
       "  float: right;\n",
       "  font-size: 1rem;\n",
       "  line-height: 1em;\n",
       "  font-family: monospace;\n",
       "  background-color: var(--sklearn-color-background);\n",
       "  border-radius: 1rem;\n",
       "  height: 1rem;\n",
       "  width: 1rem;\n",
       "  text-decoration: none;\n",
       "  /* unfitted */\n",
       "  color: var(--sklearn-color-unfitted-level-1);\n",
       "  border: var(--sklearn-color-unfitted-level-1) 1pt solid;\n",
       "}\n",
       "\n",
       "#sk-container-id-2 a.estimator_doc_link.fitted {\n",
       "  /* fitted */\n",
       "  border: var(--sklearn-color-fitted-level-1) 1pt solid;\n",
       "  color: var(--sklearn-color-fitted-level-1);\n",
       "}\n",
       "\n",
       "/* On hover */\n",
       "#sk-container-id-2 a.estimator_doc_link:hover {\n",
       "  /* unfitted */\n",
       "  background-color: var(--sklearn-color-unfitted-level-3);\n",
       "  color: var(--sklearn-color-background);\n",
       "  text-decoration: none;\n",
       "}\n",
       "\n",
       "#sk-container-id-2 a.estimator_doc_link.fitted:hover {\n",
       "  /* fitted */\n",
       "  background-color: var(--sklearn-color-fitted-level-3);\n",
       "}\n",
       "</style><div id=\"sk-container-id-2\" class=\"sk-top-container\"><div class=\"sk-text-repr-fallback\"><pre>RandomForestClassifier(class_weight=&#x27;balanced&#x27;, max_depth=29,\n",
       "                       max_features=&#x27;log2&#x27;, min_samples_split=10,\n",
       "                       n_estimators=256, random_state=42)</pre><b>In a Jupyter environment, please rerun this cell to show the HTML representation or trust the notebook. <br />On GitHub, the HTML representation is unable to render, please try loading this page with nbviewer.org.</b></div><div class=\"sk-container\" hidden><div class=\"sk-item\"><div class=\"sk-estimator fitted sk-toggleable\"><input class=\"sk-toggleable__control sk-hidden--visually\" id=\"sk-estimator-id-2\" type=\"checkbox\" checked><label for=\"sk-estimator-id-2\" class=\"sk-toggleable__label fitted sk-toggleable__label-arrow\"><div><div>RandomForestClassifier</div></div><div><a class=\"sk-estimator-doc-link fitted\" rel=\"noreferrer\" target=\"_blank\" href=\"https://scikit-learn.org/1.6/modules/generated/sklearn.ensemble.RandomForestClassifier.html\">?<span>Documentation for RandomForestClassifier</span></a><span class=\"sk-estimator-doc-link fitted\">i<span>Fitted</span></span></div></label><div class=\"sk-toggleable__content fitted\"><pre>RandomForestClassifier(class_weight=&#x27;balanced&#x27;, max_depth=29,\n",
       "                       max_features=&#x27;log2&#x27;, min_samples_split=10,\n",
       "                       n_estimators=256, random_state=42)</pre></div> </div></div></div></div>"
      ],
      "text/plain": [
       "RandomForestClassifier(class_weight='balanced', max_depth=29,\n",
       "                       max_features='log2', min_samples_split=10,\n",
       "                       n_estimators=256, random_state=42)"
      ]
     },
     "execution_count": 106,
     "metadata": {},
     "output_type": "execute_result"
    }
   ],
   "source": [
    "rf = RandomForestClassifier(\n",
    "    n_estimators=256,        # Number of trees\n",
    "    max_depth=29,            # Limit tree depth to prevent overfitting\n",
    "    class_weight='balanced', # Handle class imbalance\n",
    "    random_state=42,\n",
    "    max_features='log2',\n",
    "    min_samples_split=10,\n",
    ")\n",
    "rf.fit(x_train, y_train)"
   ]
  },
  {
   "cell_type": "code",
   "execution_count": 107,
   "id": "0822b744-f3bd-44b5-b9a3-6bbb8f1ded06",
   "metadata": {},
   "outputs": [
    {
     "data": {
      "text/html": [
       "\n",
       "            <style>\n",
       "                .geemap-dark {\n",
       "                    --jp-widgets-color: white;\n",
       "                    --jp-widgets-label-color: white;\n",
       "                    --jp-ui-font-color1: white;\n",
       "                    --jp-layout-color2: #454545;\n",
       "                    background-color: #383838;\n",
       "                }\n",
       "\n",
       "                .geemap-dark .jupyter-button {\n",
       "                    --jp-layout-color3: #383838;\n",
       "                }\n",
       "\n",
       "                .geemap-colab {\n",
       "                    background-color: var(--colab-primary-surface-color, white);\n",
       "                }\n",
       "\n",
       "                .geemap-colab .jupyter-button {\n",
       "                    --jp-layout-color3: var(--colab-primary-surface-color, white);\n",
       "                }\n",
       "            </style>\n",
       "            "
      ],
      "text/plain": [
       "<IPython.core.display.HTML object>"
      ]
     },
     "metadata": {},
     "output_type": "display_data"
    },
    {
     "name": "stdout",
     "output_type": "stream",
     "text": [
      "Accuracy: 0.87\n",
      "              precision    recall  f1-score   support\n",
      "\n",
      "   Non-field       0.91      0.88      0.90        60\n",
      "       Field       0.77      0.83      0.80        29\n",
      "\n",
      "    accuracy                           0.87        89\n",
      "   macro avg       0.84      0.86      0.85        89\n",
      "weighted avg       0.87      0.87      0.87        89\n",
      "\n"
     ]
    },
    {
     "data": {
      "text/plain": [
       "<sklearn.metrics._plot.confusion_matrix.ConfusionMatrixDisplay at 0x7f7aa2e0dea0>"
      ]
     },
     "execution_count": 107,
     "metadata": {},
     "output_type": "execute_result"
    },
    {
     "data": {
      "image/png": "[encoded data removed]",
      "text/plain": [
       "<Figure size 640x480 with 2 Axes>"
      ]
     },
     "metadata": {},
     "output_type": "display_data"
    }
   ],
   "source": [
    "y_pred = rf.predict(x_test)\n",
    "print(f\"Accuracy: {accuracy_score(y_test, y_pred):.2f}\")\n",
    "print(classification_report(y_test, y_pred, target_names=['Non-field', 'Field']))\n",
    "\n",
    "# Confusion matrix visualization\n",
    "cm = confusion_matrix(y_test, y_pred)\n",
    "ConfusionMatrixDisplay(cm, display_labels=['Non-field', 'Field']).plot()"
   ]
  },
  {
   "cell_type": "code",
   "execution_count": 108,
   "id": "092a8b3a-5f3e-4781-b76d-c5d9c7fb3ccc",
   "metadata": {},
   "outputs": [
    {
     "data": {
      "text/html": [
       "\n",
       "            <style>\n",
       "                .geemap-dark {\n",
       "                    --jp-widgets-color: white;\n",
       "                    --jp-widgets-label-color: white;\n",
       "                    --jp-ui-font-color1: white;\n",
       "                    --jp-layout-color2: #454545;\n",
       "                    background-color: #383838;\n",
       "                }\n",
       "\n",
       "                .geemap-dark .jupyter-button {\n",
       "                    --jp-layout-color3: #383838;\n",
       "                }\n",
       "\n",
       "                .geemap-colab {\n",
       "                    background-color: var(--colab-primary-surface-color, white);\n",
       "                }\n",
       "\n",
       "                .geemap-colab .jupyter-button {\n",
       "                    --jp-layout-color3: var(--colab-primary-surface-color, white);\n",
       "                }\n",
       "            </style>\n",
       "            "
      ],
      "text/plain": [
       "<IPython.core.display.HTML object>"
      ]
     },
     "metadata": {},
     "output_type": "display_data"
    },
    {
     "data": {
      "image/png": "[encoded data removed]",
      "text/plain": [
       "<Figure size 800x600 with 1 Axes>"
      ]
     },
     "metadata": {},
     "output_type": "display_data"
    }
   ],
   "source": [
    "importances = pd.Series(rf.feature_importances_, index=x.columns)\n",
    "importances.sort_values().plot(kind='barh', figsize=(8,6), title='Feature Importances')\n",
    "plt.show()"
   ]
  },
  {
   "cell_type": "code",
   "execution_count": 109,
   "id": "11b39de4-75df-4be5-966e-8f621fece0cc",
   "metadata": {},
   "outputs": [
    {
     "data": {
      "text/html": [
       "\n",
       "            <style>\n",
       "                .geemap-dark {\n",
       "                    --jp-widgets-color: white;\n",
       "                    --jp-widgets-label-color: white;\n",
       "                    --jp-ui-font-color1: white;\n",
       "                    --jp-layout-color2: #454545;\n",
       "                    background-color: #383838;\n",
       "                }\n",
       "\n",
       "                .geemap-dark .jupyter-button {\n",
       "                    --jp-layout-color3: #383838;\n",
       "                }\n",
       "\n",
       "                .geemap-colab {\n",
       "                    background-color: var(--colab-primary-surface-color, white);\n",
       "                }\n",
       "\n",
       "                .geemap-colab .jupyter-button {\n",
       "                    --jp-layout-color3: var(--colab-primary-surface-color, white);\n",
       "                }\n",
       "            </style>\n",
       "            "
      ],
      "text/plain": [
       "<IPython.core.display.HTML object>"
      ]
     },
     "metadata": {},
     "output_type": "display_data"
    },
    {
     "data": {
      "text/plain": [
       "['./RF_Model/field_detection_rf_model_04.joblib']"
      ]
     },
     "execution_count": 109,
     "metadata": {},
     "output_type": "execute_result"
    }
   ],
   "source": [
    "#Save RF Model\n",
    "joblib.dump(rf, './RF_Model/field_detection_rf_model_04.joblib')  # Saves: model + metadat"
   ]
  },
  {
   "cell_type": "markdown",
   "id": "c8c66745-385b-4f69-885a-35e896adcd97",
   "metadata": {},
   "source": [
    "#### Hyperparameter Tuning"
   ]
  },
  {
   "cell_type": "code",
   "execution_count": 103,
   "id": "7516e8f6-2dae-4f6d-8d53-e53061312924",
   "metadata": {},
   "outputs": [
    {
     "data": {
      "text/html": [
       "\n",
       "            <style>\n",
       "                .geemap-dark {\n",
       "                    --jp-widgets-color: white;\n",
       "                    --jp-widgets-label-color: white;\n",
       "                    --jp-ui-font-color1: white;\n",
       "                    --jp-layout-color2: #454545;\n",
       "                    background-color: #383838;\n",
       "                }\n",
       "\n",
       "                .geemap-dark .jupyter-button {\n",
       "                    --jp-layout-color3: #383838;\n",
       "                }\n",
       "\n",
       "                .geemap-colab {\n",
       "                    background-color: var(--colab-primary-surface-color, white);\n",
       "                }\n",
       "\n",
       "                .geemap-colab .jupyter-button {\n",
       "                    --jp-layout-color3: var(--colab-primary-surface-color, white);\n",
       "                }\n",
       "            </style>\n",
       "            "
      ],
      "text/plain": [
       "<IPython.core.display.HTML object>"
      ]
     },
     "metadata": {},
     "output_type": "display_data"
    },
    {
     "name": "stdout",
     "output_type": "stream",
     "text": [
      "Best hyperparameters: {'class_weight': 'balanced_subsample', 'max_depth': 29, 'max_features': 'sqrt', 'min_samples_split': 10, 'n_estimators': 256}\n"
     ]
    }
   ],
   "source": [
    "param_dist = {\n",
    "    'n_estimators': randint(100, 500),\n",
    "    'max_depth': randint(5, 30),\n",
    "    'min_samples_split': randint(2, 20),\n",
    "    'max_features': ['sqrt', 'log2', None],\n",
    "    'class_weight': ['balanced', 'balanced_subsample']\n",
    "}\n",
    "\n",
    "rand_search = RandomizedSearchCV(\n",
    "    RandomForestClassifier(n_jobs=-1, random_state=42),\n",
    "    param_distributions=param_dist,\n",
    "    n_iter=50,  # Increased from 10\n",
    "    cv=5,\n",
    "    scoring='roc_auc',\n",
    "    random_state=42\n",
    ")\n",
    "rand_search.fit(x_train, y_train)\n",
    "\n",
    "print('Best hyperparameters:', rand_search.best_params_)\n",
    "best_rf = rand_search.best_estimator_"
   ]
  },
  {
   "cell_type": "markdown",
   "id": "842d78e8-1db6-469c-8229-83cf6f773968",
   "metadata": {},
   "source": [
    "<br>\n",
    "\n",
    "---\n",
    "\n",
    "<br>"
   ]
  },
  {
   "cell_type": "markdown",
   "id": "385b74bc-6822-46ab-a1ea-e722f6012745",
   "metadata": {},
   "source": [
    "# **Section 3: Extract Predictors for Entire Study Area based on Tiles in GEE**"
   ]
  },
  {
   "cell_type": "markdown",
   "id": "fad3f684-6f4e-4f9d-9446-77a4729ffd4d",
   "metadata": {},
   "source": [
    "### Load Tiles in GEE"
   ]
  },
  {
   "cell_type": "code",
   "execution_count": 14,
   "id": "40ef0593-2be8-495f-a473-1f9615997fe8",
   "metadata": {},
   "outputs": [
    {
     "data": {
      "text/html": [
       "\n",
       "            <style>\n",
       "                .geemap-dark {\n",
       "                    --jp-widgets-color: white;\n",
       "                    --jp-widgets-label-color: white;\n",
       "                    --jp-ui-font-color1: white;\n",
       "                    --jp-layout-color2: #454545;\n",
       "                    background-color: #383838;\n",
       "                }\n",
       "\n",
       "                .geemap-dark .jupyter-button {\n",
       "                    --jp-layout-color3: #383838;\n",
       "                }\n",
       "\n",
       "                .geemap-colab {\n",
       "                    background-color: var(--colab-primary-surface-color, white);\n",
       "                }\n",
       "\n",
       "                .geemap-colab .jupyter-button {\n",
       "                    --jp-layout-color3: var(--colab-primary-surface-color, white);\n",
       "                }\n",
       "            </style>\n",
       "            "
      ],
      "text/plain": [
       "<IPython.core.display.HTML object>"
      ]
     },
     "metadata": {},
     "output_type": "display_data"
    },
    {
     "name": "stdout",
     "output_type": "stream",
     "text": [
      "36496\n"
     ]
    }
   ],
   "source": [
    "# Load Angola Tiles\n",
    "tiles = ee.FeatureCollection('projects/angola-thesis/assets/angola_tiles_non_overlap_crop_filtered')\n",
    "\n",
    "# Check if assets exist\n",
    "print(tiles.size().getInfo()) "
   ]
  },
  {
   "cell_type": "markdown",
   "id": "f2edc171-7418-4487-970f-2d3e5ee13655",
   "metadata": {},
   "source": [
    "### Add 'Class' Attribute from Sampling Points to Prediction Stack"
   ]
  },
  {
   "cell_type": "code",
   "execution_count": 15,
   "id": "c9d5d426-4a60-40b7-80dc-d758588e6577",
   "metadata": {},
   "outputs": [
    {
     "data": {
      "text/html": [
       "\n",
       "            <style>\n",
       "                .geemap-dark {\n",
       "                    --jp-widgets-color: white;\n",
       "                    --jp-widgets-label-color: white;\n",
       "                    --jp-ui-font-color1: white;\n",
       "                    --jp-layout-color2: #454545;\n",
       "                    background-color: #383838;\n",
       "                }\n",
       "\n",
       "                .geemap-dark .jupyter-button {\n",
       "                    --jp-layout-color3: #383838;\n",
       "                }\n",
       "\n",
       "                .geemap-colab {\n",
       "                    background-color: var(--colab-primary-surface-color, white);\n",
       "                }\n",
       "\n",
       "                .geemap-colab .jupyter-button {\n",
       "                    --jp-layout-color3: var(--colab-primary-surface-color, white);\n",
       "                }\n",
       "            </style>\n",
       "            "
      ],
      "text/plain": [
       "<IPython.core.display.HTML object>"
      ]
     },
     "metadata": {},
     "output_type": "display_data"
    },
    {
     "name": "stdout",
     "output_type": "stream",
     "text": [
      "['ndvi_2024', 'ndvi_2024_season', 'elevation', 'slope', 'tpi', 'landcover', 'modis_ndvi_mean', 'modis_ndvi_std', 'soil_texture', 'ET', 'aridity', 'precip', 'class']\n"
     ]
    }
   ],
   "source": [
    "# Load your class raster\n",
    "class_raster = ee.Image('projects/angola-thesis/assets/intersect_fractional_lc').rename('class')\n",
    "\n",
    "# Add to your stack (as the last band, or in the correct order as used in training)\n",
    "full_stack_10m = full_stack_10m.addBands(class_raster)\n",
    "print(full_stack_10m.bandNames().getInfo())"
   ]
  },
  {
   "cell_type": "markdown",
   "id": "db1e6c95-cc50-4eae-84d5-3191a48ba176",
   "metadata": {},
   "source": [
    "### Build RF model in GEE"
   ]
  },
  {
   "cell_type": "code",
   "execution_count": 16,
   "id": "429a99a8-36fb-4a94-9347-778a8362398f",
   "metadata": {},
   "outputs": [
    {
     "data": {
      "text/html": [
       "\n",
       "            <style>\n",
       "                .geemap-dark {\n",
       "                    --jp-widgets-color: white;\n",
       "                    --jp-widgets-label-color: white;\n",
       "                    --jp-ui-font-color1: white;\n",
       "                    --jp-layout-color2: #454545;\n",
       "                    background-color: #383838;\n",
       "                }\n",
       "\n",
       "                .geemap-dark .jupyter-button {\n",
       "                    --jp-layout-color3: #383838;\n",
       "                }\n",
       "\n",
       "                .geemap-colab {\n",
       "                    background-color: var(--colab-primary-surface-color, white);\n",
       "                }\n",
       "\n",
       "                .geemap-colab .jupyter-button {\n",
       "                    --jp-layout-color3: var(--colab-primary-surface-color, white);\n",
       "                }\n",
       "            </style>\n",
       "            "
      ],
      "text/plain": [
       "<IPython.core.display.HTML object>"
      ]
     },
     "metadata": {},
     "output_type": "display_data"
    },
    {
     "name": "stdout",
     "output_type": "stream",
     "text": [
      "Class distribution: {'0': 194, '1': 95}\n"
     ]
    }
   ],
   "source": [
    "important_bands = [\n",
    "    'elevation', 'slope', 'tpi', 'landcover',\n",
    "    'ET', 'aridity', 'precip', 'class'\n",
    "]\n",
    "\n",
    "training_data = full_stack_10m.select(important_bands).sampleRegions(\n",
    "    collection=points,\n",
    "    properties=['field'],\n",
    "    scale=10,\n",
    "    geometries=False\n",
    ")\n",
    "\n",
    "class_dist = training_data.aggregate_histogram('field').getInfo()\n",
    "print(\"Class distribution:\", class_dist)"
   ]
  },
  {
   "cell_type": "markdown",
   "id": "afe6b646-6aab-464b-b5d7-b1708e1a479f",
   "metadata": {},
   "source": [
    "#### Add weights to Training Data to Balance Class Imbalances"
   ]
  },
  {
   "cell_type": "code",
   "execution_count": 20,
   "id": "deb9a00a-0fb9-463a-a8dc-2cb415133a50",
   "metadata": {},
   "outputs": [
    {
     "data": {
      "text/html": [
       "\n",
       "            <style>\n",
       "                .geemap-dark {\n",
       "                    --jp-widgets-color: white;\n",
       "                    --jp-widgets-label-color: white;\n",
       "                    --jp-ui-font-color1: white;\n",
       "                    --jp-layout-color2: #454545;\n",
       "                    background-color: #383838;\n",
       "                }\n",
       "\n",
       "                .geemap-dark .jupyter-button {\n",
       "                    --jp-layout-color3: #383838;\n",
       "                }\n",
       "\n",
       "                .geemap-colab {\n",
       "                    background-color: var(--colab-primary-surface-color, white);\n",
       "                }\n",
       "\n",
       "                .geemap-colab .jupyter-button {\n",
       "                    --jp-layout-color3: var(--colab-primary-surface-color, white);\n",
       "                }\n",
       "            </style>\n",
       "            "
      ],
      "text/plain": [
       "<IPython.core.display.HTML object>"
      ]
     },
     "metadata": {},
     "output_type": "display_data"
    }
   ],
   "source": [
    "# Calculate class distribution\n",
    "class_dist = training_data.aggregate_histogram('field').getInfo()\n",
    "total_samples = sum(class_dist.values())\n",
    "\n",
    "# Assign weights inversely proportional to class frequency\n",
    "weights = {int(k): total_samples/(len(class_dist)*v) for k, v in class_dist.items()}\n",
    "\n",
    "# Add weights to training data\n",
    "def add_weights(feature):\n",
    "    class_value = feature.get('field')\n",
    "    weight = ee.Number(weights.get(class_value, 1))\n",
    "    return feature.set({'classWeights': weight})\n",
    "\n",
    "training_data = training_data.map(add_weights)"
   ]
  },
  {
   "cell_type": "markdown",
   "id": "9e1831ad-65e7-43bc-a747-71e735542248",
   "metadata": {},
   "source": [
    "#### Train Random Forest Classifier"
   ]
  },
  {
   "cell_type": "code",
   "execution_count": 19,
   "id": "a566a944-5a13-48ab-8c8a-9f3c33e01904",
   "metadata": {},
   "outputs": [
    {
     "data": {
      "text/html": [
       "\n",
       "            <style>\n",
       "                .geemap-dark {\n",
       "                    --jp-widgets-color: white;\n",
       "                    --jp-widgets-label-color: white;\n",
       "                    --jp-ui-font-color1: white;\n",
       "                    --jp-layout-color2: #454545;\n",
       "                    background-color: #383838;\n",
       "                }\n",
       "\n",
       "                .geemap-dark .jupyter-button {\n",
       "                    --jp-layout-color3: #383838;\n",
       "                }\n",
       "\n",
       "                .geemap-colab {\n",
       "                    background-color: var(--colab-primary-surface-color, white);\n",
       "                }\n",
       "\n",
       "                .geemap-colab .jupyter-button {\n",
       "                    --jp-layout-color3: var(--colab-primary-surface-color, white);\n",
       "                }\n",
       "            </style>\n",
       "            "
      ],
      "text/plain": [
       "<IPython.core.display.HTML object>"
      ]
     },
     "metadata": {},
     "output_type": "display_data"
    },
    {
     "name": "stdout",
     "output_type": "stream",
     "text": [
      "Classifier export started. Wait for completion before predicting tiles.\n"
     ]
    }
   ],
   "source": [
    "ee_classifier = ee.Classifier.smileRandomForest(\n",
    "    numberOfTrees=256,\n",
    "    variablesPerSplit=4,\n",
    "    maxNodes=1000,  # Allow deeper trees\n",
    "    minLeafPopulation=10,\n",
    "    bagFraction=0.632,  # Match sklearn's default\n",
    "    seed=42\n",
    ").train(\n",
    "    features=training_data,\n",
    "    classProperty='field',\n",
    "    inputProperties=important_bands\n",
    ")\n",
    "\n",
    "# Export classifier as an asset (run once)\n",
    "ee.batch.Export.classifier.toAsset(\n",
    "    classifier=ee_classifier,\n",
    "    description='ExportRFModel',\n",
    "    assetId='projects/angola-thesis/assets/Predictions/crop_classifier_test_09'\n",
    ").start()\n",
    "print(\"Classifier export started. Wait for completion before predicting tiles.\")"
   ]
  },
  {
   "cell_type": "markdown",
   "id": "641071cc-6b30-4b11-8416-26b7802947c8",
   "metadata": {},
   "source": [
    "#### Show Statistics"
   ]
  },
  {
   "cell_type": "code",
   "execution_count": 20,
   "id": "8b3d9c91-fa45-4b84-a419-aabc4d0f94ba",
   "metadata": {},
   "outputs": [
    {
     "data": {
      "text/html": [
       "\n",
       "            <style>\n",
       "                .geemap-dark {\n",
       "                    --jp-widgets-color: white;\n",
       "                    --jp-widgets-label-color: white;\n",
       "                    --jp-ui-font-color1: white;\n",
       "                    --jp-layout-color2: #454545;\n",
       "                    background-color: #383838;\n",
       "                }\n",
       "\n",
       "                .geemap-dark .jupyter-button {\n",
       "                    --jp-layout-color3: #383838;\n",
       "                }\n",
       "\n",
       "                .geemap-colab {\n",
       "                    background-color: var(--colab-primary-surface-color, white);\n",
       "                }\n",
       "\n",
       "                .geemap-colab .jupyter-button {\n",
       "                    --jp-layout-color3: var(--colab-primary-surface-color, white);\n",
       "                }\n",
       "            </style>\n",
       "            "
      ],
      "text/plain": [
       "<IPython.core.display.HTML object>"
      ]
     },
     "metadata": {},
     "output_type": "display_data"
    },
    {
     "name": "stdout",
     "output_type": "stream",
     "text": [
      "Confusion matrix: [[182, 12], [29, 66]]\n",
      "Overall accuracy: 0.8581314878892734\n",
      "Producers accuracy: [[0.9381443298969072], [0.6947368421052632]]\n",
      "Users accuracy: [[0.8625592417061612, 0.8461538461538461]]\n"
     ]
    }
   ],
   "source": [
    "# Get the confusion matrix object\n",
    "conf_matrix = ee_classifier.confusionMatrix()\n",
    "\n",
    "# Assign values to Python variables\n",
    "conf_matrix_values = conf_matrix.getInfo()  # 2D list (confusion matrix)\n",
    "overall_accuracy = conf_matrix.accuracy().getInfo()  # float\n",
    "producers_accuracy = conf_matrix.producersAccuracy().getInfo()  # list of floats\n",
    "users_accuracy = conf_matrix.consumersAccuracy().getInfo()  # list of floats\n",
    "\n",
    "# Example: print to verify\n",
    "print('Confusion matrix:', conf_matrix_values)\n",
    "print('Overall accuracy:', overall_accuracy)\n",
    "print('Producers accuracy:', producers_accuracy)\n",
    "print('Users accuracy:', users_accuracy)"
   ]
  },
  {
   "cell_type": "code",
   "execution_count": 28,
   "id": "5a12cbdc-17fc-44b4-962a-cc4125d018c0",
   "metadata": {},
   "outputs": [
    {
     "data": {
      "text/html": [
       "\n",
       "            <style>\n",
       "                .geemap-dark {\n",
       "                    --jp-widgets-color: white;\n",
       "                    --jp-widgets-label-color: white;\n",
       "                    --jp-ui-font-color1: white;\n",
       "                    --jp-layout-color2: #454545;\n",
       "                    background-color: #383838;\n",
       "                }\n",
       "\n",
       "                .geemap-dark .jupyter-button {\n",
       "                    --jp-layout-color3: #383838;\n",
       "                }\n",
       "\n",
       "                .geemap-colab {\n",
       "                    background-color: var(--colab-primary-surface-color, white);\n",
       "                }\n",
       "\n",
       "                .geemap-colab .jupyter-button {\n",
       "                    --jp-layout-color3: var(--colab-primary-surface-color, white);\n",
       "                }\n",
       "            </style>\n",
       "            "
      ],
      "text/plain": [
       "<IPython.core.display.HTML object>"
      ]
     },
     "metadata": {},
     "output_type": "display_data"
    },
    {
     "name": "stdout",
     "output_type": "stream",
     "text": [
      "              precision    recall  f1-score   support\n",
      "\n",
      "   Non-field       0.86      0.94      0.90       194\n",
      "       Field       0.85      0.69      0.76       95\n",
      "\n",
      "    accuracy                           0.86       289\n",
      "   macro avg       0.85      0.82      0.83       289\n",
      "weighted avg       0.86      0.86      0.85       289\n"
     ]
    }
   ],
   "source": [
    "# Convert to numpy array\n",
    "cm = np.array(conf_matrix_values)\n",
    "\n",
    "# Define class names\n",
    "class_names = ['Non-field', 'Field']  # Update as needed\n",
    "\n",
    "# Calculate per-class metrics\n",
    "def calculate_class_metrics(conf_matrix, class_names):\n",
    "    # True Positives, False Positives, False Negatives for each class\n",
    "    TP = np.diag(conf_matrix)\n",
    "    FP = np.sum(conf_matrix, axis=0) - TP\n",
    "    FN = np.sum(conf_matrix, axis=1) - TP\n",
    "    \n",
    "    # Calculate metrics\n",
    "    precision = TP / (TP + FP + 1e-10)  # Avoid division by zero\n",
    "    recall = TP / (TP + FN + 1e-10)\n",
    "    f1 = 2 * precision * recall / (precision + recall + 1e-10)\n",
    "    support = np.sum(conf_matrix, axis=1)\n",
    "    \n",
    "    return precision, recall, f1, support\n",
    "\n",
    "# Calculate metrics\n",
    "precision, recall, f1, support = calculate_class_metrics(cm, class_names)\n",
    "\n",
    "# Print results in sklearn-style format\n",
    "print(f\"              precision    recall  f1-score   support\\n\")\n",
    "for i, class_name in enumerate(class_names):\n",
    "    print(f\"{class_name:>12}       {precision[i]:.2f}      {recall[i]:.2f}      {f1[i]:.2f}       {support[i]}\")\n",
    "\n",
    "print(f\"\\n    accuracy                           {overall_accuracy:.2f}       {np.sum(support)}\")\n",
    "\n",
    "# Calculate macro and weighted averages\n",
    "macro_precision = np.mean(precision)\n",
    "macro_recall = np.mean(recall)\n",
    "macro_f1 = np.mean(f1)\n",
    "\n",
    "weighted_precision = np.average(precision, weights=support)\n",
    "weighted_recall = np.average(recall, weights=support)\n",
    "weighted_f1 = np.average(f1, weights=support)\n",
    "\n",
    "print(f\"   macro avg       {macro_precision:.2f}      {macro_recall:.2f}      {macro_f1:.2f}       {np.sum(support)}\")\n",
    "print(f\"weighted avg       {weighted_precision:.2f}      {weighted_recall:.2f}      {weighted_f1:.2f}       {np.sum(support)}\")"
   ]
  },
  {
   "cell_type": "code",
   "execution_count": 31,
   "id": "4224570a-9114-4232-b368-12536cbea544",
   "metadata": {},
   "outputs": [
    {
     "data": {
      "text/html": [
       "\n",
       "            <style>\n",
       "                .geemap-dark {\n",
       "                    --jp-widgets-color: white;\n",
       "                    --jp-widgets-label-color: white;\n",
       "                    --jp-ui-font-color1: white;\n",
       "                    --jp-layout-color2: #454545;\n",
       "                    background-color: #383838;\n",
       "                }\n",
       "\n",
       "                .geemap-dark .jupyter-button {\n",
       "                    --jp-layout-color3: #383838;\n",
       "                }\n",
       "\n",
       "                .geemap-colab {\n",
       "                    background-color: var(--colab-primary-surface-color, white);\n",
       "                }\n",
       "\n",
       "                .geemap-colab .jupyter-button {\n",
       "                    --jp-layout-color3: var(--colab-primary-surface-color, white);\n",
       "                }\n",
       "            </style>\n",
       "            "
      ],
      "text/plain": [
       "<IPython.core.display.HTML object>"
      ]
     },
     "metadata": {},
     "output_type": "display_data"
    },
    {
     "data": {
      "image/png": "[encoded data removed]",
      "text/plain": [
       "<Figure size 600x500 with 2 Axes>"
      ]
     },
     "metadata": {},
     "output_type": "display_data"
    }
   ],
   "source": [
    "# Your confusion matrix and class names\n",
    "cm = np.array(conf_matrix_values)\n",
    "class_names = ['Non-field', 'Field'] \n",
    "\n",
    "plt.figure(figsize=(6, 5))\n",
    "sns.heatmap(\n",
    "    cm,\n",
    "    annot=True,\n",
    "    fmt='d',\n",
    "    cmap='inferno',\n",
    "    xticklabels=class_names,\n",
    "    yticklabels=class_names\n",
    ")\n",
    "plt.ylabel('True label')\n",
    "plt.xlabel(f'Predicted label\\naccuracy={overall_accuracy:.4f}')\n",
    "plt.title('Confusion Matrix')\n",
    "\n",
    "# Save Conf Matrix\n",
    "plt.savefig('/home/airg/PSteinhilber/projects/angola/prediction/FP_Analysis_Raster/exports/confusion_matrix.png', dpi=300, bbox_inches='tight')\n",
    "plt.show()"
   ]
  },
  {
   "cell_type": "code",
   "execution_count": 21,
   "id": "c3431212-a629-4202-bb31-867acb61e5f7",
   "metadata": {},
   "outputs": [
    {
     "data": {
      "text/html": [
       "\n",
       "            <style>\n",
       "                .geemap-dark {\n",
       "                    --jp-widgets-color: white;\n",
       "                    --jp-widgets-label-color: white;\n",
       "                    --jp-ui-font-color1: white;\n",
       "                    --jp-layout-color2: #454545;\n",
       "                    background-color: #383838;\n",
       "                }\n",
       "\n",
       "                .geemap-dark .jupyter-button {\n",
       "                    --jp-layout-color3: #383838;\n",
       "                }\n",
       "\n",
       "                .geemap-colab {\n",
       "                    background-color: var(--colab-primary-surface-color, white);\n",
       "                }\n",
       "\n",
       "                .geemap-colab .jupyter-button {\n",
       "                    --jp-layout-color3: var(--colab-primary-surface-color, white);\n",
       "                }\n",
       "            </style>\n",
       "            "
      ],
      "text/plain": [
       "<IPython.core.display.HTML object>"
      ]
     },
     "metadata": {},
     "output_type": "display_data"
    },
    {
     "data": {
      "image/png": "[encoded data removed]",
      "text/plain": [
       "<Figure size 1000x600 with 1 Axes>"
      ]
     },
     "metadata": {},
     "output_type": "display_data"
    }
   ],
   "source": [
    "explanation = ee_classifier.explain()\n",
    "importance = explanation.get('importance').getInfo()  # This is now a Python dict\n",
    "\n",
    "# Sort by importance descending\n",
    "sorted_items = sorted(importance.items(), key=lambda x: x[1], reverse=True)\n",
    "variables, importances = zip(*sorted_items)\n",
    "\n",
    "# Set font sizes globally for all elements\n",
    "plt.rc('font', size=18)          # Default text size\n",
    "plt.rc('axes', titlesize=22)     # Axes title font size\n",
    "plt.rc('axes', labelsize=18)     # Axes labels font size\n",
    "plt.rc('xtick', labelsize=16)    # X tick labels font size\n",
    "plt.rc('ytick', labelsize=16)    # Y tick labels font size\n",
    "plt.rc('legend', fontsize=16)    # Legend font size\n",
    "plt.rc('figure', titlesize=24)   # Figure title font size\n",
    "\n",
    "plt.figure(figsize=(10, 6))\n",
    "plt.bar(variables, importances, color='blue')\n",
    "plt.ylabel('Variable Importance')\n",
    "plt.xlabel('Variables')\n",
    "plt.title('Random Forest Variable Importance')\n",
    "plt.xticks(rotation=45)\n",
    "plt.tight_layout()\n",
    "\n",
    "# Save Plot\n",
    "plt.savefig('/home/airg/PSteinhilber/projects/angola/prediction/FP_Analysis_Raster/exports/variable_importance.png', dpi=300, bbox_inches='tight')\n",
    "plt.show()"
   ]
  },
  {
   "cell_type": "markdown",
   "id": "7d687338-803e-411f-876d-66b12e833c3e",
   "metadata": {},
   "source": [
    "### Predict Test Tile with RF Model"
   ]
  },
  {
   "cell_type": "code",
   "execution_count": 22,
   "id": "7081fcce-31f5-423e-8592-30e3814a63a6",
   "metadata": {},
   "outputs": [
    {
     "data": {
      "text/html": [
       "\n",
       "            <style>\n",
       "                .geemap-dark {\n",
       "                    --jp-widgets-color: white;\n",
       "                    --jp-widgets-label-color: white;\n",
       "                    --jp-ui-font-color1: white;\n",
       "                    --jp-layout-color2: #454545;\n",
       "                    background-color: #383838;\n",
       "                }\n",
       "\n",
       "                .geemap-dark .jupyter-button {\n",
       "                    --jp-layout-color3: #383838;\n",
       "                }\n",
       "\n",
       "                .geemap-colab {\n",
       "                    background-color: var(--colab-primary-surface-color, white);\n",
       "                }\n",
       "\n",
       "                .geemap-colab .jupyter-button {\n",
       "                    --jp-layout-color3: var(--colab-primary-surface-color, white);\n",
       "                }\n",
       "            </style>\n",
       "            "
      ],
      "text/plain": [
       "<IPython.core.display.HTML object>"
      ]
     },
     "metadata": {},
     "output_type": "display_data"
    },
    {
     "name": "stdout",
     "output_type": "stream",
     "text": [
      "Asset export started for tile 907535.\n"
     ]
    }
   ],
   "source": [
    "classifier_asset = 'projects/angola-thesis/assets/Predictions/crop_classifier_test_09'\n",
    "rf_classifier = ee.Classifier.load(classifier_asset)\n",
    "tile_ids = [907535]\n",
    "\n",
    "for tile_id in tile_ids:\n",
    "    selected_tile = tiles.filter(ee.Filter.eq('tile', tile_id))\n",
    "    prediction = full_stack_10m.select(important_bands) \\\n",
    "                              .clip(selected_tile.geometry()) \\\n",
    "                              .reproject('EPSG:32733', scale=10) \\\n",
    "                              .classify(rf_classifier)\n",
    "    # Export to EE Asset\n",
    "    task_asset = ee.batch.Export.image.toAsset(\n",
    "        image=prediction,\n",
    "        description=f'Prediction_{tile_id}_Asset',\n",
    "        assetId=f'projects/angola-thesis/assets/Predictions/tile_{tile_id}',\n",
    "        region=selected_tile.geometry(),\n",
    "        scale=10,\n",
    "        crs='EPSG:32733',\n",
    "        maxPixels=1e13\n",
    "    )\n",
    "    task_asset.start()\n",
    "    print(f\"Asset export started for tile {tile_id}.\")"
   ]
  },
  {
   "cell_type": "markdown",
   "id": "ea506650-9541-4695-a0bb-34afc4d34744",
   "metadata": {},
   "source": [
    "#### Visualize Test Prediction"
   ]
  },
  {
   "cell_type": "code",
   "execution_count": 24,
   "id": "95eb91ed-3b2c-452a-a765-997556f4a61b",
   "metadata": {},
   "outputs": [
    {
     "data": {
      "text/html": [
       "\n",
       "            <style>\n",
       "                .geemap-dark {\n",
       "                    --jp-widgets-color: white;\n",
       "                    --jp-widgets-label-color: white;\n",
       "                    --jp-ui-font-color1: white;\n",
       "                    --jp-layout-color2: #454545;\n",
       "                    background-color: #383838;\n",
       "                }\n",
       "\n",
       "                .geemap-dark .jupyter-button {\n",
       "                    --jp-layout-color3: #383838;\n",
       "                }\n",
       "\n",
       "                .geemap-colab {\n",
       "                    background-color: var(--colab-primary-surface-color, white);\n",
       "                }\n",
       "\n",
       "                .geemap-colab .jupyter-button {\n",
       "                    --jp-layout-color3: var(--colab-primary-surface-color, white);\n",
       "                }\n",
       "            </style>\n",
       "            "
      ],
      "text/plain": [
       "<IPython.core.display.HTML object>"
      ]
     },
     "metadata": {},
     "output_type": "display_data"
    },
    {
     "data": {
      "application/vnd.jupyter.widget-view+json": {
       "model_id": "cf377d94128545af8eb9ec34fe452fea",
       "version_major": 2,
       "version_minor": 0
      },
      "text/plain": [
       "Map(center=[-15.284998419691945, 19.184000304984533], controls=(WidgetControl(options=['position', 'transparen…"
      ]
     },
     "execution_count": 24,
     "metadata": {},
     "output_type": "execute_result"
    }
   ],
   "source": [
    "# Initialize the map\n",
    "Map = geemap.Map()\n",
    "\n",
    "# Loop over all tile IDs and add each as a layer\n",
    "for tile_id in tile_ids:\n",
    "    prediction_asset = f'projects/angola-thesis/assets/Predictions/tile_{tile_id}'\n",
    "    prediction_img = ee.Image(prediction_asset)\n",
    "    Map.addLayer(prediction_img, {'min': 0, 'max': 1, 'palette': ['red', 'green']}, f'Tile {tile_id}')\n",
    "\n",
    "# Optionally center the map on the first tile\n",
    "selected_tile = tiles.filter(ee.Filter.eq('tile', tile_ids[0]))\n",
    "Map.centerObject(selected_tile.geometry(), 12)\n",
    "\n",
    "#Display all predictor Variables\n",
    "#for band in band_order:\n",
    "    #Map.addLayer(full_stack_10m.select(band).mask(), {'min': 0, 'max': 1, 'palette': ['black', 'white']}, f'{band} mask')\n",
    "\n",
    "Map"
   ]
  },
  {
   "cell_type": "markdown",
   "id": "5bf1a325-3d7c-4dfb-973a-3696a0956078",
   "metadata": {},
   "source": [
    "#### Export Prediction from GEE to Drive"
   ]
  },
  {
   "cell_type": "code",
   "execution_count": 23,
   "id": "e1f3d958-eb10-4a86-b682-e34bcb1d606b",
   "metadata": {},
   "outputs": [
    {
     "data": {
      "text/html": [
       "\n",
       "            <style>\n",
       "                .geemap-dark {\n",
       "                    --jp-widgets-color: white;\n",
       "                    --jp-widgets-label-color: white;\n",
       "                    --jp-ui-font-color1: white;\n",
       "                    --jp-layout-color2: #454545;\n",
       "                    background-color: #383838;\n",
       "                }\n",
       "\n",
       "                .geemap-dark .jupyter-button {\n",
       "                    --jp-layout-color3: #383838;\n",
       "                }\n",
       "\n",
       "                .geemap-colab {\n",
       "                    background-color: var(--colab-primary-surface-color, white);\n",
       "                }\n",
       "\n",
       "                .geemap-colab .jupyter-button {\n",
       "                    --jp-layout-color3: var(--colab-primary-surface-color, white);\n",
       "                }\n",
       "            </style>\n",
       "            "
      ],
      "text/plain": [
       "<IPython.core.display.HTML object>"
      ]
     },
     "metadata": {},
     "output_type": "display_data"
    },
    {
     "name": "stdout",
     "output_type": "stream",
     "text": [
      "Drive export started for tile 907535.\n"
     ]
    }
   ],
   "source": [
    "no_data_val = -9999\n",
    "\n",
    "for tile_id in tile_ids:\n",
    "    selected_tile = tiles.filter(ee.Filter.eq('tile', tile_id))\n",
    "    # Recompute prediction for Drive export (critical!)\n",
    "    prediction = full_stack_10m.select(important_bands) \\\n",
    "                              .clip(selected_tile.geometry()) \\\n",
    "                              .reproject('EPSG:32733', scale=10) \\\n",
    "                              .classify(rf_classifier)\n",
    "    prediction_unmasked = prediction.unmask(no_data_val).toFloat()\n",
    "    \n",
    "    # Export to Google Drive\n",
    "    task_drive = ee.batch.Export.image.toDrive(\n",
    "        image=prediction_unmasked,\n",
    "        description=f'Prediction_{tile_id}_Drive',\n",
    "        folder='GEE_Exports',\n",
    "        fileNamePrefix=f'prediction_tile_{tile_id}',\n",
    "        region=selected_tile.geometry(),\n",
    "        scale=10,\n",
    "        crs='EPSG:32733',\n",
    "        maxPixels=1e13,\n",
    "        fileFormat='GeoTIFF',\n",
    "        formatOptions={'noData': no_data_val}\n",
    "    )\n",
    "    task_drive.start()\n",
    "    print(f\"Drive export started for tile {tile_id}.\")"
   ]
  },
  {
   "cell_type": "markdown",
   "id": "f860ff91-80de-42eb-9135-f217ee3ca6d2",
   "metadata": {},
   "source": [
    "### Prediction on Entire Stury Area"
   ]
  },
  {
   "cell_type": "code",
   "execution_count": 26,
   "id": "267f7ebb-8079-4cdc-83a2-16debdb126d7",
   "metadata": {},
   "outputs": [
    {
     "data": {
      "text/html": [
       "\n",
       "            <style>\n",
       "                .geemap-dark {\n",
       "                    --jp-widgets-color: white;\n",
       "                    --jp-widgets-label-color: white;\n",
       "                    --jp-ui-font-color1: white;\n",
       "                    --jp-layout-color2: #454545;\n",
       "                    background-color: #383838;\n",
       "                }\n",
       "\n",
       "                .geemap-dark .jupyter-button {\n",
       "                    --jp-layout-color3: #383838;\n",
       "                }\n",
       "\n",
       "                .geemap-colab {\n",
       "                    background-color: var(--colab-primary-surface-color, white);\n",
       "                }\n",
       "\n",
       "                .geemap-colab .jupyter-button {\n",
       "                    --jp-layout-color3: var(--colab-primary-surface-color, white);\n",
       "                }\n",
       "            </style>\n",
       "            "
      ],
      "text/plain": [
       "<IPython.core.display.HTML object>"
      ]
     },
     "metadata": {},
     "output_type": "display_data"
    },
    {
     "name": "stdout",
     "output_type": "stream",
     "text": [
      "Full study area export started. Check tasks tab.\n"
     ]
    }
   ],
   "source": [
    "# Load your study area geometry\n",
    "\n",
    "study_area = ee.FeatureCollection('projects/angola-thesis/assets/angola_tiles_dissolve')\n",
    "\n",
    "# Apply the classifier to the entire region\n",
    "full_prediction = full_stack_10m.select(important_bands) \\\n",
    "    .classify(rf_classifier) \\\n",
    "    .clip(study_area) \\\n",
    "    .reproject('EPSG:32733', scale=10) \\\n",
    "    .unmask(no_data_val, sameFootprint=False).toFloat()\n",
    "\n",
    "task = ee.batch.Export.image.toDrive(\n",
    "    image=full_prediction,\n",
    "    description='Full_Study_Area_Prediction',\n",
    "    folder='GEE_Exports',\n",
    "    fileNamePrefix='study_area_pred_',\n",
    "    region=study_area.geometry(),\n",
    "    scale=10,\n",
    "    crs='EPSG:32733',\n",
    "    maxPixels=1e13,\n",
    "    fileDimensions=[32768, 32768],\n",
    "    skipEmptyTiles=True\n",
    ")\n",
    "task.start()\n",
    "print(\"Full study area export started. Check tasks tab.\")\n"
   ]
  },
  {
   "cell_type": "code",
   "execution_count": null,
   "id": "5bb53eff-4266-47de-889d-e0ad8bf7142f",
   "metadata": {},
   "outputs": [],
   "source": []
  }
 ],
 "metadata": {
  "kernelspec": {
   "display_name": "Python 3 (ipykernel)",
   "language": "python",
   "name": "python3"
  },
  "language_info": {
   "codemirror_mode": {
    "name": "ipython",
    "version": 3
   },
   "file_extension": ".py",
   "mimetype": "text/x-python",
   "name": "python",
   "nbconvert_exporter": "python",
   "pygments_lexer": "ipython3",
   "version": "3.10.16"
  }
 },
 "nbformat": 4,
 "nbformat_minor": 5
}
